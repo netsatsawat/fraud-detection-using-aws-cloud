{
 "cells": [
  {
   "cell_type": "markdown",
   "id": "f900ca9d-c46b-4550-98e2-2d2125723b16",
   "metadata": {},
   "source": [
    "# Introduction to Amazon Fraud Detector\n",
    "---\n",
    "\n",
    "**[Amazon Fraud Detector](https://aws.amazon.com/fraud-detector/)** is a fully managed fraud detection service that automates the detection of potentially *fraudulent activities online*. These activities can be unauthorized transaction, creation of fake accounts, or fraud claim. Amazon Fraud Detector works by using machine learning to analyze your data. It does this in a way that builds off of the seasoned expertise of more than 20 years of fraud detection at Amazon.\n",
    "\n",
    "You can use Amazon Fraud Detector to build customized fraud-detection models, add decision logic to interpret the model’s fraud evaluations, and assign outcomes such as pass or send for review for each possible fraud evaluation. With Amazon Fraud Detector, you <u>don't need machine learning expertise</u> to detect fraudulent activities.\n",
    "\n",
    "For more details, please visit the [documentation](https://docs.aws.amazon.com/frauddetector/latest/ug/what-is-frauddetector.html).\n"
   ]
  },
  {
   "cell_type": "markdown",
   "id": "358f679e-542b-4371-a170-957f3d16d597",
   "metadata": {},
   "source": [
    "## About dataset...\n",
    "---\n",
    "\n",
    "In this notebook demonstration, we will be using **Auto Insurance** claim data, with 100k observations. The data is provided and is kept in `../data/` folder.\n"
   ]
  },
  {
   "cell_type": "markdown",
   "id": "a878ee9d-4309-48c5-ba5d-3621e6e47cce",
   "metadata": {},
   "source": [
    "## Set up"
   ]
  },
  {
   "cell_type": "code",
   "execution_count": null,
   "id": "c108c687-ded3-4230-90ca-98c6d2a225d0",
   "metadata": {
    "tags": []
   },
   "outputs": [],
   "source": [
    "%pip install --upgrade pip awscli botocore boto3 sagemaker --quiet --root-user-action=ignore\n",
    "%pip install Jinja2 awswrangler jsonpath-ng --quiet --root-user-action=ignore"
   ]
  },
  {
   "cell_type": "markdown",
   "id": "4c2f24e8-2309-417b-a386-759f2054de67",
   "metadata": {},
   "source": [
    "## Data Exploration\n",
    "---\n",
    "\n",
    "Let's quickly go through our sample dataset."
   ]
  },
  {
   "cell_type": "code",
   "execution_count": null,
   "id": "36b9b6ed-7533-47e0-ac89-70864b9d7648",
   "metadata": {
    "tags": []
   },
   "outputs": [],
   "source": [
    "import pandas as pd\n",
    "import boto3\n",
    "import sagemaker\n",
    "import numpy as np\n",
    "\n",
    "# Change this according to your S3 location\n",
    "S3_BUCKET_NM = sagemaker.Session().default_bucket()\n",
    "S3_PREFIX = 'amazon-fraud-detector'"
   ]
  },
  {
   "cell_type": "code",
   "execution_count": null,
   "id": "31c5393d-24fd-4b92-a2e0-a15ae7547dc1",
   "metadata": {
    "tags": []
   },
   "outputs": [],
   "source": [
    "df = pd.read_csv('../data/Insurance_FraudulentAutoInsuranceClaims_100k.csv')\n",
    "print(df.shape)\n",
    "display(df.head(3))"
   ]
  },
  {
   "cell_type": "code",
   "execution_count": null,
   "id": "3a4287b2-b1b8-4260-be63-b236436230e9",
   "metadata": {
    "tags": []
   },
   "outputs": [],
   "source": [
    "print(np.unique(df['EVENT_LABEL'], return_counts=True))"
   ]
  },
  {
   "cell_type": "markdown",
   "id": "b5af2f9e-3692-4830-a432-0b300ab45637",
   "metadata": {},
   "source": [
    "### Split data into Train and test"
   ]
  },
  {
   "cell_type": "code",
   "execution_count": null,
   "id": "f83be117-c950-4906-bc32-c3c51fde9c32",
   "metadata": {
    "tags": []
   },
   "outputs": [],
   "source": [
    "from sklearn.model_selection import train_test_split\n",
    "\n",
    "train_df, test_df = train_test_split(df, test_size=0.2)\n",
    "print(f'''\n",
    "Train label distribution: {np.unique(train_df.EVENT_LABEL, return_counts=True)[1] / train_df.shape[0]}\n",
    "Train label distribution: {np.unique(test_df.EVENT_LABEL, return_counts=True)[1] / test_df.shape[0]}\n",
    "''')"
   ]
  },
  {
   "cell_type": "code",
   "execution_count": null,
   "id": "cfdf5d34-2843-4f8d-ac92-56a9d0e0d85c",
   "metadata": {
    "tags": []
   },
   "outputs": [],
   "source": [
    "train_df.to_csv('../data/auto_insurance_fraud_train.csv', index=False, header=True)\n",
    "test_df.to_csv('../data/auto_insurance_fraud_test.csv', index=False, header=True)"
   ]
  },
  {
   "cell_type": "markdown",
   "id": "48d11726-367d-4ed2-9389-0506c84c107a",
   "metadata": {},
   "source": [
    "Write to Amazon S3"
   ]
  },
  {
   "cell_type": "code",
   "execution_count": null,
   "id": "e49921cf-0326-4aca-8944-71af00190b0d",
   "metadata": {
    "tags": []
   },
   "outputs": [],
   "source": [
    "train_df.to_csv(f's3://{S3_BUCKET_NM}/{S3_PREFIX}/train/auto_insurance_fraud_train.csv', index=False, header=True)\n",
    "test_df.to_csv(f's3://{S3_BUCKET_NM}/{S3_PREFIX}/test/auto_insurance_fraud_test.csv', index=False, header=True)"
   ]
  },
  {
   "cell_type": "markdown",
   "id": "a8617433-77c3-4a6d-9195-2b2348bb6078",
   "metadata": {},
   "source": [
    "### Prepare the configuration file"
   ]
  },
  {
   "cell_type": "code",
   "execution_count": null,
   "id": "11780e6e-876a-493a-b6ce-1324522e960f",
   "metadata": {},
   "outputs": [],
   "source": [
    "RECIPE = {\n",
    "    \"Insurance_FraudulentAutoInsuranceClaims\": \n",
    "    {\n",
    "        \"data_path\": \"train/auto_insurance_fraud_train.csv\",\n",
    "        \"variable_mappings\": [\n",
    "            {\n",
    "                \"variable_name\": \"first_name\",\n",
    "                \"variable_type\": \"SHIPPING_NAME\",\n",
    "                \"data_type\": \"STRING\"\n",
    "            },\n",
    "            {\n",
    "                \"variable_name\": \"last_name\",\n",
    "                \"variable_type\": \"BILLING_NAME\",\n",
    "                \"data_type\": \"STRING\"\n",
    "            },\n",
    "            {\n",
    "                \"variable_name\": \"policy_id\",\n",
    "                \"variable_type\": \"ORDER_ID\",\n",
    "                \"data_type\": \"STRING\"\n",
    "            },\n",
    "            {\n",
    "                \"variable_name\": \"policy_deductable\",\n",
    "                \"variable_type\": \"NUMERIC\",\n",
    "                \"data_type\": \"FLOAT\"\n",
    "            },\n",
    "            {\n",
    "                \"variable_name\": \"customer_age\",\n",
    "                \"variable_type\": \"NUMERIC\",\n",
    "                \"data_type\": \"FLOAT\"\n",
    "            },\n",
    "            {\n",
    "                \"variable_name\": \"policy_annual_premium\",\n",
    "                \"variable_type\": \"NUMERIC\",\n",
    "                \"data_type\": \"FLOAT\"\n",
    "            },\n",
    "            {\n",
    "                \"variable_name\": \"incident_severity\",\n",
    "                \"variable_type\": \"NUMERIC\",\n",
    "                \"data_type\": \"FLOAT\"\n",
    "            },\n",
    "            {\n",
    "                \"variable_name\": \"vehicle_claim\",\n",
    "                \"variable_type\": \"NUMERIC\",\n",
    "                \"data_type\": \"FLOAT\"\n",
    "            },\n",
    "            {\n",
    "                \"variable_name\": \"incident_hour\",\n",
    "                \"variable_type\": \"NUMERIC\",\n",
    "                \"data_type\": \"FLOAT\"\n",
    "            },\n",
    "            {\n",
    "                \"variable_name\": \"num_injuries\",\n",
    "                \"variable_type\": \"NUMERIC\",\n",
    "                \"data_type\": \"FLOAT\"\n",
    "            },\n",
    "            {\n",
    "                \"variable_name\": \"num_claims_past_year\",\n",
    "                \"variable_type\": \"NUMERIC\",\n",
    "                \"data_type\": \"FLOAT\"\n",
    "            },\n",
    "            {\n",
    "                \"variable_name\": \"injury_claim\",\n",
    "                \"variable_type\": \"NUMERIC\",\n",
    "                \"data_type\": \"FLOAT\"\n",
    "            },\n",
    "            {\n",
    "                \"variable_name\": \"num_vehicles_involved\",\n",
    "                \"variable_type\": \"NUMERIC\",\n",
    "                \"data_type\": \"FLOAT\"\n",
    "            },\n",
    "            {\n",
    "                \"variable_name\": \"num_witnesses\",\n",
    "                \"variable_type\": \"NUMERIC\",\n",
    "                \"data_type\": \"FLOAT\"\n",
    "            },\n",
    "            {\n",
    "                \"variable_name\": \"incident_type\",\n",
    "                \"variable_type\": \"CATEGORICAL\",\n",
    "                \"data_type\": \"STRING\"\n",
    "            },\n",
    "            {\n",
    "                \"variable_name\": \"police_report_available\",\n",
    "                \"variable_type\": \"CATEGORICAL\",\n",
    "                \"data_type\": \"STRING\"\n",
    "            }\n",
    "        ],\n",
    "        \"label_mappings\": {\n",
    "            \"FRAUD\": [\"fraud\"],\n",
    "            \"LEGIT\": [\"legit\"]\n",
    "        },\n",
    "    }\n",
    "}"
   ]
  },
  {
   "cell_type": "markdown",
   "id": "f725c4c8-5d4f-4e97-a910-a8ae245d5cdb",
   "metadata": {},
   "source": [
    "## Amazon Fraud Detector"
   ]
  },
  {
   "cell_type": "markdown",
   "id": "75f187e3-0050-4783-82cc-f83dad110026",
   "metadata": {},
   "source": [
    "### Set up parameters"
   ]
  },
  {
   "cell_type": "code",
   "execution_count": null,
   "id": "3fcb6e0e-8388-4739-8618-dffd17ae70f1",
   "metadata": {
    "tags": []
   },
   "outputs": [],
   "source": [
    "fraud_use_case = 'Insurance_FraudulentAutoInsuranceClaims'\n",
    "config_file = RECIPE[fraud_use_case]"
   ]
  },
  {
   "cell_type": "markdown",
   "id": "8f1c53d4-4a75-4052-8716-a121653cda4d",
   "metadata": {},
   "source": [
    "Set up IAM role"
   ]
  },
  {
   "cell_type": "code",
   "execution_count": null,
   "id": "5e0e9539-28ae-4310-86ef-ed74fd3cb77c",
   "metadata": {
    "tags": []
   },
   "outputs": [],
   "source": [
    "sts_client = boto3.client('sts')\n",
    "ACCT_NUM = sts_client.get_caller_identity().get('Account')"
   ]
  },
  {
   "cell_type": "code",
   "execution_count": null,
   "id": "5b8bdd1c-99be-457b-8e28-2563bab717a8",
   "metadata": {
    "tags": []
   },
   "outputs": [],
   "source": [
    "__trust_policy__ = \"\"\"{\n",
    "  \"Version\": \"2012-10-17\",\n",
    "  \"Statement\": [\n",
    "    {\n",
    "      \"Sid\": \"\",\n",
    "      \"Effect\": \"Allow\",\n",
    "      \"Principal\": {\n",
    "        \"Service\": \"frauddetector.amazonaws.com\"\n",
    "      },\n",
    "      \"Action\": \"sts:AssumeRole\"\n",
    "    }\n",
    "  ]\n",
    "}\n",
    "\"\"\"\n",
    "\n",
    "__managed_policy__ = \"\"\"{\n",
    "    \"Version\": \"2012-10-17\",\n",
    "    \"Statement\": [\n",
    "        {\n",
    "            \"Effect\": \"Allow\",\n",
    "            \"Action\": [\n",
    "                \"frauddetector:*\"\n",
    "            ],\n",
    "            \"Resource\": \"*\"\n",
    "        },\n",
    "        {\n",
    "            \"Effect\": \"Allow\",\n",
    "            \"Action\": [\n",
    "                \"sagemaker:*\",\n",
    "                \"sagemaker-geospatial:*\"\n",
    "            ],\n",
    "            \"Resource\": \"*\"\n",
    "        },\n",
    "        {\n",
    "            \"Effect\": \"Allow\",\n",
    "            \"Action\": [\n",
    "                \"s3:*\",\n",
    "                \"s3-object-lambda:*\"\n",
    "            ],\n",
    "            \"Resource\": \"*\"\n",
    "        }\n",
    "    ]\n",
    "}\n",
    "\"\"\"\n",
    "\n",
    "print(\n",
    "    __managed_policy__, \n",
    "    file=open('afd-managed-policy.json', 'w')\n",
    ")\n",
    "\n",
    "print(\n",
    "    __trust_policy__, \n",
    "    file=open('afd-trust-policy.json', 'w')\n",
    ")\n",
    "\n",
    "AFD_ROLE = 'AWSFraudDetectorServiceRole-demoAutoInsuranceClaim'"
   ]
  },
  {
   "cell_type": "code",
   "execution_count": null,
   "id": "5c1d9acd-aa09-4ce9-8ae6-005f587b9315",
   "metadata": {
    "tags": []
   },
   "outputs": [],
   "source": [
    "%%sh -s \"$AFD_ROLE\"\n",
    "echo $1\n",
    "afd_role=\"$1\"\n",
    "managed_policy_name=\"managed_policy-$afd_role\"\n",
    "echo $managed_policy_name\n",
    "aws iam create-role --role-name $afd_role --assume-role-policy-document file://afd-trust-policy.json\n",
    "output=$(aws iam create-policy --policy-document file://afd-managed-policy.json --policy-name $managed_policy_name)\n",
    "arn=$(echo \"$output\" | grep -oP '\"Arn\": \"\\K[^\"]+')\n",
    "echo \"$arn\"\n",
    "aws iam attach-role-policy --policy-arn $arn --role-name $afd_role"
   ]
  },
  {
   "cell_type": "code",
   "execution_count": null,
   "id": "f5016f76-5268-4762-b7f1-62b5971a91dc",
   "metadata": {
    "tags": []
   },
   "outputs": [],
   "source": [
    "iam_client = boto3.client('iam')\n",
    "iam_resp = iam_client.get_role(\n",
    "    RoleName=AFD_ROLE,\n",
    ")"
   ]
  },
  {
   "cell_type": "markdown",
   "id": "b54be82b-0e32-400d-a7bd-eb2534110dd0",
   "metadata": {},
   "source": [
    "<div class=\"alert alert-block alert-info\">\n",
    "    <b>Remark</b>: You need to ensure that this role can access <b>Amazon Fraud Detector</b> and <b>Amazon S3</b>.\n",
    "</div>"
   ]
  },
  {
   "cell_type": "code",
   "execution_count": null,
   "id": "10cde51c-1cec-4442-9cb2-1df90aebbfc2",
   "metadata": {
    "tags": []
   },
   "outputs": [],
   "source": [
    "IAM_ROLE = iam_resp['Role']['Arn']\n",
    "EVENT_VARIABLES = [variable[\"variable_name\"] for variable in config_file[\"variable_mappings\"]]\n",
    "EVENT_LABELS = [\"fraud\", \"legit\"]"
   ]
  },
  {
   "cell_type": "code",
   "execution_count": null,
   "id": "4e92141c-fa68-40f6-b2e6-3a25aaca38d1",
   "metadata": {
    "tags": []
   },
   "outputs": [],
   "source": [
    "pd.DataFrame(config_file[\"variable_mappings\"])"
   ]
  },
  {
   "cell_type": "code",
   "execution_count": null,
   "id": "67826194-70f3-4fbd-a2aa-92289ca89698",
   "metadata": {
    "tags": []
   },
   "outputs": [],
   "source": [
    "s3_client = boto3.client('s3')\n",
    "data_path = config_file['data_path']\n",
    "resp = s3_client.list_objects_v2(\n",
    "    Bucket=S3_BUCKET_NM, \n",
    "    Prefix=os.path.join(S3_PREFIX, data_path)\n",
    ")\n",
    "\n",
    "if resp['KeyCount'] == 0:\n",
    "    s3_client.put_object(\n",
    "        Bucket=S3_BUCKET_NM, \n",
    "        Key=os.path.join(S3_PREFIX, data_path),\n",
    "        Body=open(f'../{data_path}', 'rb')\n",
    "    )\n",
    "    \n",
    "S3_DATA_PATH = \"s3://\" + os.path.join(S3_BUCKET_NM, S3_PREFIX, data_path)\n",
    "print(S3_DATA_PATH)"
   ]
  },
  {
   "cell_type": "markdown",
   "id": "641d16fa-e468-4e6f-8a47-505359069317",
   "metadata": {},
   "source": [
    "### Create variables and label\n",
    "---\n",
    "\n",
    "The first components for Amazon Fraud Detector is to create variables. A **variable** is a data element from your dataset that you want to use to create event type, model, and rules.\n",
    "\n",
    "The `create_variable` method from boto3. You will need to map each variable to its data type. When you specify the variable type, Amazon Fraud Detector interprets the variable during <u>model training</u> and when <u>getting predictions</u>. **Only variables with an associated variable type can be used for model training**.\n",
    "\n",
    "<br>\n",
    "    \n",
    "A **label** classifies an event as **fraudulent** or **legitimate** and is used to train the fraud detection model. The model learns to classify events using these label values. The `put_label` method from boto3 is used to create 2 labels, fraud and legit.\n"
   ]
  },
  {
   "cell_type": "code",
   "execution_count": null,
   "id": "5a6678b9-d07c-4506-a869-0f074a1a3e09",
   "metadata": {
    "tags": []
   },
   "outputs": [],
   "source": [
    "afd_client = boto3.client('frauddetector')"
   ]
  },
  {
   "cell_type": "code",
   "execution_count": null,
   "id": "c685d81e-51bd-4bb0-ae1c-0ef02d82ce79",
   "metadata": {
    "tags": []
   },
   "outputs": [],
   "source": [
    "for variable in config_file[\"variable_mappings\"]:\n",
    "    # Loop through our variable config files\n",
    "    DEFAULT_VALUE = '0.0' if variable[\"data_type\"] == \"FLOAT\" else '<null>'\n",
    "    \n",
    "    try:\n",
    "        resp = afd_client.get_variables(name=variable[\"variable_name\"])\n",
    "        print(\n",
    "            'variable {0} exists, data type: {1}'.format(variable['variable_name'], resp['variables'][0]['dataType'])\n",
    "        )\n",
    "    \n",
    "    except:\n",
    "        print(\n",
    "            'Creating variable: {0}'.format(variable['variable_name'])\n",
    "        )\n",
    "        resp = afd_client.create_variable(\n",
    "            name=variable['variable_name'],\n",
    "            dataType=variable['data_type'],\n",
    "            dataSource='EVENT',\n",
    "            defaultValue=DEFAULT_VALUE,\n",
    "            description=variable['variable_name'],\n",
    "            variableType=variable['variable_type']\n",
    "        )\n",
    "        \n",
    "    \n",
    "        \n",
    "resp = afd_client.put_label(\n",
    "    name='fraud',\n",
    "    description='FRAUD'\n",
    ")\n",
    "\n",
    "resp = afd_client.put_label(\n",
    "    name='legit',\n",
    "    description='LEGIT'\n",
    ")"
   ]
  },
  {
   "cell_type": "markdown",
   "id": "7ac28e66-b2e3-45f4-9d3f-8ab135d91f08",
   "metadata": {},
   "source": [
    "### Create Entity Type and Event Type\n",
    "---\n",
    "\n",
    "An **entity** represents who is performing the event and an **entity type** classifies the entity. Example of the classification can be customer, merchant, account, or hospital.\n",
    "\n",
    "<br>\n",
    "\n",
    "With Amazon Fraud Detector, you build model that evaluate risks (potentially fraud) and generate fraud predictions for individual events. An **event type** defines the structure of an individual event.\n",
    "\n",
    "Let's look at simple example, you try to do fraud prediction on auto-insurance claim transaction;\n",
    "- You create event type as **claim_transaction**\n",
    "- You define the event type by specifying the variables (i.e., claim amount, incident type, incident severity).\n",
    "- You define the entity type as **customer** (or for the sake of demo, **demo_customer**).\n",
    "- You define labels (fraud and legit)\n"
   ]
  },
  {
   "cell_type": "code",
   "execution_count": null,
   "id": "55e06205-17a1-4b76-a56b-0ce13167e955",
   "metadata": {
    "tags": []
   },
   "outputs": [],
   "source": [
    "ENTITY_TYPE = 'demo_customer'\n",
    "ENTITY_DESC = 'Demo of customer claiming auto-insurance'\n",
    "EVENT_TYPE = 'auto_insurance_claim_event'"
   ]
  },
  {
   "cell_type": "code",
   "execution_count": null,
   "id": "9a4aa9e4-f6cb-4c86-894d-f8396c29cc54",
   "metadata": {
    "tags": []
   },
   "outputs": [],
   "source": [
    "try:\n",
    "    resp = afd_client.get_entity_types(name=ENTITY_TYPE)\n",
    "    print(f'The given entity type - {ENTITY_TYPE} - already exists')\n",
    "    print(resp)\n",
    "    \n",
    "except:\n",
    "    resp = afd_client.put_entity_type(\n",
    "        name=ENTITY_TYPE,\n",
    "        description=ENTITY_DESC\n",
    "    )\n",
    "    print(f'Create Entity Type: {ENTITY_TYPE}')\n",
    "    print(resp)"
   ]
  },
  {
   "cell_type": "code",
   "execution_count": null,
   "id": "68a6189e-64d7-4856-b102-393723f16732",
   "metadata": {
    "tags": []
   },
   "outputs": [],
   "source": [
    "try:\n",
    "    resp = afd_client.get_event_types(name=EVENT_TYPE)\n",
    "    print(f'Event type: {EVENT_TYPE} already existed')\n",
    "    print(resp)\n",
    "    \n",
    "except:\n",
    "    resp = afd_client.put_event_type(\n",
    "        name=EVENT_TYPE,\n",
    "        eventVariables=EVENT_VARIABLES,\n",
    "        labels=EVENT_LABELS,\n",
    "        entityTypes=[ENTITY_TYPE]\n",
    "    )\n",
    "    print(f'Create event type: {EVENT_TYPE}')\n",
    "    print(resp)"
   ]
  },
  {
   "cell_type": "markdown",
   "id": "24ec0aa4-3d9b-4681-b66e-a052e5ec15ad",
   "metadata": {},
   "source": [
    "### Create, train, and deploy model\n",
    "---\n",
    "\n",
    "Amazon Fraud Detector trains models to learn to detect fraud for a specific event type. In the previous step, you have created the event type. Now, you will create and train a model for that specific event type. <u>The model acts as a container for your model versions.</u> **Each time you train a model, a new version is created.**\n",
    "\n",
    "For more information about different model types that Amazon Fraud Detector supports, see [Choose a model type](https://docs.aws.amazon.com/frauddetector/latest/ug/choosing-model-type.html).\n",
    "\n",
    "\n",
    "#### Create a model\n"
   ]
  },
  {
   "cell_type": "code",
   "execution_count": null,
   "id": "b88ceae8-c22e-40ca-8810-6eb8d020111a",
   "metadata": {
    "tags": []
   },
   "outputs": [],
   "source": [
    "MODEL_NAME = 'demo_auto_insurance_claim_fraud'\n",
    "MODEL_TYPE = \"ONLINE_FRAUD_INSIGHTS\"\n",
    "MODEL_DESC = 'Demo model to detect the fraud or legit of the auto-insurance claim'"
   ]
  },
  {
   "cell_type": "code",
   "execution_count": null,
   "id": "5082da07-68f8-4fb7-9bc2-c2126660451a",
   "metadata": {
    "tags": []
   },
   "outputs": [],
   "source": [
    "try:\n",
    "    resp = afd_client.create_model(\n",
    "        modelId=MODEL_NAME,\n",
    "        modelType=MODEL_TYPE,\n",
    "        description=MODEL_DESC,\n",
    "        eventTypeName=EVENT_TYPE\n",
    "    )\n",
    "    print(f'Initialize the model: {MODEL_NAME}')\n",
    "    print(resp)\n",
    "\n",
    "except Exception:\n",
    "    pass\n"
   ]
  },
  {
   "cell_type": "markdown",
   "id": "7f969c64-f544-4a16-8f45-bf311b416164",
   "metadata": {},
   "source": [
    "#### Define the training data schema"
   ]
  },
  {
   "cell_type": "code",
   "execution_count": null,
   "id": "c7c7af1f-18ef-408a-aecb-a1acdc8c1a8f",
   "metadata": {
    "tags": []
   },
   "outputs": [],
   "source": [
    "training_data_schema = {\n",
    "    'modelVariables': EVENT_VARIABLES,\n",
    "    'labelSchema': {\n",
    "        'labelMapper': {\n",
    "            'FRAUD': [\"fraud\"],\n",
    "            'LEGIT': [\"legit\"]\n",
    "        }\n",
    "    }\n",
    "}"
   ]
  },
  {
   "cell_type": "markdown",
   "id": "b97adb23-7e58-4c34-ae56-b33e0233f38e",
   "metadata": {},
   "source": [
    "#### Train model\n",
    "---\n",
    "\n",
    "I will use `create_model_version` method to train the model. I have specified **EXTERNAL_EVENTS** for the `trainingDataSource` and the Amazon S3 location where your dataset are being stored.\n",
    "\n",
    "We also need to provide how to include and classify the event variables and labels in the `trainingDataSchema` parameter.\n",
    "\n",
    "\n",
    "**Note**: for `trainingDataSource`, you can either specify it as internal (data stored in Amazon Fraud Detector) or external (data stored in Amazon S3). Please visit [Event Data Storage](https://docs.aws.amazon.com/frauddetector/latest/ug/event-data-storage.html) page for more information.\n"
   ]
  },
  {
   "cell_type": "code",
   "execution_count": null,
   "id": "f62e4b7e-c5d1-4466-bcc4-649c2b637b98",
   "metadata": {
    "tags": []
   },
   "outputs": [],
   "source": [
    "resp = afd_client.create_model_version(\n",
    "    modelId=MODEL_NAME,\n",
    "    modelType=MODEL_TYPE,\n",
    "    trainingDataSource='EXTERNAL_EVENTS',\n",
    "    trainingDataSchema=training_data_schema,\n",
    "    externalEventsDetail={\n",
    "        'dataLocation': S3_DATA_PATH,\n",
    "        'dataAccessRoleArn': IAM_ROLE\n",
    "    }\n",
    ")\n",
    "\n",
    "model_version = resp['modelVersionNumber']\n",
    "print('Model training...')\n",
    "print(resp)"
   ]
  },
  {
   "cell_type": "markdown",
   "id": "1e6ac82d-7680-4d6a-8eac-655159a65795",
   "metadata": {},
   "source": [
    "Remark: This can take up to 1 hour for model to finish training."
   ]
  },
  {
   "cell_type": "code",
   "execution_count": null,
   "id": "771d463f-2f2e-4787-9413-6bef4b269ff9",
   "metadata": {
    "tags": []
   },
   "outputs": [],
   "source": [
    "import sys\n",
    "class StatusIndicator:\n",
    "    def __init__(self):\n",
    "        self.previous_status = None\n",
    "        self.need_newline = False\n",
    "        \n",
    "    def update( self, status ):\n",
    "        if self.previous_status != status:\n",
    "            if self.need_newline:\n",
    "                sys.stdout.write(\"\\n\")\n",
    "            sys.stdout.write( status + \" \")\n",
    "            self.need_newline = True\n",
    "            self.previous_status = status\n",
    "        else:\n",
    "            sys.stdout.write(\".\")\n",
    "            self.need_newline = True\n",
    "        sys.stdout.flush()\n",
    "\n",
    "    def end(self):\n",
    "        if self.need_newline:\n",
    "            sys.stdout.write(\"\\n\")"
   ]
  },
  {
   "cell_type": "code",
   "execution_count": null,
   "id": "51f41879-4806-4d08-be61-ebd42ae5cc79",
   "metadata": {
    "tags": []
   },
   "outputs": [],
   "source": [
    "import time\n",
    "def wait(callback, time_interval: int=30):\n",
    "    status_indicator = StatusIndicator()\n",
    "\n",
    "    while True:\n",
    "        status = callback()['modelVersionDetails'][0]['status']\n",
    "        status_indicator.update(status)\n",
    "        if status.upper() in ('READY_TO_DEPLOY', 'TRAINING_COMPLETE'): break\n",
    "        time.sleep(time_interval)\n",
    "\n",
    "    status_indicator.end()\n",
    "    \n",
    "    return (status==\"READY_TO_DEPLOY\")"
   ]
  },
  {
   "cell_type": "code",
   "execution_count": null,
   "id": "01464a71-c06c-42a6-9c31-8f5554abb7fe",
   "metadata": {
    "tags": []
   },
   "outputs": [],
   "source": [
    "resp = afd_client.describe_model_versions(\n",
    "    modelId=MODEL_NAME,\n",
    "    modelType=MODEL_TYPE,\n",
    "    modelVersionNumber='1.0'\n",
    ")\n",
    "\n",
    "resp['modelVersionDetails'][0]['status']"
   ]
  },
  {
   "cell_type": "code",
   "execution_count": null,
   "id": "eac91e81-28f2-4f82-961b-d4fab269cc2f",
   "metadata": {
    "tags": []
   },
   "outputs": [],
   "source": [
    "status = wait(\n",
    "    lambda: afd_client.describe_model_versions(\n",
    "        modelId=MODEL_NAME,\n",
    "        modelType=MODEL_TYPE,\n",
    "        modelVersionNumber='1.0'\n",
    "    )\n",
    ")"
   ]
  },
  {
   "cell_type": "markdown",
   "id": "7d5a9988-06cf-49d9-9fd4-2ac295861020",
   "metadata": {},
   "source": [
    "#### Review model performance"
   ]
  },
  {
   "cell_type": "code",
   "execution_count": null,
   "id": "959a0ca3-8405-404d-8149-739c5492662c",
   "metadata": {
    "tags": []
   },
   "outputs": [],
   "source": [
    "import pandas as pd\n",
    "import matplotlib.pyplot as plt\n",
    "\n",
    "%matplotlib inline\n",
    "\n",
    "resp = afd_client.describe_model_versions(\n",
    "    modelId=MODEL_NAME,\n",
    "    modelVersionNumber=model_version,\n",
    "    modelType=MODEL_TYPE,\n",
    ")\n",
    "\n",
    "training_metrics = resp['modelVersionDetails'][0]['trainingResult']['trainingMetrics']\n",
    "perf_auc = training_metrics['auc']\n",
    "df_model = pd.DataFrame(training_metrics['metricDataPoints'])\n",
    "\n",
    "plt.figure(figsize=(15, 6))\n",
    "plt.plot(df_model[\"fpr\"], df_model[\"tpr\"], color='darkorange', lw=2, label='ROC curve (area = %0.3f)'%perf_auc)\n",
    "plt.plot([0, 1], [0, 1], color='navy', lw=2, linestyle='--')\n",
    "plt.xlabel('False Positive Rate')\n",
    "plt.ylabel('True Positive Rate')\n",
    "plt.title(MODEL_NAME+' ROC Chart')\n",
    "plt.legend(loc=\"lower right\", fontsize=12)\n",
    "plt.show()"
   ]
  },
  {
   "cell_type": "code",
   "execution_count": null,
   "id": "08c1ce3d-73f6-4b66-9ed9-cbbe23259fdf",
   "metadata": {
    "tags": []
   },
   "outputs": [],
   "source": [
    "var_imp_metrics = resp['modelVersionDetails'][0]['trainingResult']['variableImportanceMetrics']\n",
    "df_var_imp = pd.DataFrame(var_imp_metrics['logOddsMetrics']).sort_values(by='variableImportance')\n",
    "df_var_imp.plot.barh(\n",
    "    x='variableName',\n",
    "    y='variableImportance',\n",
    "    figsize=(14, int(0.5 * df_var_imp.shape[0]))\n",
    ")\n",
    "plt.xlabel('Variable Importance (logOdds)')\n",
    "plt.legend(loc=\"lower right\", fontsize=12)\n",
    "plt.show();"
   ]
  },
  {
   "cell_type": "markdown",
   "id": "eb1319d5-69c5-427b-9c3d-0b40ab40c7ab",
   "metadata": {},
   "source": [
    "#### Deploy a model\n",
    "--- \n",
    "Once we review the model performance and want to deploy the trained model, use `update_model_version_status` method."
   ]
  },
  {
   "cell_type": "code",
   "execution_count": null,
   "id": "9beacc96-e8ab-4498-947b-1c47187f6281",
   "metadata": {
    "tags": []
   },
   "outputs": [],
   "source": [
    "import time\n",
    "from IPython.display import clear_output\n",
    "\n",
    "resp = afd_client.update_model_version_status (\n",
    "    modelId=MODEL_NAME,\n",
    "    modelType=MODEL_TYPE,\n",
    "    modelVersionNumber=model_version,\n",
    "    status='ACTIVE'\n",
    ")\n",
    "print(f'Activate model: {MODEL_NAME}')\n",
    "print(resp)\n",
    "\n",
    "print('Waiting until model status is active ...')\n",
    "stime = time.time()\n",
    "\n",
    "while True:\n",
    "    clear_output(wait=True)\n",
    "    resp = afd_client.get_model_version(\n",
    "        modelId=MODEL_NAME,\n",
    "        modelType=MODEL_TYPE, \n",
    "        modelVersionNumber=model_version\n",
    "    )\n",
    "    if resp['status'] != 'ACTIVE':\n",
    "        print(f\"current progress: {(time.time() - stime)/60:{3}.{3}} minutes\")\n",
    "        time.sleep(60)\n",
    "        \n",
    "    if resp['status'] == 'ACTIVE':\n",
    "        print(\"Model status : \" +  resp['status'])\n",
    "        break\n",
    "        \n",
    "etime = time.time()\n",
    "print(\"Elapsed time : %s\" % (etime - stime) + \" seconds \\n\"  )\n",
    "print(resp)"
   ]
  },
  {
   "cell_type": "markdown",
   "id": "32755d09-62ab-4fb0-b96d-d323b8ba489d",
   "metadata": {},
   "source": [
    "You can check the status of the model. It should be marked as **ACTIVE**."
   ]
  },
  {
   "cell_type": "code",
   "execution_count": null,
   "id": "6683bd64-64a8-492a-99d8-0a3796e9f9c3",
   "metadata": {},
   "outputs": [],
   "source": [
    "resp = afd_client.describe_model_versions(\n",
    "    modelId= MODEL_NAME,\n",
    "    modelVersionNumber=model_version,\n",
    "    modelType=MODEL_TYPE,\n",
    ")\n",
    "print(resp['modelVersionDetails'][0]['status'])"
   ]
  },
  {
   "cell_type": "markdown",
   "id": "51feab6e-39e6-4c8a-814d-0aeccfd75ddb",
   "metadata": {},
   "source": [
    "### Create detector, outcomes, rules, and detector version\n",
    "---\n",
    "\n",
    "A **detector** contains the detection logic, such as the models and rules. This logic is for a particular event that you want to evaluate for fraud. A rule is a condition that you specify to tell Amazon Fraud Detector how to interpret variable values during prediction. And outcome is the result of a fraud prediction. A detector can have multiple versions with each version having a status of *DRAFT*, *ACTIVE*, or *INACTIVE*. A detector version must have at least one rule that's associated with it.\n",
    "\n",
    "\n",
    "#### Create a detector\n",
    "\n",
    "In this demonstration, I will use `put_detector` method to create a **auto_insurance_claim** detector for my event type."
   ]
  },
  {
   "cell_type": "code",
   "execution_count": null,
   "id": "2ea7da45-9a81-4766-8299-08fee4cd351e",
   "metadata": {
    "tags": []
   },
   "outputs": [],
   "source": [
    "DETECTOR_NAME = 'auto_insurance_claim'\n",
    "DETECTOR_DESC = 'Detector to detect fraud in auto insurance claim'"
   ]
  },
  {
   "cell_type": "code",
   "execution_count": null,
   "id": "8faa1f25-6dc9-4088-993f-2eeaef8f46d4",
   "metadata": {
    "tags": []
   },
   "outputs": [],
   "source": [
    "resp = afd_client.put_detector(\n",
    "    detectorId=DETECTOR_NAME,\n",
    "    description=DETECTOR_DESC,\n",
    "    eventTypeName=EVENT_TYPE\n",
    ")\n",
    "print(resp)"
   ]
  },
  {
   "cell_type": "markdown",
   "id": "dc4ddad9-1501-47a7-8e52-a88aecbd8cf5",
   "metadata": {},
   "source": [
    "#### Create Rule and Outcomes\n",
    "\n",
    "In this demonstration, I will also create the **rule**. Rule consists of one or more variables from the dataset, a logical expression, and one or more outcomes.\n",
    "\n",
    "\n",
    "##### Before we create the rule...\n",
    "\n",
    "Let' review the earlier evaluation metric. \n",
    "\n",
    "- **TPR (True Positive Rate)** or Recall (Formula: # True positives / # positives)\n",
    "\n",
    "Recall is fraction of relevant instances that were retrieved, or in more simple term, it measures what proportion of actual positives was identified correctly.\n",
    "\n",
    "- **FPR (False Positive Rate)** (Formula: # False Positives / # negatives)\n",
    "\n",
    "This is <u>not</u> precision. While precision measures the probability of a sample classified as positive to actually be positive, the **false positive rate measures the ratio of false positives within the negative samples**."
   ]
  },
  {
   "cell_type": "code",
   "execution_count": null,
   "id": "daee7849-5d1e-4356-8c6f-5b912b3baf18",
   "metadata": {
    "tags": []
   },
   "outputs": [],
   "source": [
    "# -- check the score thresholds with FPR from 1% to 10% --\n",
    "model_stat = df_model.sort_values(by='fpr')\n",
    "model_stat['fpr_bin'] = np.ceil(model_stat['fpr'] * 100) * 0.01\n",
    "m = model_stat.loc[model_stat.groupby([\"fpr_bin\"])[\"threshold\"].idxmin()] \n",
    "m = m.round(decimals=2)[['fpr','precision','tpr','threshold']]\n",
    "print (\"--- score thresholds 1% to 10% ---\")\n",
    "print(m.loc[(m['fpr'] > 0.00 ) & (m['fpr'] <= 0.10)].reset_index(drop=True))"
   ]
  },
  {
   "cell_type": "markdown",
   "id": "4c1bd484-2df2-4415-87e1-d3db0072d7dd",
   "metadata": {},
   "source": [
    "The choice of choosing the score will heavily based on your problem statement and objective.\n",
    "\n",
    "For this specific example, I will create 3 simple rules by cutting score at 955, and 815, and create 3 possible outcomes - `fraud`, `investigate`, and `approve`.\n",
    "\n",
    "- score > 955: fraud\n",
    "- score > 815: investigate\n",
    "- score <= 815: approve"
   ]
  },
  {
   "cell_type": "code",
   "execution_count": null,
   "id": "f35a2e5f-55ef-4fc6-99d6-29c753de53a4",
   "metadata": {
    "tags": []
   },
   "outputs": [],
   "source": [
    "score_cutoffs = [955, 815]\n",
    "outcomes = ['fraud', 'investigate', 'approve']\n",
    "afd_client = boto3.client('frauddetector')"
   ]
  },
  {
   "cell_type": "code",
   "execution_count": null,
   "id": "244754c0-e339-4e4b-9edd-3ba1b5d25521",
   "metadata": {
    "tags": []
   },
   "outputs": [],
   "source": [
    "def create_afd_outcomes(outcomes: list):\n",
    "    for outcome in outcomes:\n",
    "        print(f'Creating outcome variables: {outcome}')\n",
    "        resp = afd_client.put_outcome(\n",
    "            name=outcome,\n",
    "            description=outcome\n",
    "        )\n",
    "        \n",
    "    return None\n",
    "\n",
    "\n",
    "def create_afd_rules(score_cutoffs: list, outcomes: list):\n",
    "    if len(score_cutoffs) + 1 != len(outcomes):\n",
    "        print('Your socre cuts and outcomes are not matched.')\n",
    "        \n",
    "    rule_list = []  # initialize\n",
    "    for i in range(len(outcomes)):\n",
    "        if i < (len(outcomes) - 1):\n",
    "            rule = f'${MODEL_NAME}_insightscore > {score_cutoffs[i]}'\n",
    "            \n",
    "        else:\n",
    "            rule = f'${MODEL_NAME}_insightscore <= {score_cutoffs[i - 1]}'\n",
    "            \n",
    "        rule_id = f'rule_{i}_{MODEL_NAME}'\n",
    "        \n",
    "        rule_list.append({\n",
    "            'ruleId': rule_id,\n",
    "            'ruleVersion': '1',\n",
    "            'detectorId': DETECTOR_NAME\n",
    "        })\n",
    "        \n",
    "        print(f'Creating rule: {rule_id}: IF {rule} THEN {outcomes[i]}')\n",
    "        \n",
    "        try:\n",
    "            resp = afd_client.create_rule(\n",
    "                detectorId=DETECTOR_NAME,\n",
    "                ruleId=rule_id,\n",
    "                expression=rule,\n",
    "                language='DETECTORPL',\n",
    "                outcomes=[outcomes[i]]\n",
    "            )\n",
    "            print(resp)\n",
    "            \n",
    "        except:\n",
    "            print(f'This rule is already existed in this detector ({DETECTOR_NAME})')\n",
    "        \n",
    "\n",
    "    return rule_list\n",
    "     \n",
    "print(\" -- create AFD outcomes --\")\n",
    "_ = create_afd_outcomes(outcomes)\n",
    "\n",
    "print(\" -- create AFD rules --\")\n",
    "rule_list = create_afd_rules(score_cutoffs, outcomes)"
   ]
  },
  {
   "cell_type": "markdown",
   "id": "4b40f4a6-6c41-4334-a71e-e27c486a5756",
   "metadata": {},
   "source": [
    "#### Create Detector Version\n",
    "\n",
    "A detector version defines model and rules that are used to get fraud prediction.\n",
    "\n",
    "\n",
    "Note that there are 2 options in `ruleExecutionMode` parameter:\n",
    "- **ALL_MATCHED**   - return all matched rules' outcome\n",
    "- **FIRST_MATCHED** - return first matched rule's outcome"
   ]
  },
  {
   "cell_type": "code",
   "execution_count": null,
   "id": "f274a8bc-5fdb-4a56-a9f4-620ce3b6725c",
   "metadata": {
    "tags": []
   },
   "outputs": [],
   "source": [
    "resp = afd_client.create_detector_version(\n",
    "    detectorId=DETECTOR_NAME,\n",
    "    rules=rule_list,\n",
    "    modelVersions=[{\n",
    "        'modelId': MODEL_NAME,\n",
    "        'modelType': MODEL_TYPE,\n",
    "        'modelVersionNumber': model_version\n",
    "    }],\n",
    "    ruleExecutionMode='FIRST_MATCHED'\n",
    ")\n",
    "\n",
    "print(f\"Detector created: {DETECTOR_NAME}\")\n",
    "print(resp) "
   ]
  },
  {
   "cell_type": "markdown",
   "id": "2c840d0f-5da0-48d8-a32a-f10c30ca01d7",
   "metadata": {},
   "source": [
    "Once we create the **detector version**, it will be in **DRAFT** status. To use it, let's **ACTIVATE** it."
   ]
  },
  {
   "cell_type": "code",
   "execution_count": null,
   "id": "65ff8bdb-3883-4160-8dd5-2901c915a9b8",
   "metadata": {
    "tags": []
   },
   "outputs": [],
   "source": [
    "detector_version_summaries = afd_client.describe_detector(\n",
    "    detectorId=DETECTOR_NAME\n",
    ")['detectorVersionSummaries']\n",
    "\n",
    "latest_detector_version = max([det['detectorVersionId'] for det in detector_version_summaries])\n",
    "print(f'Latest Detector Version: {latest_detector_version}')\n",
    "\n",
    "resp = afd_client.update_detector_version_status(\n",
    "    detectorId=DETECTOR_NAME,\n",
    "    detectorVersionId=latest_detector_version,\n",
    "    status='ACTIVE'\n",
    ")\n",
    "print(f'Activating the detector: {DETECTOR_NAME}')\n",
    "print(resp)"
   ]
  },
  {
   "cell_type": "markdown",
   "id": "b27f111f-5c6a-442f-8283-2ea5193b15b5",
   "metadata": {},
   "source": [
    "We can verify the version and status of the detector by using `describe_detector` method."
   ]
  },
  {
   "cell_type": "code",
   "execution_count": null,
   "id": "53154efa-7413-4064-ae6f-6a24c16bdf93",
   "metadata": {
    "tags": []
   },
   "outputs": [],
   "source": [
    "afd_client.describe_detector(detectorId=DETECTOR_NAME)"
   ]
  },
  {
   "cell_type": "markdown",
   "id": "147f421c-f97a-4db6-991a-dc30d307651c",
   "metadata": {},
   "source": [
    "### Make Prediction\n",
    "---\n",
    "Lastly, we will use the detector to make the prediction on the dataset. There are 2 ways of making the prediction.\n",
    "\n",
    "1. `get_event_prediction` method - this method evaluates an event against a detector version. \n",
    "2. `create_batch_prediction_job` method - this method creates a batch prediction job. This is more suitable for **offline** prediction (i.e., at schedule based time).\n",
    "\n"
   ]
  },
  {
   "cell_type": "markdown",
   "id": "cf81d8d8-acbf-426f-9b83-c2e8fa8ef001",
   "metadata": {},
   "source": [
    "#### Real-time Prediction"
   ]
  },
  {
   "cell_type": "code",
   "execution_count": null,
   "id": "966dbe5a-067e-4ddb-b6fa-7ef00b3014a6",
   "metadata": {
    "tags": []
   },
   "outputs": [],
   "source": [
    "%%time\n",
    "import datetime\n",
    "import uuid\n",
    "\n",
    "def _predict(record, event_variables: list=EVENT_VARIABLES):\n",
    "    \"\"\"\n",
    "    Get prediction on one event\n",
    "    \"\"\"\n",
    "    \n",
    "    # Initialize\n",
    "    _event_id = str(uuid.uuid1())\n",
    "    _entity_id = str(uuid.uuid1())\n",
    "    _event_timestamp = str(datetime.datetime.now().strftime('%Y-%m-%dT%H:%M:%SZ'))\n",
    "    _client = boto3.client('frauddetector')\n",
    "    try:\n",
    "        rec_content = {\n",
    "            event_variables[i]: str(record[i]) for i in range(len(event_variables))\n",
    "        }\n",
    "        pred = _client.get_event_prediction(\n",
    "            detectorId=DETECTOR_NAME,\n",
    "            detectorVersionId=latest_detector_version,\n",
    "            eventId=_event_id,\n",
    "            eventTypeName=EVENT_TYPE,\n",
    "            eventTimestamp=_event_timestamp,\n",
    "            entities=[{\n",
    "                'entityType': ENTITY_TYPE,\n",
    "                'entityId': _entity_id\n",
    "            }],\n",
    "            eventVariables=rec_content\n",
    "        )\n",
    "\n",
    "        record.append(pred['modelScores'][0]['scores'][f'{MODEL_NAME}_insightscore'])\n",
    "        record.append(pred['ruleResults'][0]['outcomes'])\n",
    "\n",
    "    except:\n",
    "        record.append(\"-999\")\n",
    "        record.append([\"error\"])\n",
    "    \n",
    "    return record\n"
   ]
  },
  {
   "cell_type": "code",
   "execution_count": null,
   "id": "45090e22-9f54-4bd8-9e5d-e637587edcaa",
   "metadata": {
    "tags": []
   },
   "outputs": [],
   "source": [
    "print(test_df.shape)"
   ]
  },
  {
   "cell_type": "code",
   "execution_count": null,
   "id": "a579506f-5092-450c-8743-bebffcc0462a",
   "metadata": {
    "tags": []
   },
   "outputs": [],
   "source": [
    "from multiprocessing import Pool\n",
    "\n",
    "test_list = test_df[EVENT_VARIABLES + ['EVENT_LABEL']].values.tolist()\n",
    "with Pool(processes=2) as p:\n",
    "    result = p.map(_predict, test_list)\n",
    "    \n",
    "test_pred = pd.DataFrame(\n",
    "    result, columns=EVENT_VARIABLES + ['EVENT_LABEL', 'score', 'outcomes']\n",
    ")"
   ]
  },
  {
   "cell_type": "code",
   "execution_count": null,
   "id": "aa48fe63-a4a7-451b-949c-02516899e411",
   "metadata": {
    "tags": []
   },
   "outputs": [],
   "source": [
    "test_pred.head(3)"
   ]
  },
  {
   "cell_type": "markdown",
   "id": "4d58ceb2-3623-4480-9d25-253c935a36ee",
   "metadata": {},
   "source": [
    "##### Check the distribution by labels"
   ]
  },
  {
   "cell_type": "code",
   "execution_count": null,
   "id": "51c3b361-8437-4c42-b483-0818be925afb",
   "metadata": {
    "tags": []
   },
   "outputs": [],
   "source": [
    "import numpy as np\n",
    "import warnings\n",
    "\n",
    "plt.figure(figsize = (20, 8))\n",
    "warnings.filterwarnings('ignore', category=np.VisibleDeprecationWarning)\n",
    "ax = plt.hist(\n",
    "    [\n",
    "        test_pred.loc[test_pred['EVENT_LABEL'].isin(config_file['label_mappings']['LEGIT'])]['score'],\n",
    "        test_pred.loc[test_pred['EVENT_LABEL'].isin(config_file['label_mappings']['FRAUD'])]['score']\n",
    "    ], \n",
    "    bins = 50\n",
    ")\n",
    "plt.legend([\"Legit\", \"Fraud\"], fontsize=12)\n",
    "plt.title(\"Predicted Score Distribution By Label\")\n",
    "plt.xlabel(\"Predicted Score\")\n",
    "plt.ylabel(\"Frequency\")\n",
    "plt.show();"
   ]
  },
  {
   "cell_type": "code",
   "execution_count": null,
   "id": "72eb2b78-72b2-4d70-88c9-e3afd78bdc26",
   "metadata": {},
   "outputs": [],
   "source": [
    "import seaborn as sns\n",
    "import matplotlib.pyplot as plt\n",
    "%matplotlib inline\n",
    "\n",
    "test_pred['outcome_str'] = test_pred['outcomes'].apply(lambda x: x[0])\n",
    "sns.catplot(\n",
    "    data=test_pred, x='outcome_str', y='score',\n",
    "    col='EVENT_LABEL', kind='box', col_wrap=2\n",
    ")\n",
    "plt.show();\n",
    "\n",
    "\n",
    "ax = sns.countplot(data=test_pred, x=\"outcome_str\", hue=\"EVENT_LABEL\")\n",
    "ax.set_yscale('log')\n",
    "plt.show();"
   ]
  },
  {
   "cell_type": "markdown",
   "id": "3e8f419f-9515-4ebe-8267-ce0a56c0380d",
   "metadata": {},
   "source": [
    "#### Batch prediction\n",
    "---\n",
    "\n",
    "You can schedule and run the **detector** as batch model. To call batch prediction, you need to have the dataset with same column names as what we define in the **fraud detector**."
   ]
  },
  {
   "cell_type": "code",
   "execution_count": null,
   "id": "f5a0ea2f-8a70-4e5a-aeda-7231ebb90bb3",
   "metadata": {
    "tags": []
   },
   "outputs": [],
   "source": [
    "col_required = [\n",
    "    'customer_age', 'incident_type', 'last_name', 'num_witnesses', 'EVENT_TIMESTAMP', 'num_vehicles_involved', \n",
    "    'policy_deductable', 'injury_claim', 'num_claims_past_year', 'policy_id', 'incident_hour', \n",
    "    'ENTITY_TYPE', 'vehicle_claim', 'num_injuries', 'policy_annual_premium', 'incident_severity', 'EVENT_ID', \n",
    "    'police_report_available', 'first_name', 'ENTITY_ID'\n",
    "]\n",
    "\n",
    "batch_df = test_df[col_required]\n",
    "batch_df.loc[:, 'ENTITY_TYPE'] = 'demo_customer'\n",
    "print(batch_df.shape)\n",
    "batch_df.to_csv(f's3://{S3_BUCKET_NM}/{S3_PREFIX}/batch_input/batch_data.csv', header=True, index=False)"
   ]
  },
  {
   "cell_type": "code",
   "execution_count": null,
   "id": "42205fc8-9db0-4b83-b8ea-5a4c1ddfde00",
   "metadata": {
    "tags": []
   },
   "outputs": [],
   "source": [
    "JOB_ID = f'auto-insurance-batch-prediction-{datetime.datetime.now().strftime(\"%Y%m%d_%H%M%S\")}'\n",
    "print(JOB_ID)"
   ]
  },
  {
   "cell_type": "code",
   "execution_count": null,
   "id": "3da1e9a7-8a85-4dd7-a4ce-7bced93f4eb5",
   "metadata": {
    "tags": []
   },
   "outputs": [],
   "source": [
    "resp = afd_client.create_batch_prediction_job(\n",
    "    jobId=JOB_ID,\n",
    "    inputPath=f's3://{S3_BUCKET_NM}/{S3_PREFIX}/batch_input/batch_data.csv',\n",
    "    outputPath=f's3://{S3_BUCKET_NM}/{S3_PREFIX}/batch_output/',\n",
    "    eventTypeName=EVENT_TYPE,\n",
    "    detectorName=DETECTOR_NAME,\n",
    "    detectorVersion=latest_detector_version,\n",
    "    iamRoleArn=IAM_ROLE\n",
    ")"
   ]
  },
  {
   "cell_type": "code",
   "execution_count": null,
   "id": "adaebe48-1ca3-4a05-b1d3-ac3ffc2993bc",
   "metadata": {
    "tags": []
   },
   "outputs": [],
   "source": [
    "resp = afd_client.get_batch_prediction_jobs(jobId=JOB_ID)\n",
    "resp"
   ]
  },
  {
   "cell_type": "markdown",
   "id": "7affc726-b938-4897-97ec-9f62b306e2d4",
   "metadata": {},
   "source": [
    "Once complete, let's look at the batch output file."
   ]
  },
  {
   "cell_type": "code",
   "execution_count": null,
   "id": "117e16c0-bc73-4a3b-b0a0-e23ca9046f79",
   "metadata": {
    "tags": []
   },
   "outputs": [],
   "source": [
    "batch_output_path = '../batch_output/'\n",
    "!mkdir -p {batch_output_path}\n",
    "resp = s3.list_objects_v2(\n",
    "    Bucket=S3_BUCKET_NM,\n",
    "    Prefix=f'{S3_PREFIX}/batch_output/',\n",
    ")\n",
    "\n",
    "for content_ in resp['Contents']:\n",
    "    print(content_['Key'])\n",
    "    s3.download_file(S3_BUCKET_NM, content_['Key'], f\"{batch_output_path}/{content_['Key'].split('/')[2]}\")"
   ]
  },
  {
   "cell_type": "code",
   "execution_count": null,
   "id": "6463a3c5-e5b3-4e5c-976b-83cc2d4de809",
   "metadata": {
    "tags": []
   },
   "outputs": [],
   "source": [
    "out_batch_df = pd.read_csv(f\"{batch_output_path}auto-insurance-batch-prediction-20231106_083533_1699259778_output.csv\")\n",
    "out_batch_df.head()"
   ]
  },
  {
   "cell_type": "markdown",
   "id": "acea6fdc-6c41-4ab8-8785-8fe6218b5374",
   "metadata": {},
   "source": [
    "As can be seen, the Detector will append 4 new columns, namely; \n",
    "- **status**: The status of the record whether it is success or failed\n",
    "- **outcomes**: The outcome after passing through the ML and rules (based on our definition to detector)\n",
    "- **rule_results**: The rule where each record is falling into\n",
    "- **model_scores**: The actual score from the supervised ML model"
   ]
  },
  {
   "cell_type": "code",
   "execution_count": null,
   "id": "c5199427-683f-424d-9ea1-0afe1774348a",
   "metadata": {},
   "outputs": [],
   "source": []
  }
 ],
 "metadata": {
  "availableInstances": [
   {
    "_defaultOrder": 0,
    "_isFastLaunch": true,
    "category": "General purpose",
    "gpuNum": 0,
    "hideHardwareSpecs": false,
    "memoryGiB": 4,
    "name": "ml.t3.medium",
    "vcpuNum": 2
   },
   {
    "_defaultOrder": 1,
    "_isFastLaunch": false,
    "category": "General purpose",
    "gpuNum": 0,
    "hideHardwareSpecs": false,
    "memoryGiB": 8,
    "name": "ml.t3.large",
    "vcpuNum": 2
   },
   {
    "_defaultOrder": 2,
    "_isFastLaunch": false,
    "category": "General purpose",
    "gpuNum": 0,
    "hideHardwareSpecs": false,
    "memoryGiB": 16,
    "name": "ml.t3.xlarge",
    "vcpuNum": 4
   },
   {
    "_defaultOrder": 3,
    "_isFastLaunch": false,
    "category": "General purpose",
    "gpuNum": 0,
    "hideHardwareSpecs": false,
    "memoryGiB": 32,
    "name": "ml.t3.2xlarge",
    "vcpuNum": 8
   },
   {
    "_defaultOrder": 4,
    "_isFastLaunch": true,
    "category": "General purpose",
    "gpuNum": 0,
    "hideHardwareSpecs": false,
    "memoryGiB": 8,
    "name": "ml.m5.large",
    "vcpuNum": 2
   },
   {
    "_defaultOrder": 5,
    "_isFastLaunch": false,
    "category": "General purpose",
    "gpuNum": 0,
    "hideHardwareSpecs": false,
    "memoryGiB": 16,
    "name": "ml.m5.xlarge",
    "vcpuNum": 4
   },
   {
    "_defaultOrder": 6,
    "_isFastLaunch": false,
    "category": "General purpose",
    "gpuNum": 0,
    "hideHardwareSpecs": false,
    "memoryGiB": 32,
    "name": "ml.m5.2xlarge",
    "vcpuNum": 8
   },
   {
    "_defaultOrder": 7,
    "_isFastLaunch": false,
    "category": "General purpose",
    "gpuNum": 0,
    "hideHardwareSpecs": false,
    "memoryGiB": 64,
    "name": "ml.m5.4xlarge",
    "vcpuNum": 16
   },
   {
    "_defaultOrder": 8,
    "_isFastLaunch": false,
    "category": "General purpose",
    "gpuNum": 0,
    "hideHardwareSpecs": false,
    "memoryGiB": 128,
    "name": "ml.m5.8xlarge",
    "vcpuNum": 32
   },
   {
    "_defaultOrder": 9,
    "_isFastLaunch": false,
    "category": "General purpose",
    "gpuNum": 0,
    "hideHardwareSpecs": false,
    "memoryGiB": 192,
    "name": "ml.m5.12xlarge",
    "vcpuNum": 48
   },
   {
    "_defaultOrder": 10,
    "_isFastLaunch": false,
    "category": "General purpose",
    "gpuNum": 0,
    "hideHardwareSpecs": false,
    "memoryGiB": 256,
    "name": "ml.m5.16xlarge",
    "vcpuNum": 64
   },
   {
    "_defaultOrder": 11,
    "_isFastLaunch": false,
    "category": "General purpose",
    "gpuNum": 0,
    "hideHardwareSpecs": false,
    "memoryGiB": 384,
    "name": "ml.m5.24xlarge",
    "vcpuNum": 96
   },
   {
    "_defaultOrder": 12,
    "_isFastLaunch": false,
    "category": "General purpose",
    "gpuNum": 0,
    "hideHardwareSpecs": false,
    "memoryGiB": 8,
    "name": "ml.m5d.large",
    "vcpuNum": 2
   },
   {
    "_defaultOrder": 13,
    "_isFastLaunch": false,
    "category": "General purpose",
    "gpuNum": 0,
    "hideHardwareSpecs": false,
    "memoryGiB": 16,
    "name": "ml.m5d.xlarge",
    "vcpuNum": 4
   },
   {
    "_defaultOrder": 14,
    "_isFastLaunch": false,
    "category": "General purpose",
    "gpuNum": 0,
    "hideHardwareSpecs": false,
    "memoryGiB": 32,
    "name": "ml.m5d.2xlarge",
    "vcpuNum": 8
   },
   {
    "_defaultOrder": 15,
    "_isFastLaunch": false,
    "category": "General purpose",
    "gpuNum": 0,
    "hideHardwareSpecs": false,
    "memoryGiB": 64,
    "name": "ml.m5d.4xlarge",
    "vcpuNum": 16
   },
   {
    "_defaultOrder": 16,
    "_isFastLaunch": false,
    "category": "General purpose",
    "gpuNum": 0,
    "hideHardwareSpecs": false,
    "memoryGiB": 128,
    "name": "ml.m5d.8xlarge",
    "vcpuNum": 32
   },
   {
    "_defaultOrder": 17,
    "_isFastLaunch": false,
    "category": "General purpose",
    "gpuNum": 0,
    "hideHardwareSpecs": false,
    "memoryGiB": 192,
    "name": "ml.m5d.12xlarge",
    "vcpuNum": 48
   },
   {
    "_defaultOrder": 18,
    "_isFastLaunch": false,
    "category": "General purpose",
    "gpuNum": 0,
    "hideHardwareSpecs": false,
    "memoryGiB": 256,
    "name": "ml.m5d.16xlarge",
    "vcpuNum": 64
   },
   {
    "_defaultOrder": 19,
    "_isFastLaunch": false,
    "category": "General purpose",
    "gpuNum": 0,
    "hideHardwareSpecs": false,
    "memoryGiB": 384,
    "name": "ml.m5d.24xlarge",
    "vcpuNum": 96
   },
   {
    "_defaultOrder": 20,
    "_isFastLaunch": false,
    "category": "General purpose",
    "gpuNum": 0,
    "hideHardwareSpecs": true,
    "memoryGiB": 0,
    "name": "ml.geospatial.interactive",
    "supportedImageNames": [
     "sagemaker-geospatial-v1-0"
    ],
    "vcpuNum": 0
   },
   {
    "_defaultOrder": 21,
    "_isFastLaunch": true,
    "category": "Compute optimized",
    "gpuNum": 0,
    "hideHardwareSpecs": false,
    "memoryGiB": 4,
    "name": "ml.c5.large",
    "vcpuNum": 2
   },
   {
    "_defaultOrder": 22,
    "_isFastLaunch": false,
    "category": "Compute optimized",
    "gpuNum": 0,
    "hideHardwareSpecs": false,
    "memoryGiB": 8,
    "name": "ml.c5.xlarge",
    "vcpuNum": 4
   },
   {
    "_defaultOrder": 23,
    "_isFastLaunch": false,
    "category": "Compute optimized",
    "gpuNum": 0,
    "hideHardwareSpecs": false,
    "memoryGiB": 16,
    "name": "ml.c5.2xlarge",
    "vcpuNum": 8
   },
   {
    "_defaultOrder": 24,
    "_isFastLaunch": false,
    "category": "Compute optimized",
    "gpuNum": 0,
    "hideHardwareSpecs": false,
    "memoryGiB": 32,
    "name": "ml.c5.4xlarge",
    "vcpuNum": 16
   },
   {
    "_defaultOrder": 25,
    "_isFastLaunch": false,
    "category": "Compute optimized",
    "gpuNum": 0,
    "hideHardwareSpecs": false,
    "memoryGiB": 72,
    "name": "ml.c5.9xlarge",
    "vcpuNum": 36
   },
   {
    "_defaultOrder": 26,
    "_isFastLaunch": false,
    "category": "Compute optimized",
    "gpuNum": 0,
    "hideHardwareSpecs": false,
    "memoryGiB": 96,
    "name": "ml.c5.12xlarge",
    "vcpuNum": 48
   },
   {
    "_defaultOrder": 27,
    "_isFastLaunch": false,
    "category": "Compute optimized",
    "gpuNum": 0,
    "hideHardwareSpecs": false,
    "memoryGiB": 144,
    "name": "ml.c5.18xlarge",
    "vcpuNum": 72
   },
   {
    "_defaultOrder": 28,
    "_isFastLaunch": false,
    "category": "Compute optimized",
    "gpuNum": 0,
    "hideHardwareSpecs": false,
    "memoryGiB": 192,
    "name": "ml.c5.24xlarge",
    "vcpuNum": 96
   },
   {
    "_defaultOrder": 29,
    "_isFastLaunch": true,
    "category": "Accelerated computing",
    "gpuNum": 1,
    "hideHardwareSpecs": false,
    "memoryGiB": 16,
    "name": "ml.g4dn.xlarge",
    "vcpuNum": 4
   },
   {
    "_defaultOrder": 30,
    "_isFastLaunch": false,
    "category": "Accelerated computing",
    "gpuNum": 1,
    "hideHardwareSpecs": false,
    "memoryGiB": 32,
    "name": "ml.g4dn.2xlarge",
    "vcpuNum": 8
   },
   {
    "_defaultOrder": 31,
    "_isFastLaunch": false,
    "category": "Accelerated computing",
    "gpuNum": 1,
    "hideHardwareSpecs": false,
    "memoryGiB": 64,
    "name": "ml.g4dn.4xlarge",
    "vcpuNum": 16
   },
   {
    "_defaultOrder": 32,
    "_isFastLaunch": false,
    "category": "Accelerated computing",
    "gpuNum": 1,
    "hideHardwareSpecs": false,
    "memoryGiB": 128,
    "name": "ml.g4dn.8xlarge",
    "vcpuNum": 32
   },
   {
    "_defaultOrder": 33,
    "_isFastLaunch": false,
    "category": "Accelerated computing",
    "gpuNum": 4,
    "hideHardwareSpecs": false,
    "memoryGiB": 192,
    "name": "ml.g4dn.12xlarge",
    "vcpuNum": 48
   },
   {
    "_defaultOrder": 34,
    "_isFastLaunch": false,
    "category": "Accelerated computing",
    "gpuNum": 1,
    "hideHardwareSpecs": false,
    "memoryGiB": 256,
    "name": "ml.g4dn.16xlarge",
    "vcpuNum": 64
   },
   {
    "_defaultOrder": 35,
    "_isFastLaunch": false,
    "category": "Accelerated computing",
    "gpuNum": 1,
    "hideHardwareSpecs": false,
    "memoryGiB": 61,
    "name": "ml.p3.2xlarge",
    "vcpuNum": 8
   },
   {
    "_defaultOrder": 36,
    "_isFastLaunch": false,
    "category": "Accelerated computing",
    "gpuNum": 4,
    "hideHardwareSpecs": false,
    "memoryGiB": 244,
    "name": "ml.p3.8xlarge",
    "vcpuNum": 32
   },
   {
    "_defaultOrder": 37,
    "_isFastLaunch": false,
    "category": "Accelerated computing",
    "gpuNum": 8,
    "hideHardwareSpecs": false,
    "memoryGiB": 488,
    "name": "ml.p3.16xlarge",
    "vcpuNum": 64
   },
   {
    "_defaultOrder": 38,
    "_isFastLaunch": false,
    "category": "Accelerated computing",
    "gpuNum": 8,
    "hideHardwareSpecs": false,
    "memoryGiB": 768,
    "name": "ml.p3dn.24xlarge",
    "vcpuNum": 96
   },
   {
    "_defaultOrder": 39,
    "_isFastLaunch": false,
    "category": "Memory Optimized",
    "gpuNum": 0,
    "hideHardwareSpecs": false,
    "memoryGiB": 16,
    "name": "ml.r5.large",
    "vcpuNum": 2
   },
   {
    "_defaultOrder": 40,
    "_isFastLaunch": false,
    "category": "Memory Optimized",
    "gpuNum": 0,
    "hideHardwareSpecs": false,
    "memoryGiB": 32,
    "name": "ml.r5.xlarge",
    "vcpuNum": 4
   },
   {
    "_defaultOrder": 41,
    "_isFastLaunch": false,
    "category": "Memory Optimized",
    "gpuNum": 0,
    "hideHardwareSpecs": false,
    "memoryGiB": 64,
    "name": "ml.r5.2xlarge",
    "vcpuNum": 8
   },
   {
    "_defaultOrder": 42,
    "_isFastLaunch": false,
    "category": "Memory Optimized",
    "gpuNum": 0,
    "hideHardwareSpecs": false,
    "memoryGiB": 128,
    "name": "ml.r5.4xlarge",
    "vcpuNum": 16
   },
   {
    "_defaultOrder": 43,
    "_isFastLaunch": false,
    "category": "Memory Optimized",
    "gpuNum": 0,
    "hideHardwareSpecs": false,
    "memoryGiB": 256,
    "name": "ml.r5.8xlarge",
    "vcpuNum": 32
   },
   {
    "_defaultOrder": 44,
    "_isFastLaunch": false,
    "category": "Memory Optimized",
    "gpuNum": 0,
    "hideHardwareSpecs": false,
    "memoryGiB": 384,
    "name": "ml.r5.12xlarge",
    "vcpuNum": 48
   },
   {
    "_defaultOrder": 45,
    "_isFastLaunch": false,
    "category": "Memory Optimized",
    "gpuNum": 0,
    "hideHardwareSpecs": false,
    "memoryGiB": 512,
    "name": "ml.r5.16xlarge",
    "vcpuNum": 64
   },
   {
    "_defaultOrder": 46,
    "_isFastLaunch": false,
    "category": "Memory Optimized",
    "gpuNum": 0,
    "hideHardwareSpecs": false,
    "memoryGiB": 768,
    "name": "ml.r5.24xlarge",
    "vcpuNum": 96
   },
   {
    "_defaultOrder": 47,
    "_isFastLaunch": false,
    "category": "Accelerated computing",
    "gpuNum": 1,
    "hideHardwareSpecs": false,
    "memoryGiB": 16,
    "name": "ml.g5.xlarge",
    "vcpuNum": 4
   },
   {
    "_defaultOrder": 48,
    "_isFastLaunch": false,
    "category": "Accelerated computing",
    "gpuNum": 1,
    "hideHardwareSpecs": false,
    "memoryGiB": 32,
    "name": "ml.g5.2xlarge",
    "vcpuNum": 8
   },
   {
    "_defaultOrder": 49,
    "_isFastLaunch": false,
    "category": "Accelerated computing",
    "gpuNum": 1,
    "hideHardwareSpecs": false,
    "memoryGiB": 64,
    "name": "ml.g5.4xlarge",
    "vcpuNum": 16
   },
   {
    "_defaultOrder": 50,
    "_isFastLaunch": false,
    "category": "Accelerated computing",
    "gpuNum": 1,
    "hideHardwareSpecs": false,
    "memoryGiB": 128,
    "name": "ml.g5.8xlarge",
    "vcpuNum": 32
   },
   {
    "_defaultOrder": 51,
    "_isFastLaunch": false,
    "category": "Accelerated computing",
    "gpuNum": 1,
    "hideHardwareSpecs": false,
    "memoryGiB": 256,
    "name": "ml.g5.16xlarge",
    "vcpuNum": 64
   },
   {
    "_defaultOrder": 52,
    "_isFastLaunch": false,
    "category": "Accelerated computing",
    "gpuNum": 4,
    "hideHardwareSpecs": false,
    "memoryGiB": 192,
    "name": "ml.g5.12xlarge",
    "vcpuNum": 48
   },
   {
    "_defaultOrder": 53,
    "_isFastLaunch": false,
    "category": "Accelerated computing",
    "gpuNum": 4,
    "hideHardwareSpecs": false,
    "memoryGiB": 384,
    "name": "ml.g5.24xlarge",
    "vcpuNum": 96
   },
   {
    "_defaultOrder": 54,
    "_isFastLaunch": false,
    "category": "Accelerated computing",
    "gpuNum": 8,
    "hideHardwareSpecs": false,
    "memoryGiB": 768,
    "name": "ml.g5.48xlarge",
    "vcpuNum": 192
   },
   {
    "_defaultOrder": 55,
    "_isFastLaunch": false,
    "category": "Accelerated computing",
    "gpuNum": 8,
    "hideHardwareSpecs": false,
    "memoryGiB": 1152,
    "name": "ml.p4d.24xlarge",
    "vcpuNum": 96
   },
   {
    "_defaultOrder": 56,
    "_isFastLaunch": false,
    "category": "Accelerated computing",
    "gpuNum": 8,
    "hideHardwareSpecs": false,
    "memoryGiB": 1152,
    "name": "ml.p4de.24xlarge",
    "vcpuNum": 96
   }
  ],
  "instance_type": "ml.t3.medium",
  "kernelspec": {
   "display_name": "Python 3 (Data Science 3.0)",
   "language": "python",
   "name": "python3__SAGEMAKER_INTERNAL__arn:aws:sagemaker:us-west-2:236514542706:image/sagemaker-data-science-310-v1"
  },
  "language_info": {
   "codemirror_mode": {
    "name": "ipython",
    "version": 3
   },
   "file_extension": ".py",
   "mimetype": "text/x-python",
   "name": "python",
   "nbconvert_exporter": "python",
   "pygments_lexer": "ipython3",
   "version": "3.10.6"
  }
 },
 "nbformat": 4,
 "nbformat_minor": 5
}
