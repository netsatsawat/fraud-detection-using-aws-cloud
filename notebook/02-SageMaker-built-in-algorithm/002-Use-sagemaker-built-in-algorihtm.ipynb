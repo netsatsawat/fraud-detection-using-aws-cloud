{
 "cells": [
  {
   "cell_type": "markdown",
   "id": "55572924-c419-4fb9-86c6-4f2ec8ebdc10",
   "metadata": {},
   "source": [
    "# SageMaker - Built-in Algorithm\n",
    "---\n",
    "\n",
    "In this demonstration notebook, I will utilize the **built-in algorithms** provided by SageMaker. This way of building, training ML model is preferred way and optimize for costing instead of spinning up the large instance from the get-go.\n",
    "\n",
    "**Amazon SageMaker** provides a suite of built-in algorithms, pre-trained models, and pre-built solution templates to help data scientists and machine learning practitioners get started on training and deploying machine learning models quickly. For someone who is new to SageMaker, choosing the right algorithm for your particular use case can be a challenging task. \n",
    "\n",
    "For full list of built-in algorithm, please refer to [SageMaker documentation](https://docs.aws.amazon.com/sagemaker/latest/dg/algos.html)."
   ]
  },
  {
   "cell_type": "markdown",
   "id": "96cbf187-2ad1-4c0b-b5c1-ecf7f3f92b5b",
   "metadata": {},
   "source": [
    "## Set up\n",
    "---\n",
    "Ensure that **sagemaker** and **boto3** libraries are up-to-date."
   ]
  },
  {
   "cell_type": "code",
   "execution_count": 2,
   "id": "7a7bec60-1e0d-4dde-a0e1-9cba1582e731",
   "metadata": {
    "tags": []
   },
   "outputs": [
    {
     "name": "stdout",
     "output_type": "stream",
     "text": [
      "Note: you may need to restart the kernel to use updated packages.\n"
     ]
    }
   ],
   "source": [
    "%pip install awscli sagemaker boto3 botocore --quiet --upgrade --root-user-action=ignore"
   ]
  },
  {
   "cell_type": "markdown",
   "id": "d9c8daed-d91b-46d5-ad3d-3e811d8b72a7",
   "metadata": {},
   "source": [
    "## Load dataset and basic feature engineering\n",
    "---\n",
    "\n",
    "This code is reusable from previous notebook."
   ]
  },
  {
   "cell_type": "code",
   "execution_count": 3,
   "id": "bb44c5c1-460e-4396-bd7d-9ee5ff4d2507",
   "metadata": {},
   "outputs": [],
   "source": [
    "import pandas as pd\n",
    "import numpy as np\n",
    "\n",
    "pd.set_option('display.max_columns', None)"
   ]
  },
  {
   "cell_type": "code",
   "execution_count": 4,
   "id": "3dff918c-838f-4261-84ba-f945be03a018",
   "metadata": {
    "tags": []
   },
   "outputs": [
    {
     "name": "stdout",
     "output_type": "stream",
     "text": [
      "(100000, 23)\n"
     ]
    },
    {
     "data": {
      "text/html": [
       "<div>\n",
       "<style scoped>\n",
       "    .dataframe tbody tr th:only-of-type {\n",
       "        vertical-align: middle;\n",
       "    }\n",
       "\n",
       "    .dataframe tbody tr th {\n",
       "        vertical-align: top;\n",
       "    }\n",
       "\n",
       "    .dataframe thead th {\n",
       "        text-align: right;\n",
       "    }\n",
       "</style>\n",
       "<table border=\"1\" class=\"dataframe\">\n",
       "  <thead>\n",
       "    <tr style=\"text-align: right;\">\n",
       "      <th></th>\n",
       "      <th>first_name</th>\n",
       "      <th>last_name</th>\n",
       "      <th>date_of_birth</th>\n",
       "      <th>incident_severity</th>\n",
       "      <th>num_vehicles_involved</th>\n",
       "      <th>num_injuries</th>\n",
       "      <th>num_witnesses</th>\n",
       "      <th>police_report_available</th>\n",
       "      <th>injury_claim</th>\n",
       "      <th>vehicle_claim</th>\n",
       "      <th>incident_hour</th>\n",
       "      <th>customer_age</th>\n",
       "      <th>policy_deductable</th>\n",
       "      <th>policy_annual_premium</th>\n",
       "      <th>num_claims_past_year</th>\n",
       "      <th>EVENT_LABEL</th>\n",
       "      <th>EVENT_TIMESTAMP</th>\n",
       "      <th>EVENT_ID</th>\n",
       "      <th>ENTITY_TYPE</th>\n",
       "      <th>ENTITY_ID</th>\n",
       "      <th>policy_id</th>\n",
       "      <th>incident_type</th>\n",
       "      <th>LABEL_TIMESTAMP</th>\n",
       "    </tr>\n",
       "  </thead>\n",
       "  <tbody>\n",
       "    <tr>\n",
       "      <th>0</th>\n",
       "      <td>Jose</td>\n",
       "      <td>Haynes</td>\n",
       "      <td>1927-10-16</td>\n",
       "      <td>5.0</td>\n",
       "      <td>2.0</td>\n",
       "      <td>2.0</td>\n",
       "      <td>1.0</td>\n",
       "      <td>0.0</td>\n",
       "      <td>12986.0</td>\n",
       "      <td>4375.0</td>\n",
       "      <td>15.0</td>\n",
       "      <td>43.0</td>\n",
       "      <td>666.0</td>\n",
       "      <td>2995.0</td>\n",
       "      <td>5.0</td>\n",
       "      <td>legit</td>\n",
       "      <td>2022-07-13T10:03:22Z</td>\n",
       "      <td>b4b09066-de78-40d9-bb54-498fee1770c5</td>\n",
       "      <td>customer</td>\n",
       "      <td>a612-85445302</td>\n",
       "      <td>b4b09066-de78-40d9-bb54-498fee1770c5</td>\n",
       "      <td>collision</td>\n",
       "      <td>2023-03-06T15:05:50Z</td>\n",
       "    </tr>\n",
       "    <tr>\n",
       "      <th>1</th>\n",
       "      <td>Vicki</td>\n",
       "      <td>Stark</td>\n",
       "      <td>1952-09-20</td>\n",
       "      <td>4.0</td>\n",
       "      <td>3.0</td>\n",
       "      <td>5.0</td>\n",
       "      <td>2.0</td>\n",
       "      <td>0.0</td>\n",
       "      <td>6065.0</td>\n",
       "      <td>5941.0</td>\n",
       "      <td>10.0</td>\n",
       "      <td>45.0</td>\n",
       "      <td>649.0</td>\n",
       "      <td>1535.0</td>\n",
       "      <td>4.0</td>\n",
       "      <td>legit</td>\n",
       "      <td>2023-02-03T02:48:21Z</td>\n",
       "      <td>d2ccfe0a-e65b-4983-bbd8-de73506f0bca</td>\n",
       "      <td>customer</td>\n",
       "      <td>c786-86718442</td>\n",
       "      <td>d2ccfe0a-e65b-4983-bbd8-de73506f0bca</td>\n",
       "      <td>theft</td>\n",
       "      <td>2023-03-06T15:05:50Z</td>\n",
       "    </tr>\n",
       "    <tr>\n",
       "      <th>2</th>\n",
       "      <td>Breanna</td>\n",
       "      <td>Kline</td>\n",
       "      <td>1984-05-14</td>\n",
       "      <td>4.0</td>\n",
       "      <td>3.0</td>\n",
       "      <td>3.0</td>\n",
       "      <td>2.0</td>\n",
       "      <td>0.0</td>\n",
       "      <td>12017.0</td>\n",
       "      <td>4712.0</td>\n",
       "      <td>22.0</td>\n",
       "      <td>30.0</td>\n",
       "      <td>436.0</td>\n",
       "      <td>3043.0</td>\n",
       "      <td>5.0</td>\n",
       "      <td>legit</td>\n",
       "      <td>2022-11-19T03:22:35Z</td>\n",
       "      <td>cd4084d4-717d-456b-baa9-bae079f80aaf</td>\n",
       "      <td>customer</td>\n",
       "      <td>b340-10389704</td>\n",
       "      <td>cd4084d4-717d-456b-baa9-bae079f80aaf</td>\n",
       "      <td>collision</td>\n",
       "      <td>2023-03-06T15:05:50Z</td>\n",
       "    </tr>\n",
       "  </tbody>\n",
       "</table>\n",
       "</div>"
      ],
      "text/plain": [
       "  first_name last_name date_of_birth  incident_severity  \\\n",
       "0       Jose    Haynes    1927-10-16                5.0   \n",
       "1      Vicki     Stark    1952-09-20                4.0   \n",
       "2    Breanna     Kline    1984-05-14                4.0   \n",
       "\n",
       "   num_vehicles_involved  num_injuries  num_witnesses  \\\n",
       "0                    2.0           2.0            1.0   \n",
       "1                    3.0           5.0            2.0   \n",
       "2                    3.0           3.0            2.0   \n",
       "\n",
       "   police_report_available  injury_claim  vehicle_claim  incident_hour  \\\n",
       "0                      0.0       12986.0         4375.0           15.0   \n",
       "1                      0.0        6065.0         5941.0           10.0   \n",
       "2                      0.0       12017.0         4712.0           22.0   \n",
       "\n",
       "   customer_age  policy_deductable  policy_annual_premium  \\\n",
       "0          43.0              666.0                 2995.0   \n",
       "1          45.0              649.0                 1535.0   \n",
       "2          30.0              436.0                 3043.0   \n",
       "\n",
       "   num_claims_past_year EVENT_LABEL       EVENT_TIMESTAMP  \\\n",
       "0                   5.0       legit  2022-07-13T10:03:22Z   \n",
       "1                   4.0       legit  2023-02-03T02:48:21Z   \n",
       "2                   5.0       legit  2022-11-19T03:22:35Z   \n",
       "\n",
       "                               EVENT_ID ENTITY_TYPE      ENTITY_ID  \\\n",
       "0  b4b09066-de78-40d9-bb54-498fee1770c5    customer  a612-85445302   \n",
       "1  d2ccfe0a-e65b-4983-bbd8-de73506f0bca    customer  c786-86718442   \n",
       "2  cd4084d4-717d-456b-baa9-bae079f80aaf    customer  b340-10389704   \n",
       "\n",
       "                              policy_id incident_type       LABEL_TIMESTAMP  \n",
       "0  b4b09066-de78-40d9-bb54-498fee1770c5     collision  2023-03-06T15:05:50Z  \n",
       "1  d2ccfe0a-e65b-4983-bbd8-de73506f0bca         theft  2023-03-06T15:05:50Z  \n",
       "2  cd4084d4-717d-456b-baa9-bae079f80aaf     collision  2023-03-06T15:05:50Z  "
      ]
     },
     "metadata": {},
     "output_type": "display_data"
    }
   ],
   "source": [
    "df = pd.read_csv('../data/Insurance_FraudulentAutoInsuranceClaims_100k.csv')\n",
    "print(df.shape)\n",
    "display(df.head(3))"
   ]
  },
  {
   "cell_type": "code",
   "execution_count": 5,
   "id": "9653f1a9-daa7-41d2-80bd-df5f3edba44b",
   "metadata": {
    "tags": []
   },
   "outputs": [],
   "source": [
    "df.loc[:, 'EVENT_TIMESTAMP'] = pd.to_datetime(pd.to_datetime(df['EVENT_TIMESTAMP']).dt.strftime('%Y-%m-%d'))\n",
    "df.loc[:, 'date_of_birth'] = pd.to_datetime(df['date_of_birth'])\n",
    "df.loc[:, 'age'] = df['EVENT_TIMESTAMP'].apply(lambda x: x.year) - df['date_of_birth'].apply(lambda x: x.year)\n",
    "df.drop(['LABEL_TIMESTAMP', 'ENTITY_TYPE'], axis=1, inplace=True)\n",
    "df.drop(['EVENT_TIMESTAMP', 'ENTITY_ID', 'EVENT_ID'], axis=1, inplace=True)\n",
    "df.drop(['date_of_birth', 'first_name', 'last_name'], axis=1, inplace=True)"
   ]
  },
  {
   "cell_type": "code",
   "execution_count": 6,
   "id": "8a3f9cc4-50ab-48ae-8b8e-e409807176df",
   "metadata": {
    "tags": []
   },
   "outputs": [],
   "source": [
    "target_col = 'EVENT_LABEL'\n",
    "df['is_fraud'] = df[target_col].map({'fraud': 1, 'legit': 0})\n",
    "df.drop([target_col], axis=1, inplace=True)\n",
    "target_col = 'is_fraud' "
   ]
  },
  {
   "cell_type": "code",
   "execution_count": 7,
   "id": "f9fd8a15-984c-4354-92d3-5f49458380ec",
   "metadata": {
    "tags": []
   },
   "outputs": [],
   "source": [
    "_tmp = pd.get_dummies(df['incident_type'], drop_first=True, dtype='int')\n",
    "full_df = pd.concat([df.drop(['policy_id', 'incident_type'], axis=1), _tmp], axis=1)"
   ]
  },
  {
   "cell_type": "code",
   "execution_count": 8,
   "id": "d1163c44-9e00-4510-95d9-582a37ee4cec",
   "metadata": {
    "tags": []
   },
   "outputs": [
    {
     "data": {
      "text/html": [
       "<div>\n",
       "<style scoped>\n",
       "    .dataframe tbody tr th:only-of-type {\n",
       "        vertical-align: middle;\n",
       "    }\n",
       "\n",
       "    .dataframe tbody tr th {\n",
       "        vertical-align: top;\n",
       "    }\n",
       "\n",
       "    .dataframe thead th {\n",
       "        text-align: right;\n",
       "    }\n",
       "</style>\n",
       "<table border=\"1\" class=\"dataframe\">\n",
       "  <thead>\n",
       "    <tr style=\"text-align: right;\">\n",
       "      <th></th>\n",
       "      <th>incident_severity</th>\n",
       "      <th>num_vehicles_involved</th>\n",
       "      <th>num_injuries</th>\n",
       "      <th>num_witnesses</th>\n",
       "      <th>police_report_available</th>\n",
       "      <th>injury_claim</th>\n",
       "      <th>vehicle_claim</th>\n",
       "      <th>incident_hour</th>\n",
       "      <th>customer_age</th>\n",
       "      <th>policy_deductable</th>\n",
       "      <th>policy_annual_premium</th>\n",
       "      <th>num_claims_past_year</th>\n",
       "      <th>age</th>\n",
       "      <th>is_fraud</th>\n",
       "      <th>collision</th>\n",
       "      <th>theft</th>\n",
       "    </tr>\n",
       "  </thead>\n",
       "  <tbody>\n",
       "    <tr>\n",
       "      <th>0</th>\n",
       "      <td>5.0</td>\n",
       "      <td>2.0</td>\n",
       "      <td>2.0</td>\n",
       "      <td>1.0</td>\n",
       "      <td>0.0</td>\n",
       "      <td>12986.0</td>\n",
       "      <td>4375.0</td>\n",
       "      <td>15.0</td>\n",
       "      <td>43.0</td>\n",
       "      <td>666.0</td>\n",
       "      <td>2995.0</td>\n",
       "      <td>5.0</td>\n",
       "      <td>95</td>\n",
       "      <td>0</td>\n",
       "      <td>1</td>\n",
       "      <td>0</td>\n",
       "    </tr>\n",
       "    <tr>\n",
       "      <th>1</th>\n",
       "      <td>4.0</td>\n",
       "      <td>3.0</td>\n",
       "      <td>5.0</td>\n",
       "      <td>2.0</td>\n",
       "      <td>0.0</td>\n",
       "      <td>6065.0</td>\n",
       "      <td>5941.0</td>\n",
       "      <td>10.0</td>\n",
       "      <td>45.0</td>\n",
       "      <td>649.0</td>\n",
       "      <td>1535.0</td>\n",
       "      <td>4.0</td>\n",
       "      <td>71</td>\n",
       "      <td>0</td>\n",
       "      <td>0</td>\n",
       "      <td>1</td>\n",
       "    </tr>\n",
       "    <tr>\n",
       "      <th>2</th>\n",
       "      <td>4.0</td>\n",
       "      <td>3.0</td>\n",
       "      <td>3.0</td>\n",
       "      <td>2.0</td>\n",
       "      <td>0.0</td>\n",
       "      <td>12017.0</td>\n",
       "      <td>4712.0</td>\n",
       "      <td>22.0</td>\n",
       "      <td>30.0</td>\n",
       "      <td>436.0</td>\n",
       "      <td>3043.0</td>\n",
       "      <td>5.0</td>\n",
       "      <td>38</td>\n",
       "      <td>0</td>\n",
       "      <td>1</td>\n",
       "      <td>0</td>\n",
       "    </tr>\n",
       "    <tr>\n",
       "      <th>3</th>\n",
       "      <td>5.0</td>\n",
       "      <td>2.0</td>\n",
       "      <td>3.0</td>\n",
       "      <td>2.0</td>\n",
       "      <td>0.0</td>\n",
       "      <td>10015.0</td>\n",
       "      <td>4120.0</td>\n",
       "      <td>13.0</td>\n",
       "      <td>41.0</td>\n",
       "      <td>640.0</td>\n",
       "      <td>3197.0</td>\n",
       "      <td>4.0</td>\n",
       "      <td>82</td>\n",
       "      <td>0</td>\n",
       "      <td>1</td>\n",
       "      <td>0</td>\n",
       "    </tr>\n",
       "    <tr>\n",
       "      <th>4</th>\n",
       "      <td>5.0</td>\n",
       "      <td>2.0</td>\n",
       "      <td>1.0</td>\n",
       "      <td>1.0</td>\n",
       "      <td>0.0</td>\n",
       "      <td>10962.0</td>\n",
       "      <td>3255.0</td>\n",
       "      <td>14.0</td>\n",
       "      <td>46.0</td>\n",
       "      <td>593.0</td>\n",
       "      <td>3738.0</td>\n",
       "      <td>3.0</td>\n",
       "      <td>4</td>\n",
       "      <td>0</td>\n",
       "      <td>1</td>\n",
       "      <td>0</td>\n",
       "    </tr>\n",
       "  </tbody>\n",
       "</table>\n",
       "</div>"
      ],
      "text/plain": [
       "   incident_severity  num_vehicles_involved  num_injuries  num_witnesses  \\\n",
       "0                5.0                    2.0           2.0            1.0   \n",
       "1                4.0                    3.0           5.0            2.0   \n",
       "2                4.0                    3.0           3.0            2.0   \n",
       "3                5.0                    2.0           3.0            2.0   \n",
       "4                5.0                    2.0           1.0            1.0   \n",
       "\n",
       "   police_report_available  injury_claim  vehicle_claim  incident_hour  \\\n",
       "0                      0.0       12986.0         4375.0           15.0   \n",
       "1                      0.0        6065.0         5941.0           10.0   \n",
       "2                      0.0       12017.0         4712.0           22.0   \n",
       "3                      0.0       10015.0         4120.0           13.0   \n",
       "4                      0.0       10962.0         3255.0           14.0   \n",
       "\n",
       "   customer_age  policy_deductable  policy_annual_premium  \\\n",
       "0          43.0              666.0                 2995.0   \n",
       "1          45.0              649.0                 1535.0   \n",
       "2          30.0              436.0                 3043.0   \n",
       "3          41.0              640.0                 3197.0   \n",
       "4          46.0              593.0                 3738.0   \n",
       "\n",
       "   num_claims_past_year  age  is_fraud  collision  theft  \n",
       "0                   5.0   95         0          1      0  \n",
       "1                   4.0   71         0          0      1  \n",
       "2                   5.0   38         0          1      0  \n",
       "3                   4.0   82         0          1      0  \n",
       "4                   3.0    4         0          1      0  "
      ]
     },
     "execution_count": 8,
     "metadata": {},
     "output_type": "execute_result"
    }
   ],
   "source": [
    "full_df.head()"
   ]
  },
  {
   "cell_type": "markdown",
   "id": "fe77ce19-d0af-4730-a6ea-d803574db746",
   "metadata": {},
   "source": [
    "## Build model using XGBoost on SageMaker\n",
    "---\n",
    "\n",
    "One thing about using **Amazon SageMaker XGBoost**, it can train on data in either a CSV or LibSVM format. \n",
    "\n",
    "For this demonstration, I'll stick with CSV. The requirement for using are;\n",
    "- Have the predictor variable in the first column\n",
    "- Not have a header row\n",
    "\n",
    "For more information, please refer to this [documentation](https://sagemaker.readthedocs.io/en/stable/frameworks/xgboost/using_xgboost.html)."
   ]
  },
  {
   "cell_type": "markdown",
   "id": "bec0b16e-f5b2-48e5-a8ca-f243db27a3c3",
   "metadata": {},
   "source": [
    "### Split data and save in acceptable format by SageMaker XGBoost"
   ]
  },
  {
   "cell_type": "code",
   "execution_count": 9,
   "id": "4a604a43-3b86-4b11-9b93-aec7325b47ca",
   "metadata": {
    "tags": []
   },
   "outputs": [
    {
     "name": "stdout",
     "output_type": "stream",
     "text": [
      "sagemaker.config INFO - Not applying SDK defaults from location: /etc/xdg/sagemaker/config.yaml\n",
      "sagemaker.config INFO - Not applying SDK defaults from location: /root/.config/sagemaker/config.yaml\n",
      "sagemaker.config INFO - Not applying SDK defaults from location: /etc/xdg/sagemaker/config.yaml\n",
      "sagemaker.config INFO - Not applying SDK defaults from location: /root/.config/sagemaker/config.yaml\n"
     ]
    }
   ],
   "source": [
    "import sagemaker\n",
    "\n",
    "S3_BUCKET_NM = sagemaker.Session().default_bucket()  # change this to fit your S3 bucket name\n",
    "S3_PREFIX = 'built-in-algorithm/auto-insurance-fraud-claim'  # change this to fit your S3 key"
   ]
  },
  {
   "cell_type": "code",
   "execution_count": 10,
   "id": "c3c25b21-7813-45c9-9943-d313e108f5d5",
   "metadata": {
    "tags": []
   },
   "outputs": [
    {
     "name": "stdout",
     "output_type": "stream",
     "text": [
      "(64000, 16) (16000, 16) (20000, 16)\n"
     ]
    }
   ],
   "source": [
    "from sklearn.model_selection import StratifiedShuffleSplit\n",
    "\n",
    "X_df = full_df.drop([target_col], axis=1)\n",
    "y_df = full_df[target_col]\n",
    "train_test_split = StratifiedShuffleSplit(n_splits=1, test_size=0.2, random_state=42)\n",
    "\n",
    "for train_idx, test_idx in train_test_split.split(X_df, y_df):\n",
    "    train_df = full_df.loc[train_idx]\n",
    "    test_df = full_df.loc[test_idx]\n",
    "\n",
    "    \n",
    "X_train_df = train_df.drop([target_col], axis=1)\n",
    "y_train_df = train_df[target_col]\n",
    "train_val_split = StratifiedShuffleSplit(n_splits=1, test_size=0.2, random_state=42)\n",
    "\n",
    "for train_idx, val_idx in train_val_split.split(X_train_df, y_train_df):\n",
    "    train_df = full_df.loc[train_idx]\n",
    "    val_df = full_df.loc[val_idx]\n",
    "    \n",
    "print(train_df.shape, val_df.shape, test_df.shape)"
   ]
  },
  {
   "cell_type": "code",
   "execution_count": 11,
   "id": "28d11063-fbd6-44f6-a3ad-eea137b46768",
   "metadata": {
    "tags": []
   },
   "outputs": [],
   "source": [
    "fix_cols = [\n",
    "    'is_fraud', 'incident_severity', 'num_vehicles_involved', 'num_injuries', 'num_witnesses', \n",
    "    'police_report_available', 'injury_claim', 'vehicle_claim', 'incident_hour', \n",
    "    'customer_age', 'policy_deductable', 'policy_annual_premium', 'num_claims_past_year', 'collision', 'theft'\n",
    "]"
   ]
  },
  {
   "cell_type": "code",
   "execution_count": 12,
   "id": "2d0e8585-e68f-4b14-9156-bb575a593c47",
   "metadata": {
    "tags": []
   },
   "outputs": [
    {
     "data": {
      "text/html": [
       "<div>\n",
       "<style scoped>\n",
       "    .dataframe tbody tr th:only-of-type {\n",
       "        vertical-align: middle;\n",
       "    }\n",
       "\n",
       "    .dataframe tbody tr th {\n",
       "        vertical-align: top;\n",
       "    }\n",
       "\n",
       "    .dataframe thead th {\n",
       "        text-align: right;\n",
       "    }\n",
       "</style>\n",
       "<table border=\"1\" class=\"dataframe\">\n",
       "  <thead>\n",
       "    <tr style=\"text-align: right;\">\n",
       "      <th></th>\n",
       "      <th>is_fraud</th>\n",
       "      <th>incident_severity</th>\n",
       "      <th>num_vehicles_involved</th>\n",
       "      <th>num_injuries</th>\n",
       "      <th>num_witnesses</th>\n",
       "      <th>police_report_available</th>\n",
       "      <th>injury_claim</th>\n",
       "      <th>vehicle_claim</th>\n",
       "      <th>incident_hour</th>\n",
       "      <th>customer_age</th>\n",
       "      <th>policy_deductable</th>\n",
       "      <th>policy_annual_premium</th>\n",
       "      <th>num_claims_past_year</th>\n",
       "      <th>collision</th>\n",
       "      <th>theft</th>\n",
       "    </tr>\n",
       "  </thead>\n",
       "  <tbody>\n",
       "    <tr>\n",
       "      <th>9022</th>\n",
       "      <td>0</td>\n",
       "      <td>5.0</td>\n",
       "      <td>2.0</td>\n",
       "      <td>3.0</td>\n",
       "      <td>2.0</td>\n",
       "      <td>0.0</td>\n",
       "      <td>9746.0</td>\n",
       "      <td>4621.0</td>\n",
       "      <td>11.0</td>\n",
       "      <td>36.0</td>\n",
       "      <td>600.0</td>\n",
       "      <td>1824.0</td>\n",
       "      <td>6.0</td>\n",
       "      <td>0</td>\n",
       "      <td>1</td>\n",
       "    </tr>\n",
       "    <tr>\n",
       "      <th>52785</th>\n",
       "      <td>0</td>\n",
       "      <td>4.0</td>\n",
       "      <td>2.0</td>\n",
       "      <td>4.0</td>\n",
       "      <td>2.0</td>\n",
       "      <td>0.0</td>\n",
       "      <td>13003.0</td>\n",
       "      <td>4436.0</td>\n",
       "      <td>11.0</td>\n",
       "      <td>40.0</td>\n",
       "      <td>578.0</td>\n",
       "      <td>3190.0</td>\n",
       "      <td>3.0</td>\n",
       "      <td>0</td>\n",
       "      <td>0</td>\n",
       "    </tr>\n",
       "  </tbody>\n",
       "</table>\n",
       "</div>"
      ],
      "text/plain": [
       "       is_fraud  incident_severity  num_vehicles_involved  num_injuries  \\\n",
       "9022          0                5.0                    2.0           3.0   \n",
       "52785         0                4.0                    2.0           4.0   \n",
       "\n",
       "       num_witnesses  police_report_available  injury_claim  vehicle_claim  \\\n",
       "9022             2.0                      0.0        9746.0         4621.0   \n",
       "52785            2.0                      0.0       13003.0         4436.0   \n",
       "\n",
       "       incident_hour  customer_age  policy_deductable  policy_annual_premium  \\\n",
       "9022            11.0          36.0              600.0                 1824.0   \n",
       "52785           11.0          40.0              578.0                 3190.0   \n",
       "\n",
       "       num_claims_past_year  collision  theft  \n",
       "9022                    6.0          0      1  \n",
       "52785                   3.0          0      0  "
      ]
     },
     "metadata": {},
     "output_type": "display_data"
    },
    {
     "data": {
      "text/html": [
       "<div>\n",
       "<style scoped>\n",
       "    .dataframe tbody tr th:only-of-type {\n",
       "        vertical-align: middle;\n",
       "    }\n",
       "\n",
       "    .dataframe tbody tr th {\n",
       "        vertical-align: top;\n",
       "    }\n",
       "\n",
       "    .dataframe thead th {\n",
       "        text-align: right;\n",
       "    }\n",
       "</style>\n",
       "<table border=\"1\" class=\"dataframe\">\n",
       "  <thead>\n",
       "    <tr style=\"text-align: right;\">\n",
       "      <th></th>\n",
       "      <th>is_fraud</th>\n",
       "      <th>incident_severity</th>\n",
       "      <th>num_vehicles_involved</th>\n",
       "      <th>num_injuries</th>\n",
       "      <th>num_witnesses</th>\n",
       "      <th>police_report_available</th>\n",
       "      <th>injury_claim</th>\n",
       "      <th>vehicle_claim</th>\n",
       "      <th>incident_hour</th>\n",
       "      <th>customer_age</th>\n",
       "      <th>policy_deductable</th>\n",
       "      <th>policy_annual_premium</th>\n",
       "      <th>num_claims_past_year</th>\n",
       "      <th>collision</th>\n",
       "      <th>theft</th>\n",
       "    </tr>\n",
       "  </thead>\n",
       "  <tbody>\n",
       "    <tr>\n",
       "      <th>67757</th>\n",
       "      <td>0</td>\n",
       "      <td>6.0</td>\n",
       "      <td>2.0</td>\n",
       "      <td>2.0</td>\n",
       "      <td>2.0</td>\n",
       "      <td>0.0</td>\n",
       "      <td>10148.0</td>\n",
       "      <td>4369.0</td>\n",
       "      <td>17.0</td>\n",
       "      <td>45.0</td>\n",
       "      <td>509.0</td>\n",
       "      <td>3111.0</td>\n",
       "      <td>4.0</td>\n",
       "      <td>1</td>\n",
       "      <td>0</td>\n",
       "    </tr>\n",
       "    <tr>\n",
       "      <th>66182</th>\n",
       "      <td>0</td>\n",
       "      <td>6.0</td>\n",
       "      <td>2.0</td>\n",
       "      <td>4.0</td>\n",
       "      <td>1.0</td>\n",
       "      <td>0.0</td>\n",
       "      <td>12138.0</td>\n",
       "      <td>4353.0</td>\n",
       "      <td>5.0</td>\n",
       "      <td>59.0</td>\n",
       "      <td>438.0</td>\n",
       "      <td>2953.0</td>\n",
       "      <td>4.0</td>\n",
       "      <td>1</td>\n",
       "      <td>0</td>\n",
       "    </tr>\n",
       "  </tbody>\n",
       "</table>\n",
       "</div>"
      ],
      "text/plain": [
       "       is_fraud  incident_severity  num_vehicles_involved  num_injuries  \\\n",
       "67757         0                6.0                    2.0           2.0   \n",
       "66182         0                6.0                    2.0           4.0   \n",
       "\n",
       "       num_witnesses  police_report_available  injury_claim  vehicle_claim  \\\n",
       "67757            2.0                      0.0       10148.0         4369.0   \n",
       "66182            1.0                      0.0       12138.0         4353.0   \n",
       "\n",
       "       incident_hour  customer_age  policy_deductable  policy_annual_premium  \\\n",
       "67757           17.0          45.0              509.0                 3111.0   \n",
       "66182            5.0          59.0              438.0                 2953.0   \n",
       "\n",
       "       num_claims_past_year  collision  theft  \n",
       "67757                   4.0          1      0  \n",
       "66182                   4.0          1      0  "
      ]
     },
     "metadata": {},
     "output_type": "display_data"
    },
    {
     "data": {
      "text/html": [
       "<div>\n",
       "<style scoped>\n",
       "    .dataframe tbody tr th:only-of-type {\n",
       "        vertical-align: middle;\n",
       "    }\n",
       "\n",
       "    .dataframe tbody tr th {\n",
       "        vertical-align: top;\n",
       "    }\n",
       "\n",
       "    .dataframe thead th {\n",
       "        text-align: right;\n",
       "    }\n",
       "</style>\n",
       "<table border=\"1\" class=\"dataframe\">\n",
       "  <thead>\n",
       "    <tr style=\"text-align: right;\">\n",
       "      <th></th>\n",
       "      <th>is_fraud</th>\n",
       "      <th>incident_severity</th>\n",
       "      <th>num_vehicles_involved</th>\n",
       "      <th>num_injuries</th>\n",
       "      <th>num_witnesses</th>\n",
       "      <th>police_report_available</th>\n",
       "      <th>injury_claim</th>\n",
       "      <th>vehicle_claim</th>\n",
       "      <th>incident_hour</th>\n",
       "      <th>customer_age</th>\n",
       "      <th>policy_deductable</th>\n",
       "      <th>policy_annual_premium</th>\n",
       "      <th>num_claims_past_year</th>\n",
       "      <th>collision</th>\n",
       "      <th>theft</th>\n",
       "    </tr>\n",
       "  </thead>\n",
       "  <tbody>\n",
       "    <tr>\n",
       "      <th>78226</th>\n",
       "      <td>0</td>\n",
       "      <td>4.0</td>\n",
       "      <td>2.0</td>\n",
       "      <td>4.0</td>\n",
       "      <td>1.0</td>\n",
       "      <td>0.0</td>\n",
       "      <td>12212.0</td>\n",
       "      <td>5026.0</td>\n",
       "      <td>5.0</td>\n",
       "      <td>42.0</td>\n",
       "      <td>306.0</td>\n",
       "      <td>2279.0</td>\n",
       "      <td>5.0</td>\n",
       "      <td>1</td>\n",
       "      <td>0</td>\n",
       "    </tr>\n",
       "    <tr>\n",
       "      <th>20397</th>\n",
       "      <td>0</td>\n",
       "      <td>5.0</td>\n",
       "      <td>2.0</td>\n",
       "      <td>4.0</td>\n",
       "      <td>2.0</td>\n",
       "      <td>0.0</td>\n",
       "      <td>7157.0</td>\n",
       "      <td>5545.0</td>\n",
       "      <td>12.0</td>\n",
       "      <td>48.0</td>\n",
       "      <td>757.0</td>\n",
       "      <td>2345.0</td>\n",
       "      <td>5.0</td>\n",
       "      <td>0</td>\n",
       "      <td>0</td>\n",
       "    </tr>\n",
       "  </tbody>\n",
       "</table>\n",
       "</div>"
      ],
      "text/plain": [
       "       is_fraud  incident_severity  num_vehicles_involved  num_injuries  \\\n",
       "78226         0                4.0                    2.0           4.0   \n",
       "20397         0                5.0                    2.0           4.0   \n",
       "\n",
       "       num_witnesses  police_report_available  injury_claim  vehicle_claim  \\\n",
       "78226            1.0                      0.0       12212.0         5026.0   \n",
       "20397            2.0                      0.0        7157.0         5545.0   \n",
       "\n",
       "       incident_hour  customer_age  policy_deductable  policy_annual_premium  \\\n",
       "78226            5.0          42.0              306.0                 2279.0   \n",
       "20397           12.0          48.0              757.0                 2345.0   \n",
       "\n",
       "       num_claims_past_year  collision  theft  \n",
       "78226                   5.0          1      0  \n",
       "20397                   5.0          0      0  "
      ]
     },
     "metadata": {},
     "output_type": "display_data"
    }
   ],
   "source": [
    "xgb_train_df = train_df[fix_cols]\n",
    "xgb_val_df = val_df[fix_cols]\n",
    "xgb_test_df = test_df[fix_cols]\n",
    "display(xgb_train_df.head(2))\n",
    "display(xgb_val_df.head(2))\n",
    "display(xgb_test_df.head(2))"
   ]
  },
  {
   "cell_type": "code",
   "execution_count": 13,
   "id": "a4ab66ec-2fed-4ede-bff3-ef6956d0c171",
   "metadata": {
    "tags": []
   },
   "outputs": [],
   "source": [
    "xgb_train_df.to_csv(f's3://{S3_BUCKET_NM}/{S3_PREFIX}/xgb_train/train.csv', index=False, header=False)\n",
    "xgb_val_df.to_csv(f's3://{S3_BUCKET_NM}/{S3_PREFIX}/xgb_val/validation.csv', index=False, header=False)\n",
    "xgb_test_df.to_csv(f's3://{S3_BUCKET_NM}/{S3_PREFIX}/xgb_test/test.csv', index=False, header=False)"
   ]
  },
  {
   "cell_type": "markdown",
   "id": "fb57d713-bc45-4556-8841-9b5a8c608cc0",
   "metadata": {},
   "source": [
    "### Retrieve XGBoost Container and training"
   ]
  },
  {
   "cell_type": "code",
   "execution_count": 14,
   "id": "acdab9a4-a40d-4487-b504-1fa285f7f654",
   "metadata": {
    "tags": []
   },
   "outputs": [
    {
     "name": "stdout",
     "output_type": "stream",
     "text": [
      "sagemaker.config INFO - Not applying SDK defaults from location: /etc/xdg/sagemaker/config.yaml\n",
      "sagemaker.config INFO - Not applying SDK defaults from location: /root/.config/sagemaker/config.yaml\n",
      "sagemaker.config INFO - Not applying SDK defaults from location: /etc/xdg/sagemaker/config.yaml\n",
      "sagemaker.config INFO - Not applying SDK defaults from location: /root/.config/sagemaker/config.yaml\n"
     ]
    }
   ],
   "source": [
    "import sagemaker\n",
    "import boto3\n",
    "\n",
    "sm_session = sagemaker.Session()\n",
    "REGION_NM = sm_session.boto_region_name\n",
    "ROLE_ARN = sagemaker.get_execution_role()"
   ]
  },
  {
   "cell_type": "markdown",
   "id": "d9b6f205-041e-4155-abc4-e4941865803d",
   "metadata": {},
   "source": [
    "Define `TrainingInput` function as a pointer to the data files in Amazon S3."
   ]
  },
  {
   "cell_type": "code",
   "execution_count": 15,
   "id": "3ab8858c-e203-4b1a-9957-100ab00a3df1",
   "metadata": {
    "tags": []
   },
   "outputs": [],
   "source": [
    "from sagemaker.inputs import TrainingInput\n",
    "from sagemaker.serializers import CSVSerializer\n",
    "\n",
    "\n",
    "s3_input_train = TrainingInput(\n",
    "    s3_data='s3://{}/{}/xgb_train/'.format(S3_BUCKET_NM, S3_PREFIX), content_type='csv'\n",
    ")\n",
    "\n",
    "s3_input_validation = TrainingInput(\n",
    "    s3_data=\"s3://{}/{}/xgb_val/\".format(S3_BUCKET_NM, S3_PREFIX), content_type='csv'\n",
    ")"
   ]
  },
  {
   "cell_type": "code",
   "execution_count": 17,
   "id": "84d45a44-635f-4c41-b67f-1da95976bb20",
   "metadata": {
    "tags": []
   },
   "outputs": [
    {
     "name": "stderr",
     "output_type": "stream",
     "text": [
      "INFO:sagemaker:Creating training-job with name: xgboost-2023-11-10-11-41-31-369\n"
     ]
    },
    {
     "name": "stdout",
     "output_type": "stream",
     "text": [
      "2023-11-10 11:41:31 Starting - Starting the training job...\n",
      "2023-11-10 11:41:47 Starting - Preparing the instances for training......\n",
      "2023-11-10 11:42:40 Downloading - Downloading input data...\n",
      "2023-11-10 11:43:30 Training - Training image download completed. Training in progress...\u001b[34mArguments: train\u001b[0m\n",
      "\u001b[34m[2023-11-10:11:43:40:INFO] Running standalone xgboost training.\u001b[0m\n",
      "\u001b[34m[2023-11-10:11:43:40:INFO] File size need to be processed in the node: 5.11mb. Available memory size in the node: 8242.43mb\u001b[0m\n",
      "\u001b[34m[2023-11-10:11:43:40:INFO] Determined delimiter of CSV input is ','\u001b[0m\n",
      "\u001b[34m[11:43:40] S3DistributionType set as FullyReplicated\u001b[0m\n",
      "\u001b[34m[11:43:40] 64000x14 matrix with 896000 entries loaded from /opt/ml/input/data/train?format=csv&label_column=0&delimiter=,\u001b[0m\n",
      "\u001b[34m[2023-11-10:11:43:40:INFO] Determined delimiter of CSV input is ','\u001b[0m\n",
      "\u001b[34m[11:43:40] S3DistributionType set as FullyReplicated\u001b[0m\n",
      "\u001b[34m[11:43:40] 16000x14 matrix with 224000 entries loaded from /opt/ml/input/data/validation?format=csv&label_column=0&delimiter=,\u001b[0m\n",
      "\u001b[34m[11:43:40] src/tree/updater_prune.cc:74: tree pruning end, 1 roots, 60 extra nodes, 0 pruned nodes, max_depth=6\u001b[0m\n",
      "\u001b[34m[0]#011train-error:0.030641#011validation-error:0.031625\u001b[0m\n",
      "\u001b[34m[11:43:40] src/tree/updater_prune.cc:74: tree pruning end, 1 roots, 70 extra nodes, 0 pruned nodes, max_depth=6\u001b[0m\n",
      "\u001b[34m[1]#011train-error:0.024594#011validation-error:0.02675\u001b[0m\n",
      "\u001b[34m[11:43:40] src/tree/updater_prune.cc:74: tree pruning end, 1 roots, 74 extra nodes, 0 pruned nodes, max_depth=6\u001b[0m\n",
      "\u001b[34m[2]#011train-error:0.023578#011validation-error:0.025438\u001b[0m\n",
      "\u001b[34m[11:43:40] src/tree/updater_prune.cc:74: tree pruning end, 1 roots, 64 extra nodes, 0 pruned nodes, max_depth=6\u001b[0m\n",
      "\u001b[34m[3]#011train-error:0.022312#011validation-error:0.0245\u001b[0m\n",
      "\u001b[34m[11:43:40] src/tree/updater_prune.cc:74: tree pruning end, 1 roots, 72 extra nodes, 0 pruned nodes, max_depth=6\u001b[0m\n",
      "\u001b[34m[4]#011train-error:0.019562#011validation-error:0.022125\u001b[0m\n",
      "\u001b[34m[11:43:40] src/tree/updater_prune.cc:74: tree pruning end, 1 roots, 62 extra nodes, 0 pruned nodes, max_depth=6\u001b[0m\n",
      "\u001b[34m[5]#011train-error:0.019266#011validation-error:0.02175\u001b[0m\n",
      "\u001b[34m[11:43:40] src/tree/updater_prune.cc:74: tree pruning end, 1 roots, 78 extra nodes, 0 pruned nodes, max_depth=6\u001b[0m\n",
      "\u001b[34m[6]#011train-error:0.017812#011validation-error:0.0205\u001b[0m\n",
      "\u001b[34m[11:43:40] src/tree/updater_prune.cc:74: tree pruning end, 1 roots, 94 extra nodes, 0 pruned nodes, max_depth=6\u001b[0m\n",
      "\u001b[34m[7]#011train-error:0.017266#011validation-error:0.019687\u001b[0m\n",
      "\u001b[34m[11:43:40] src/tree/updater_prune.cc:74: tree pruning end, 1 roots, 96 extra nodes, 0 pruned nodes, max_depth=6\u001b[0m\n",
      "\u001b[34m[8]#011train-error:0.015656#011validation-error:0.018437\u001b[0m\n",
      "\u001b[34m[11:43:40] src/tree/updater_prune.cc:74: tree pruning end, 1 roots, 88 extra nodes, 0 pruned nodes, max_depth=6\u001b[0m\n",
      "\u001b[34m[9]#011train-error:0.015484#011validation-error:0.017875\u001b[0m\n",
      "\u001b[34m[11:43:40] src/tree/updater_prune.cc:74: tree pruning end, 1 roots, 94 extra nodes, 0 pruned nodes, max_depth=6\u001b[0m\n",
      "\u001b[34m[10]#011train-error:0.014859#011validation-error:0.017188\u001b[0m\n",
      "\u001b[34m[11:43:40] src/tree/updater_prune.cc:74: tree pruning end, 1 roots, 90 extra nodes, 0 pruned nodes, max_depth=6\u001b[0m\n",
      "\u001b[34m[11]#011train-error:0.01425#011validation-error:0.016625\u001b[0m\n",
      "\u001b[34m[11:43:40] src/tree/updater_prune.cc:74: tree pruning end, 1 roots, 92 extra nodes, 0 pruned nodes, max_depth=6\u001b[0m\n",
      "\u001b[34m[12]#011train-error:0.013938#011validation-error:0.015812\u001b[0m\n",
      "\u001b[34m[11:43:40] src/tree/updater_prune.cc:74: tree pruning end, 1 roots, 96 extra nodes, 0 pruned nodes, max_depth=6\u001b[0m\n",
      "\u001b[34m[13]#011train-error:0.013297#011validation-error:0.015812\u001b[0m\n",
      "\u001b[34m[11:43:40] src/tree/updater_prune.cc:74: tree pruning end, 1 roots, 102 extra nodes, 0 pruned nodes, max_depth=6\u001b[0m\n",
      "\u001b[34m[14]#011train-error:0.012187#011validation-error:0.014813\u001b[0m\n",
      "\u001b[34m[11:43:40] src/tree/updater_prune.cc:74: tree pruning end, 1 roots, 100 extra nodes, 0 pruned nodes, max_depth=6\u001b[0m\n",
      "\u001b[34m[15]#011train-error:0.011219#011validation-error:0.014062\u001b[0m\n",
      "\u001b[34m[11:43:40] src/tree/updater_prune.cc:74: tree pruning end, 1 roots, 94 extra nodes, 0 pruned nodes, max_depth=6\u001b[0m\n",
      "\u001b[34m[16]#011train-error:0.010406#011validation-error:0.013562\u001b[0m\n",
      "\u001b[34m[11:43:40] src/tree/updater_prune.cc:74: tree pruning end, 1 roots, 118 extra nodes, 0 pruned nodes, max_depth=6\u001b[0m\n",
      "\u001b[34m[17]#011train-error:0.009656#011validation-error:0.013125\u001b[0m\n",
      "\u001b[34m[11:43:40] src/tree/updater_prune.cc:74: tree pruning end, 1 roots, 78 extra nodes, 0 pruned nodes, max_depth=6\u001b[0m\n",
      "\u001b[34m[18]#011train-error:0.009516#011validation-error:0.012687\u001b[0m\n",
      "\u001b[34m[11:43:40] src/tree/updater_prune.cc:74: tree pruning end, 1 roots, 100 extra nodes, 0 pruned nodes, max_depth=6\u001b[0m\n",
      "\u001b[34m[19]#011train-error:0.008734#011validation-error:0.0125\u001b[0m\n",
      "\u001b[34m[11:43:40] src/tree/updater_prune.cc:74: tree pruning end, 1 roots, 102 extra nodes, 0 pruned nodes, max_depth=6\u001b[0m\n",
      "\u001b[34m[20]#011train-error:0.008234#011validation-error:0.012125\u001b[0m\n",
      "\u001b[34m[11:43:40] src/tree/updater_prune.cc:74: tree pruning end, 1 roots, 58 extra nodes, 0 pruned nodes, max_depth=6\u001b[0m\n",
      "\u001b[34m[21]#011train-error:0.007797#011validation-error:0.011812\u001b[0m\n",
      "\u001b[34m[11:43:40] src/tree/updater_prune.cc:74: tree pruning end, 1 roots, 70 extra nodes, 0 pruned nodes, max_depth=6\u001b[0m\n",
      "\u001b[34m[22]#011train-error:0.007484#011validation-error:0.01125\u001b[0m\n",
      "\u001b[34m[11:43:41] src/tree/updater_prune.cc:74: tree pruning end, 1 roots, 96 extra nodes, 0 pruned nodes, max_depth=6\u001b[0m\n",
      "\u001b[34m[23]#011train-error:0.007156#011validation-error:0.01125\u001b[0m\n",
      "\u001b[34m[11:43:41] src/tree/updater_prune.cc:74: tree pruning end, 1 roots, 102 extra nodes, 0 pruned nodes, max_depth=6\u001b[0m\n",
      "\u001b[34m[24]#011train-error:0.006906#011validation-error:0.010937\u001b[0m\n",
      "\u001b[34m[11:43:41] src/tree/updater_prune.cc:74: tree pruning end, 1 roots, 78 extra nodes, 0 pruned nodes, max_depth=6\u001b[0m\n",
      "\u001b[34m[25]#011train-error:0.00675#011validation-error:0.010625\u001b[0m\n",
      "\u001b[34m[11:43:41] src/tree/updater_prune.cc:74: tree pruning end, 1 roots, 104 extra nodes, 0 pruned nodes, max_depth=6\u001b[0m\n",
      "\u001b[34m[26]#011train-error:0.006266#011validation-error:0.010625\u001b[0m\n",
      "\u001b[34m[11:43:41] src/tree/updater_prune.cc:74: tree pruning end, 1 roots, 100 extra nodes, 0 pruned nodes, max_depth=6\u001b[0m\n",
      "\u001b[34m[27]#011train-error:0.006047#011validation-error:0.01025\u001b[0m\n",
      "\u001b[34m[11:43:41] src/tree/updater_prune.cc:74: tree pruning end, 1 roots, 70 extra nodes, 0 pruned nodes, max_depth=6\u001b[0m\n",
      "\u001b[34m[28]#011train-error:0.005875#011validation-error:0.01\u001b[0m\n",
      "\u001b[34m[11:43:41] src/tree/updater_prune.cc:74: tree pruning end, 1 roots, 40 extra nodes, 0 pruned nodes, max_depth=6\u001b[0m\n",
      "\u001b[34m[29]#011train-error:0.00575#011validation-error:0.009937\u001b[0m\n",
      "\u001b[34m[11:43:41] src/tree/updater_prune.cc:74: tree pruning end, 1 roots, 80 extra nodes, 0 pruned nodes, max_depth=6\u001b[0m\n",
      "\u001b[34m[30]#011train-error:0.005531#011validation-error:0.009688\u001b[0m\n",
      "\u001b[34m[11:43:41] src/tree/updater_prune.cc:74: tree pruning end, 1 roots, 62 extra nodes, 0 pruned nodes, max_depth=6\u001b[0m\n",
      "\u001b[34m[31]#011train-error:0.005469#011validation-error:0.009562\u001b[0m\n",
      "\u001b[34m[11:43:41] src/tree/updater_prune.cc:74: tree pruning end, 1 roots, 48 extra nodes, 0 pruned nodes, max_depth=6\u001b[0m\n",
      "\u001b[34m[32]#011train-error:0.005313#011validation-error:0.009688\u001b[0m\n",
      "\u001b[34m[11:43:41] src/tree/updater_prune.cc:74: tree pruning end, 1 roots, 66 extra nodes, 0 pruned nodes, max_depth=6\u001b[0m\n",
      "\u001b[34m[33]#011train-error:0.005219#011validation-error:0.009562\u001b[0m\n",
      "\u001b[34m[11:43:41] src/tree/updater_prune.cc:74: tree pruning end, 1 roots, 54 extra nodes, 0 pruned nodes, max_depth=6\u001b[0m\n",
      "\u001b[34m[34]#011train-error:0.005094#011validation-error:0.009562\u001b[0m\n",
      "\u001b[34m[11:43:41] src/tree/updater_prune.cc:74: tree pruning end, 1 roots, 28 extra nodes, 0 pruned nodes, max_depth=6\u001b[0m\n",
      "\u001b[34m[35]#011train-error:0.005#011validation-error:0.009562\u001b[0m\n",
      "\u001b[34m[11:43:41] src/tree/updater_prune.cc:74: tree pruning end, 1 roots, 52 extra nodes, 0 pruned nodes, max_depth=6\u001b[0m\n",
      "\u001b[34m[36]#011train-error:0.005#011validation-error:0.009437\u001b[0m\n",
      "\u001b[34m[11:43:41] src/tree/updater_prune.cc:74: tree pruning end, 1 roots, 90 extra nodes, 0 pruned nodes, max_depth=6\u001b[0m\n",
      "\u001b[34m[37]#011train-error:0.004812#011validation-error:0.009437\u001b[0m\n",
      "\u001b[34m[11:43:41] src/tree/updater_prune.cc:74: tree pruning end, 1 roots, 32 extra nodes, 0 pruned nodes, max_depth=6\u001b[0m\n",
      "\u001b[34m[38]#011train-error:0.004672#011validation-error:0.0095\u001b[0m\n",
      "\u001b[34m[11:43:41] src/tree/updater_prune.cc:74: tree pruning end, 1 roots, 84 extra nodes, 0 pruned nodes, max_depth=6\u001b[0m\n",
      "\u001b[34m[39]#011train-error:0.004578#011validation-error:0.009562\u001b[0m\n",
      "\u001b[34m[11:43:41] src/tree/updater_prune.cc:74: tree pruning end, 1 roots, 90 extra nodes, 0 pruned nodes, max_depth=6\u001b[0m\n",
      "\u001b[34m[40]#011train-error:0.004422#011validation-error:0.009437\u001b[0m\n",
      "\u001b[34m[11:43:41] src/tree/updater_prune.cc:74: tree pruning end, 1 roots, 76 extra nodes, 0 pruned nodes, max_depth=6\u001b[0m\n",
      "\u001b[34m[41]#011train-error:0.004219#011validation-error:0.009125\u001b[0m\n",
      "\u001b[34m[11:43:41] src/tree/updater_prune.cc:74: tree pruning end, 1 roots, 74 extra nodes, 0 pruned nodes, max_depth=6\u001b[0m\n",
      "\u001b[34m[42]#011train-error:0.004047#011validation-error:0.009062\u001b[0m\n",
      "\u001b[34m[11:43:41] src/tree/updater_prune.cc:74: tree pruning end, 1 roots, 28 extra nodes, 0 pruned nodes, max_depth=6\u001b[0m\n",
      "\u001b[34m[43]#011train-error:0.004047#011validation-error:0.009125\u001b[0m\n",
      "\u001b[34m[11:43:41] src/tree/updater_prune.cc:74: tree pruning end, 1 roots, 36 extra nodes, 0 pruned nodes, max_depth=6\u001b[0m\n",
      "\u001b[34m[44]#011train-error:0.004062#011validation-error:0.009187\u001b[0m\n",
      "\u001b[34m[11:43:41] src/tree/updater_prune.cc:74: tree pruning end, 1 roots, 80 extra nodes, 0 pruned nodes, max_depth=6\u001b[0m\n",
      "\u001b[34m[45]#011train-error:0.004031#011validation-error:0.009\u001b[0m\n",
      "\u001b[34m[11:43:41] src/tree/updater_prune.cc:74: tree pruning end, 1 roots, 18 extra nodes, 0 pruned nodes, max_depth=6\u001b[0m\n",
      "\u001b[34m[46]#011train-error:0.004016#011validation-error:0.009\u001b[0m\n",
      "\u001b[34m[11:43:41] src/tree/updater_prune.cc:74: tree pruning end, 1 roots, 34 extra nodes, 0 pruned nodes, max_depth=6\u001b[0m\n",
      "\u001b[34m[47]#011train-error:0.003969#011validation-error:0.009125\u001b[0m\n",
      "\u001b[34m[11:43:41] src/tree/updater_prune.cc:74: tree pruning end, 1 roots, 42 extra nodes, 0 pruned nodes, max_depth=6\u001b[0m\n",
      "\u001b[34m[48]#011train-error:0.003984#011validation-error:0.009125\u001b[0m\n",
      "\u001b[34m[11:43:41] src/tree/updater_prune.cc:74: tree pruning end, 1 roots, 60 extra nodes, 0 pruned nodes, max_depth=6\u001b[0m\n",
      "\u001b[34m[49]#011train-error:0.003875#011validation-error:0.009125\u001b[0m\n",
      "\u001b[34m[11:43:41] src/tree/updater_prune.cc:74: tree pruning end, 1 roots, 34 extra nodes, 0 pruned nodes, max_depth=6\u001b[0m\n",
      "\u001b[34m[50]#011train-error:0.003859#011validation-error:0.008938\u001b[0m\n",
      "\u001b[34m[11:43:41] src/tree/updater_prune.cc:74: tree pruning end, 1 roots, 70 extra nodes, 0 pruned nodes, max_depth=6\u001b[0m\n",
      "\u001b[34m[51]#011train-error:0.003672#011validation-error:0.009\u001b[0m\n",
      "\u001b[34m[11:43:41] src/tree/updater_prune.cc:74: tree pruning end, 1 roots, 98 extra nodes, 0 pruned nodes, max_depth=6\u001b[0m\n",
      "\u001b[34m[52]#011train-error:0.003422#011validation-error:0.008938\u001b[0m\n",
      "\u001b[34m[11:43:41] src/tree/updater_prune.cc:74: tree pruning end, 1 roots, 34 extra nodes, 0 pruned nodes, max_depth=6\u001b[0m\n",
      "\u001b[34m[53]#011train-error:0.003391#011validation-error:0.008938\u001b[0m\n",
      "\u001b[34m[11:43:42] src/tree/updater_prune.cc:74: tree pruning end, 1 roots, 54 extra nodes, 0 pruned nodes, max_depth=6\u001b[0m\n",
      "\u001b[34m[54]#011train-error:0.003281#011validation-error:0.009\u001b[0m\n",
      "\u001b[34m[11:43:42] src/tree/updater_prune.cc:74: tree pruning end, 1 roots, 94 extra nodes, 0 pruned nodes, max_depth=6\u001b[0m\n",
      "\u001b[34m[55]#011train-error:0.003062#011validation-error:0.008875\u001b[0m\n",
      "\u001b[34m[11:43:42] src/tree/updater_prune.cc:74: tree pruning end, 1 roots, 64 extra nodes, 0 pruned nodes, max_depth=6\u001b[0m\n",
      "\u001b[34m[56]#011train-error:0.003078#011validation-error:0.00875\u001b[0m\n",
      "\u001b[34m[11:43:42] src/tree/updater_prune.cc:74: tree pruning end, 1 roots, 66 extra nodes, 0 pruned nodes, max_depth=6\u001b[0m\n",
      "\u001b[34m[57]#011train-error:0.003016#011validation-error:0.008562\u001b[0m\n",
      "\u001b[34m[11:43:42] src/tree/updater_prune.cc:74: tree pruning end, 1 roots, 32 extra nodes, 0 pruned nodes, max_depth=6\u001b[0m\n",
      "\u001b[34m[58]#011train-error:0.002969#011validation-error:0.00875\u001b[0m\n",
      "\u001b[34m[11:43:42] src/tree/updater_prune.cc:74: tree pruning end, 1 roots, 88 extra nodes, 0 pruned nodes, max_depth=6\u001b[0m\n",
      "\u001b[34m[59]#011train-error:0.002844#011validation-error:0.00875\u001b[0m\n",
      "\u001b[34m[11:43:42] src/tree/updater_prune.cc:74: tree pruning end, 1 roots, 40 extra nodes, 0 pruned nodes, max_depth=6\u001b[0m\n",
      "\u001b[34m[60]#011train-error:0.002813#011validation-error:0.008813\u001b[0m\n",
      "\u001b[34m[11:43:42] src/tree/updater_prune.cc:74: tree pruning end, 1 roots, 86 extra nodes, 0 pruned nodes, max_depth=6\u001b[0m\n",
      "\u001b[34m[61]#011train-error:0.002688#011validation-error:0.00875\u001b[0m\n",
      "\u001b[34m[11:43:42] src/tree/updater_prune.cc:74: tree pruning end, 1 roots, 36 extra nodes, 0 pruned nodes, max_depth=6\u001b[0m\n",
      "\u001b[34m[62]#011train-error:0.002688#011validation-error:0.00875\u001b[0m\n",
      "\u001b[34m[11:43:42] src/tree/updater_prune.cc:74: tree pruning end, 1 roots, 38 extra nodes, 0 pruned nodes, max_depth=6\u001b[0m\n",
      "\u001b[34m[63]#011train-error:0.002641#011validation-error:0.008687\u001b[0m\n",
      "\u001b[34m[11:43:42] src/tree/updater_prune.cc:74: tree pruning end, 1 roots, 82 extra nodes, 0 pruned nodes, max_depth=6\u001b[0m\n",
      "\u001b[34m[64]#011train-error:0.002594#011validation-error:0.00875\u001b[0m\n",
      "\u001b[34m[11:43:42] src/tree/updater_prune.cc:74: tree pruning end, 1 roots, 20 extra nodes, 0 pruned nodes, max_depth=6\u001b[0m\n",
      "\u001b[34m[65]#011train-error:0.002531#011validation-error:0.008625\u001b[0m\n",
      "\u001b[34m[11:43:42] src/tree/updater_prune.cc:74: tree pruning end, 1 roots, 28 extra nodes, 0 pruned nodes, max_depth=6\u001b[0m\n",
      "\u001b[34m[66]#011train-error:0.002516#011validation-error:0.008813\u001b[0m\n",
      "\u001b[34m[11:43:42] src/tree/updater_prune.cc:74: tree pruning end, 1 roots, 56 extra nodes, 0 pruned nodes, max_depth=6\u001b[0m\n",
      "\u001b[34m[67]#011train-error:0.002531#011validation-error:0.008687\u001b[0m\n",
      "\u001b[34m[11:43:42] src/tree/updater_prune.cc:74: tree pruning end, 1 roots, 54 extra nodes, 0 pruned nodes, max_depth=6\u001b[0m\n",
      "\u001b[34m[68]#011train-error:0.002422#011validation-error:0.008625\u001b[0m\n",
      "\u001b[34m[11:43:42] src/tree/updater_prune.cc:74: tree pruning end, 1 roots, 18 extra nodes, 0 pruned nodes, max_depth=6\u001b[0m\n",
      "\u001b[34m[69]#011train-error:0.002406#011validation-error:0.008625\u001b[0m\n",
      "\u001b[34m[11:43:42] src/tree/updater_prune.cc:74: tree pruning end, 1 roots, 50 extra nodes, 0 pruned nodes, max_depth=6\u001b[0m\n",
      "\u001b[34m[70]#011train-error:0.002344#011validation-error:0.008687\u001b[0m\n",
      "\u001b[34m[11:43:42] src/tree/updater_prune.cc:74: tree pruning end, 1 roots, 48 extra nodes, 0 pruned nodes, max_depth=6\u001b[0m\n",
      "\u001b[34m[71]#011train-error:0.002359#011validation-error:0.008687\u001b[0m\n",
      "\u001b[34m[11:43:42] src/tree/updater_prune.cc:74: tree pruning end, 1 roots, 28 extra nodes, 0 pruned nodes, max_depth=6\u001b[0m\n",
      "\u001b[34m[72]#011train-error:0.002344#011validation-error:0.008687\u001b[0m\n",
      "\u001b[34m[11:43:42] src/tree/updater_prune.cc:74: tree pruning end, 1 roots, 16 extra nodes, 0 pruned nodes, max_depth=6\u001b[0m\n",
      "\u001b[34m[73]#011train-error:0.002344#011validation-error:0.008687\u001b[0m\n",
      "\u001b[34m[11:43:42] src/tree/updater_prune.cc:74: tree pruning end, 1 roots, 20 extra nodes, 0 pruned nodes, max_depth=6\u001b[0m\n",
      "\u001b[34m[74]#011train-error:0.002344#011validation-error:0.00875\u001b[0m\n",
      "\u001b[34m[11:43:42] src/tree/updater_prune.cc:74: tree pruning end, 1 roots, 28 extra nodes, 0 pruned nodes, max_depth=6\u001b[0m\n",
      "\u001b[34m[75]#011train-error:0.002328#011validation-error:0.00875\u001b[0m\n",
      "\u001b[34m[11:43:42] src/tree/updater_prune.cc:74: tree pruning end, 1 roots, 36 extra nodes, 0 pruned nodes, max_depth=6\u001b[0m\n",
      "\u001b[34m[76]#011train-error:0.002281#011validation-error:0.00875\u001b[0m\n",
      "\u001b[34m[11:43:42] src/tree/updater_prune.cc:74: tree pruning end, 1 roots, 82 extra nodes, 0 pruned nodes, max_depth=6\u001b[0m\n",
      "\u001b[34m[77]#011train-error:0.002219#011validation-error:0.00875\u001b[0m\n",
      "\u001b[34m[11:43:42] src/tree/updater_prune.cc:74: tree pruning end, 1 roots, 38 extra nodes, 0 pruned nodes, max_depth=6\u001b[0m\n",
      "\u001b[34m[78]#011train-error:0.002219#011validation-error:0.008813\u001b[0m\n",
      "\u001b[34m[11:43:42] src/tree/updater_prune.cc:74: tree pruning end, 1 roots, 40 extra nodes, 0 pruned nodes, max_depth=6\u001b[0m\n",
      "\u001b[34m[79]#011train-error:0.002234#011validation-error:0.008813\u001b[0m\n",
      "\u001b[34m[11:43:43] src/tree/updater_prune.cc:74: tree pruning end, 1 roots, 64 extra nodes, 0 pruned nodes, max_depth=6\u001b[0m\n",
      "\u001b[34m[80]#011train-error:0.002188#011validation-error:0.009\u001b[0m\n",
      "\u001b[34m[11:43:43] src/tree/updater_prune.cc:74: tree pruning end, 1 roots, 62 extra nodes, 0 pruned nodes, max_depth=6\u001b[0m\n",
      "\u001b[34m[81]#011train-error:0.002172#011validation-error:0.008938\u001b[0m\n",
      "\u001b[34m[11:43:43] src/tree/updater_prune.cc:74: tree pruning end, 1 roots, 44 extra nodes, 0 pruned nodes, max_depth=6\u001b[0m\n",
      "\u001b[34m[82]#011train-error:0.002141#011validation-error:0.008938\u001b[0m\n",
      "\u001b[34m[11:43:43] src/tree/updater_prune.cc:74: tree pruning end, 1 roots, 30 extra nodes, 0 pruned nodes, max_depth=6\u001b[0m\n",
      "\u001b[34m[83]#011train-error:0.002141#011validation-error:0.008938\u001b[0m\n",
      "\u001b[34m[11:43:43] src/tree/updater_prune.cc:74: tree pruning end, 1 roots, 68 extra nodes, 0 pruned nodes, max_depth=6\u001b[0m\n",
      "\u001b[34m[84]#011train-error:0.002062#011validation-error:0.008875\u001b[0m\n",
      "\u001b[34m[11:43:43] src/tree/updater_prune.cc:74: tree pruning end, 1 roots, 72 extra nodes, 0 pruned nodes, max_depth=6\u001b[0m\n",
      "\u001b[34m[85]#011train-error:0.002062#011validation-error:0.008875\u001b[0m\n",
      "\u001b[34m[11:43:43] src/tree/updater_prune.cc:74: tree pruning end, 1 roots, 42 extra nodes, 0 pruned nodes, max_depth=6\u001b[0m\n",
      "\u001b[34m[86]#011train-error:0.002047#011validation-error:0.00875\u001b[0m\n",
      "\u001b[34m[11:43:43] src/tree/updater_prune.cc:74: tree pruning end, 1 roots, 36 extra nodes, 0 pruned nodes, max_depth=6\u001b[0m\n",
      "\u001b[34m[87]#011train-error:0.002047#011validation-error:0.008875\u001b[0m\n",
      "\u001b[34m[11:43:43] src/tree/updater_prune.cc:74: tree pruning end, 1 roots, 54 extra nodes, 0 pruned nodes, max_depth=6\u001b[0m\n",
      "\u001b[34m[88]#011train-error:0.002#011validation-error:0.00875\u001b[0m\n",
      "\u001b[34m[11:43:43] src/tree/updater_prune.cc:74: tree pruning end, 1 roots, 20 extra nodes, 0 pruned nodes, max_depth=6\u001b[0m\n",
      "\u001b[34m[89]#011train-error:0.001984#011validation-error:0.008687\u001b[0m\n",
      "\u001b[34m[11:43:43] src/tree/updater_prune.cc:74: tree pruning end, 1 roots, 60 extra nodes, 0 pruned nodes, max_depth=6\u001b[0m\n",
      "\u001b[34m[90]#011train-error:0.001859#011validation-error:0.008687\u001b[0m\n",
      "\u001b[34m[11:43:43] src/tree/updater_prune.cc:74: tree pruning end, 1 roots, 56 extra nodes, 0 pruned nodes, max_depth=6\u001b[0m\n",
      "\u001b[34m[91]#011train-error:0.001781#011validation-error:0.008625\u001b[0m\n",
      "\u001b[34m[11:43:43] src/tree/updater_prune.cc:74: tree pruning end, 1 roots, 48 extra nodes, 0 pruned nodes, max_depth=6\u001b[0m\n",
      "\u001b[34m[92]#011train-error:0.001734#011validation-error:0.008562\u001b[0m\n",
      "\u001b[34m[11:43:43] src/tree/updater_prune.cc:74: tree pruning end, 1 roots, 44 extra nodes, 0 pruned nodes, max_depth=6\u001b[0m\n",
      "\u001b[34m[93]#011train-error:0.00175#011validation-error:0.008625\u001b[0m\n",
      "\u001b[34m[11:43:43] src/tree/updater_prune.cc:74: tree pruning end, 1 roots, 52 extra nodes, 0 pruned nodes, max_depth=6\u001b[0m\n",
      "\u001b[34m[94]#011train-error:0.00175#011validation-error:0.008562\u001b[0m\n",
      "\u001b[34m[11:43:43] src/tree/updater_prune.cc:74: tree pruning end, 1 roots, 20 extra nodes, 0 pruned nodes, max_depth=6\u001b[0m\n",
      "\u001b[34m[95]#011train-error:0.00175#011validation-error:0.008625\u001b[0m\n",
      "\u001b[34m[11:43:43] src/tree/updater_prune.cc:74: tree pruning end, 1 roots, 46 extra nodes, 0 pruned nodes, max_depth=6\u001b[0m\n",
      "\u001b[34m[96]#011train-error:0.001703#011validation-error:0.008625\u001b[0m\n",
      "\u001b[34m[11:43:43] src/tree/updater_prune.cc:74: tree pruning end, 1 roots, 32 extra nodes, 0 pruned nodes, max_depth=6\u001b[0m\n",
      "\u001b[34m[97]#011train-error:0.001719#011validation-error:0.008625\u001b[0m\n",
      "\u001b[34m[11:43:43] src/tree/updater_prune.cc:74: tree pruning end, 1 roots, 58 extra nodes, 0 pruned nodes, max_depth=6\u001b[0m\n",
      "\u001b[34m[98]#011train-error:0.001719#011validation-error:0.008438\u001b[0m\n",
      "\u001b[34m[11:43:43] src/tree/updater_prune.cc:74: tree pruning end, 1 roots, 88 extra nodes, 0 pruned nodes, max_depth=6\u001b[0m\n",
      "\u001b[34m[99]#011train-error:0.001609#011validation-error:0.0085\u001b[0m\n",
      "\n",
      "2023-11-10 11:43:57 Uploading - Uploading generated training model\n",
      "2023-11-10 11:43:57 Completed - Training job completed\n",
      "Training seconds: 78\n",
      "Billable seconds: 78\n"
     ]
    }
   ],
   "source": [
    "container = sagemaker.image_uris.retrieve(\n",
    "    'xgboost', REGION_NM, 'latest'\n",
    ")\n",
    "\n",
    "sm_xgb = sagemaker.estimator.Estimator(\n",
    "    container,\n",
    "    ROLE_ARN,\n",
    "    instance_count=1,\n",
    "    instance_type='ml.m5.xlarge',\n",
    "    output_path=f's3://{S3_BUCKET_NM}/{S3_PREFIX}/xgb_output/',\n",
    "    sagemaker_session=sm_session,\n",
    ")\n",
    "\n",
    "sm_xgb.set_hyperparameters(\n",
    "    verbosity=0,\n",
    "    objective='binary:logistic',\n",
    "    num_round=100,\n",
    ")\n",
    "\n",
    "sm_xgb.fit({\n",
    "    'train': s3_input_train, \n",
    "    'validation': s3_input_validation\n",
    "})"
   ]
  },
  {
   "cell_type": "markdown",
   "id": "42832209-f289-451d-be32-9fbe1a06997a",
   "metadata": {},
   "source": [
    "### Model deployment\n",
    "---\n",
    "\n",
    "The benefit of using **sagemaker** is we can deploy the trained model within the notebook with one-line of code. We can specify small or large instances and multiple instances (depends on the workload) without managing the network connection.\n",
    "\n",
    "In this demonstration, I will deploy the trained model onto **real-time endpoint**.\n",
    "\n",
    "There are multiple ways to deploy a model (i.e., batch prediction, real-time prediction), for the list and how-to, please refer to the [documentation](https://docs.aws.amazon.com/sagemaker/latest/dg/how-it-works-deployment.html)."
   ]
  },
  {
   "cell_type": "code",
   "execution_count": 18,
   "id": "09e88e52-9b4c-444c-8259-386089740089",
   "metadata": {
    "tags": []
   },
   "outputs": [
    {
     "name": "stderr",
     "output_type": "stream",
     "text": [
      "INFO:sagemaker:Creating model with name: xgboost-2023-11-10-11-46-04-765\n",
      "INFO:sagemaker:Creating endpoint-config with name xgboost-2023-11-10-11-46-04-765\n",
      "INFO:sagemaker:Creating endpoint with name xgboost-2023-11-10-11-46-04-765\n"
     ]
    },
    {
     "name": "stdout",
     "output_type": "stream",
     "text": [
      "----!"
     ]
    }
   ],
   "source": [
    "sm_xgb_predictor = sm_xgb.deploy(\n",
    "    initial_instance_count=1, instance_type='ml.m5.xlarge', serializer=CSVSerializer()\n",
    ")"
   ]
  },
  {
   "cell_type": "code",
   "execution_count": 20,
   "id": "a6fc0bd9-b478-4a00-b59d-4951caa906b9",
   "metadata": {
    "tags": []
   },
   "outputs": [],
   "source": [
    "pred = sm_xgb_predictor.predict(xgb_test_df.to_numpy()[:, 1:]).decode('utf-8').split(',')\n",
    "predictions = np.array([float(num) for num in pred])"
   ]
  },
  {
   "cell_type": "markdown",
   "id": "7db1c0c2-aa11-4c62-9493-c93feb5a9202",
   "metadata": {},
   "source": [
    "Quickly look at the distribution of probability"
   ]
  },
  {
   "cell_type": "code",
   "execution_count": 21,
   "id": "8b0e7b0e-bb62-42a9-972d-0352bb56a293",
   "metadata": {
    "tags": []
   },
   "outputs": [
    {
     "data": {
      "image/png": "[encoded data removed]",
      "text/plain": [
       "<Figure size 640x480 with 1 Axes>"
      ]
     },
     "metadata": {},
     "output_type": "display_data"
    }
   ],
   "source": [
    "import matplotlib.pyplot as plt\n",
    "%matplotlib inline\n",
    "\n",
    "plt.hist(predictions)\n",
    "plt.yscale(\"log\")\n",
    "plt.show();"
   ]
  },
  {
   "cell_type": "markdown",
   "id": "7bc2e916-ebdf-4454-ab9d-046a608b0270",
   "metadata": {},
   "source": [
    "### Evaluation"
   ]
  },
  {
   "cell_type": "code",
   "execution_count": 22,
   "id": "7fb9fd60-2797-428a-a8e6-370185b80a22",
   "metadata": {
    "tags": []
   },
   "outputs": [
    {
     "data": {
      "text/html": [
       "<div>\n",
       "<style scoped>\n",
       "    .dataframe tbody tr th:only-of-type {\n",
       "        vertical-align: middle;\n",
       "    }\n",
       "\n",
       "    .dataframe tbody tr th {\n",
       "        vertical-align: top;\n",
       "    }\n",
       "\n",
       "    .dataframe thead th {\n",
       "        text-align: right;\n",
       "    }\n",
       "</style>\n",
       "<table border=\"1\" class=\"dataframe\">\n",
       "  <thead>\n",
       "    <tr style=\"text-align: right;\">\n",
       "      <th>predictions</th>\n",
       "      <th>0.0</th>\n",
       "      <th>1.0</th>\n",
       "    </tr>\n",
       "    <tr>\n",
       "      <th>actual</th>\n",
       "      <th></th>\n",
       "      <th></th>\n",
       "    </tr>\n",
       "  </thead>\n",
       "  <tbody>\n",
       "    <tr>\n",
       "      <th>0</th>\n",
       "      <td>18970</td>\n",
       "      <td>21</td>\n",
       "    </tr>\n",
       "    <tr>\n",
       "      <th>1</th>\n",
       "      <td>56</td>\n",
       "      <td>953</td>\n",
       "    </tr>\n",
       "  </tbody>\n",
       "</table>\n",
       "</div>"
      ],
      "text/plain": [
       "predictions    0.0  1.0\n",
       "actual                 \n",
       "0            18970   21\n",
       "1               56  953"
      ]
     },
     "execution_count": 22,
     "metadata": {},
     "output_type": "execute_result"
    }
   ],
   "source": [
    "from sklearn.metrics import f1_score, recall_score, precision_score, confusion_matrix, classification_report\n",
    "from sklearn.metrics import precision_recall_curve, roc_curve, roc_auc_score\n",
    "\n",
    "pd.crosstab(\n",
    "    index=xgb_test_df.iloc[:, 0],\n",
    "    columns=np.round(predictions),\n",
    "    rownames=[\"actual\"],\n",
    "    colnames=[\"predictions\"],\n",
    ")"
   ]
  },
  {
   "cell_type": "code",
   "execution_count": 23,
   "id": "d14e9949-86c2-49b6-8e86-bfc13f777fd0",
   "metadata": {
    "tags": []
   },
   "outputs": [],
   "source": [
    "model_eval = {\n",
    "    'model': [],\n",
    "    'roc_auc_score': [],\n",
    "    'precision': [],\n",
    "    'recall': [],\n",
    "    'f1_score': []\n",
    "}\n",
    "\n",
    "def add_model_eval(model, roc_auc_score, precision, recall, f1_score):\n",
    "    model_eval['model'].append(model)\n",
    "    model_eval['roc_auc_score'].append(f'{roc_auc_score: .4f}')\n",
    "    model_eval['precision'].append(f'{precision: .4f}')\n",
    "    model_eval['recall'].append(f'{recall: .4f}')\n",
    "    model_eval['f1_score'].append(f'{f1_score: .4f}')\n",
    "    return model_eval\n",
    "    \n",
    "def view_models_eval(model_eval: dict=model_eval, sort:bool =False):\n",
    "    eval_df = pd.DataFrame(model_eval)\n",
    "    \n",
    "    if sort:\n",
    "        eval_df = eval_df.sort_values(by=['recall', 'f1_score'], ascending=[False, False])\n",
    "    \n",
    "    display(eval_df)\n",
    "    return eval_df"
   ]
  },
  {
   "cell_type": "code",
   "execution_count": 24,
   "id": "02f4bb24-c8f5-46f1-b303-53aa11f0ce7f",
   "metadata": {
    "tags": []
   },
   "outputs": [
    {
     "data": {
      "text/html": [
       "<div>\n",
       "<style scoped>\n",
       "    .dataframe tbody tr th:only-of-type {\n",
       "        vertical-align: middle;\n",
       "    }\n",
       "\n",
       "    .dataframe tbody tr th {\n",
       "        vertical-align: top;\n",
       "    }\n",
       "\n",
       "    .dataframe thead th {\n",
       "        text-align: right;\n",
       "    }\n",
       "</style>\n",
       "<table border=\"1\" class=\"dataframe\">\n",
       "  <thead>\n",
       "    <tr style=\"text-align: right;\">\n",
       "      <th></th>\n",
       "      <th>model</th>\n",
       "      <th>roc_auc_score</th>\n",
       "      <th>precision</th>\n",
       "      <th>recall</th>\n",
       "      <th>f1_score</th>\n",
       "    </tr>\n",
       "  </thead>\n",
       "  <tbody>\n",
       "    <tr>\n",
       "      <th>0</th>\n",
       "      <td>SM - XGBoost</td>\n",
       "      <td>0.9717</td>\n",
       "      <td>0.9784</td>\n",
       "      <td>0.9445</td>\n",
       "      <td>0.9612</td>\n",
       "    </tr>\n",
       "  </tbody>\n",
       "</table>\n",
       "</div>"
      ],
      "text/plain": [
       "          model roc_auc_score precision   recall f1_score\n",
       "0  SM - XGBoost        0.9717    0.9784   0.9445   0.9612"
      ]
     },
     "metadata": {},
     "output_type": "display_data"
    }
   ],
   "source": [
    "add_model_eval(\n",
    "    'SM - XGBoost', \n",
    "    roc_auc_score(xgb_test_df.iloc[:, 0], np.round(predictions)),\n",
    "    precision_score(xgb_test_df.iloc[:, 0], np.round(predictions)),\n",
    "    recall_score(xgb_test_df.iloc[:, 0], np.round(predictions)), \n",
    "    f1_score(xgb_test_df.iloc[:, 0], np.round(predictions))\n",
    ")\n",
    "eval_df = view_models_eval(model_eval)"
   ]
  },
  {
   "cell_type": "markdown",
   "id": "2c6273e3-ba33-49aa-a604-58ac742c5313",
   "metadata": {},
   "source": [
    "<div class=\"alert alert-block alert-info\">\n",
    "    <b>Note:</b> You should <u>delete</u> the model endpoint if you are no longer using it, as it will cause incurring charged!\n",
    "</div>"
   ]
  },
  {
   "cell_type": "markdown",
   "id": "f01f72a6-c71a-4470-adf7-8006189c7014",
   "metadata": {},
   "source": [
    "## Build model using Scikit-learn on SageMaker\n",
    "---\n",
    "\n",
    "In this section, I will demonstrate how to use **scikit-learn** on SageMaker.\n",
    "\n",
    "For information on scikit-learn container on AWS, please refer to this [github repository](https://github.com/aws/sagemaker-scikit-learn-container)."
   ]
  },
  {
   "cell_type": "markdown",
   "id": "d4761f74-3d9c-47db-91dd-c7986ee87277",
   "metadata": {},
   "source": [
    "### Split data and upload to Amazon S3\n",
    "---\n",
    "When we want to train the model using SageMaker, we will need to reference the file on Amazon S3."
   ]
  },
  {
   "cell_type": "code",
   "execution_count": 25,
   "id": "ab07f375-0c81-4c96-8bfe-125413f6ecb8",
   "metadata": {
    "tags": []
   },
   "outputs": [
    {
     "name": "stdout",
     "output_type": "stream",
     "text": [
      "(64000, 16) (16000, 16) (20000, 16)\n"
     ]
    }
   ],
   "source": [
    "from sklearn.model_selection import StratifiedShuffleSplit\n",
    "\n",
    "X_df = full_df.drop([target_col], axis=1)\n",
    "y_df = full_df[target_col]\n",
    "train_test_split = StratifiedShuffleSplit(n_splits=1, test_size=0.2, random_state=42)\n",
    "\n",
    "for train_idx, test_idx in train_test_split.split(X_df, y_df):\n",
    "    train_df = full_df.loc[train_idx]\n",
    "    test_df = full_df.loc[test_idx]\n",
    "\n",
    "    \n",
    "X_train_df = train_df.drop([target_col], axis=1)\n",
    "y_train_df = train_df[target_col]\n",
    "train_val_split = StratifiedShuffleSplit(n_splits=1, test_size=0.2, random_state=42)\n",
    "\n",
    "for train_idx, val_idx in train_val_split.split(X_train_df, y_train_df):\n",
    "    train_df = full_df.loc[train_idx]\n",
    "    val_df = full_df.loc[val_idx]\n",
    "    \n",
    "print(train_df.shape, val_df.shape, test_df.shape)"
   ]
  },
  {
   "cell_type": "code",
   "execution_count": 26,
   "id": "4ae1a9ee-2823-43fc-9f31-4a9a15925826",
   "metadata": {
    "tags": []
   },
   "outputs": [],
   "source": [
    "train_df.to_csv(f's3://{S3_BUCKET_NM}/{S3_PREFIX}/train/train.csv', index=False, header=True)\n",
    "val_df.to_csv(f's3://{S3_BUCKET_NM}/{S3_PREFIX}/val/validation.csv', index=False, header=True)\n",
    "test_df.to_csv(f's3://{S3_BUCKET_NM}/{S3_PREFIX}/test/test.csv', index=False, header=True)"
   ]
  },
  {
   "cell_type": "markdown",
   "id": "20ed83d5-f55e-4d35-9ce4-dcb487a42512",
   "metadata": {},
   "source": [
    "### Prepare a Scikit-learn Training script\n",
    "---\n",
    "\n",
    "The training script will be similar script you might run outside of SageMaker. Because Scikit-learn library contains many algorithms, you will need to specify that inside the training script.\n",
    "\n",
    "Please refer to the documentation [here](https://docs.aws.amazon.com/sagemaker/latest/dg/pre-built-docker-containers-scikit-learn-spark.html) and check the latest version of scikit-learn [here](https://docs.aws.amazon.com/sagemaker/latest/dg/sklearn.html)."
   ]
  },
  {
   "cell_type": "code",
   "execution_count": 27,
   "id": "391c3e33-39f8-4949-851a-e8fdc579065a",
   "metadata": {
    "tags": []
   },
   "outputs": [
    {
     "data": {
      "text/html": [
       "<div>\n",
       "<style scoped>\n",
       "    .dataframe tbody tr th:only-of-type {\n",
       "        vertical-align: middle;\n",
       "    }\n",
       "\n",
       "    .dataframe tbody tr th {\n",
       "        vertical-align: top;\n",
       "    }\n",
       "\n",
       "    .dataframe thead th {\n",
       "        text-align: right;\n",
       "    }\n",
       "</style>\n",
       "<table border=\"1\" class=\"dataframe\">\n",
       "  <thead>\n",
       "    <tr style=\"text-align: right;\">\n",
       "      <th></th>\n",
       "      <th>incident_severity</th>\n",
       "      <th>num_vehicles_involved</th>\n",
       "      <th>num_injuries</th>\n",
       "      <th>num_witnesses</th>\n",
       "      <th>police_report_available</th>\n",
       "      <th>injury_claim</th>\n",
       "      <th>vehicle_claim</th>\n",
       "      <th>incident_hour</th>\n",
       "      <th>customer_age</th>\n",
       "      <th>policy_deductable</th>\n",
       "      <th>policy_annual_premium</th>\n",
       "      <th>num_claims_past_year</th>\n",
       "      <th>age</th>\n",
       "      <th>is_fraud</th>\n",
       "      <th>collision</th>\n",
       "      <th>theft</th>\n",
       "    </tr>\n",
       "  </thead>\n",
       "  <tbody>\n",
       "    <tr>\n",
       "      <th>0</th>\n",
       "      <td>5.0</td>\n",
       "      <td>2.0</td>\n",
       "      <td>3.0</td>\n",
       "      <td>2.0</td>\n",
       "      <td>0.0</td>\n",
       "      <td>9746.0</td>\n",
       "      <td>4621.0</td>\n",
       "      <td>11.0</td>\n",
       "      <td>36.0</td>\n",
       "      <td>600.0</td>\n",
       "      <td>1824.0</td>\n",
       "      <td>6.0</td>\n",
       "      <td>4</td>\n",
       "      <td>0</td>\n",
       "      <td>0</td>\n",
       "      <td>1</td>\n",
       "    </tr>\n",
       "    <tr>\n",
       "      <th>1</th>\n",
       "      <td>4.0</td>\n",
       "      <td>2.0</td>\n",
       "      <td>4.0</td>\n",
       "      <td>2.0</td>\n",
       "      <td>0.0</td>\n",
       "      <td>13003.0</td>\n",
       "      <td>4436.0</td>\n",
       "      <td>11.0</td>\n",
       "      <td>40.0</td>\n",
       "      <td>578.0</td>\n",
       "      <td>3190.0</td>\n",
       "      <td>3.0</td>\n",
       "      <td>82</td>\n",
       "      <td>0</td>\n",
       "      <td>0</td>\n",
       "      <td>0</td>\n",
       "    </tr>\n",
       "    <tr>\n",
       "      <th>2</th>\n",
       "      <td>5.0</td>\n",
       "      <td>2.0</td>\n",
       "      <td>5.0</td>\n",
       "      <td>2.0</td>\n",
       "      <td>0.0</td>\n",
       "      <td>10527.0</td>\n",
       "      <td>3950.0</td>\n",
       "      <td>12.0</td>\n",
       "      <td>33.0</td>\n",
       "      <td>551.0</td>\n",
       "      <td>2628.0</td>\n",
       "      <td>4.0</td>\n",
       "      <td>106</td>\n",
       "      <td>0</td>\n",
       "      <td>0</td>\n",
       "      <td>0</td>\n",
       "    </tr>\n",
       "    <tr>\n",
       "      <th>3</th>\n",
       "      <td>5.0</td>\n",
       "      <td>2.0</td>\n",
       "      <td>4.0</td>\n",
       "      <td>2.0</td>\n",
       "      <td>0.0</td>\n",
       "      <td>10142.0</td>\n",
       "      <td>4942.0</td>\n",
       "      <td>12.0</td>\n",
       "      <td>44.0</td>\n",
       "      <td>550.0</td>\n",
       "      <td>3879.0</td>\n",
       "      <td>3.0</td>\n",
       "      <td>33</td>\n",
       "      <td>0</td>\n",
       "      <td>0</td>\n",
       "      <td>1</td>\n",
       "    </tr>\n",
       "    <tr>\n",
       "      <th>4</th>\n",
       "      <td>5.0</td>\n",
       "      <td>2.0</td>\n",
       "      <td>4.0</td>\n",
       "      <td>2.0</td>\n",
       "      <td>0.0</td>\n",
       "      <td>10134.0</td>\n",
       "      <td>4748.0</td>\n",
       "      <td>13.0</td>\n",
       "      <td>38.0</td>\n",
       "      <td>514.0</td>\n",
       "      <td>2348.0</td>\n",
       "      <td>4.0</td>\n",
       "      <td>26</td>\n",
       "      <td>0</td>\n",
       "      <td>1</td>\n",
       "      <td>0</td>\n",
       "    </tr>\n",
       "  </tbody>\n",
       "</table>\n",
       "</div>"
      ],
      "text/plain": [
       "   incident_severity  num_vehicles_involved  num_injuries  num_witnesses  \\\n",
       "0                5.0                    2.0           3.0            2.0   \n",
       "1                4.0                    2.0           4.0            2.0   \n",
       "2                5.0                    2.0           5.0            2.0   \n",
       "3                5.0                    2.0           4.0            2.0   \n",
       "4                5.0                    2.0           4.0            2.0   \n",
       "\n",
       "   police_report_available  injury_claim  vehicle_claim  incident_hour  \\\n",
       "0                      0.0        9746.0         4621.0           11.0   \n",
       "1                      0.0       13003.0         4436.0           11.0   \n",
       "2                      0.0       10527.0         3950.0           12.0   \n",
       "3                      0.0       10142.0         4942.0           12.0   \n",
       "4                      0.0       10134.0         4748.0           13.0   \n",
       "\n",
       "   customer_age  policy_deductable  policy_annual_premium  \\\n",
       "0          36.0              600.0                 1824.0   \n",
       "1          40.0              578.0                 3190.0   \n",
       "2          33.0              551.0                 2628.0   \n",
       "3          44.0              550.0                 3879.0   \n",
       "4          38.0              514.0                 2348.0   \n",
       "\n",
       "   num_claims_past_year  age  is_fraud  collision  theft  \n",
       "0                   6.0    4         0          0      1  \n",
       "1                   3.0   82         0          0      0  \n",
       "2                   4.0  106         0          0      0  \n",
       "3                   3.0   33         0          0      1  \n",
       "4                   4.0   26         0          1      0  "
      ]
     },
     "execution_count": 27,
     "metadata": {},
     "output_type": "execute_result"
    }
   ],
   "source": [
    "tmp_df = pd.read_csv(f's3://{S3_BUCKET_NM}/{S3_PREFIX}/train/train.csv', header=0)\n",
    "tmp_df.head()"
   ]
  },
  {
   "cell_type": "code",
   "execution_count": 28,
   "id": "510e6d0a-60d9-4505-b59b-d03445160c7a",
   "metadata": {
    "tags": []
   },
   "outputs": [
    {
     "name": "stdout",
     "output_type": "stream",
     "text": [
      "Overwriting scikit_learn_rf.py\n"
     ]
    }
   ],
   "source": [
    "%%writefile scikit_learn_rf.py\n",
    "from __future__ import print_function\n",
    "\n",
    "import argparse\n",
    "import joblib\n",
    "import os\n",
    "import pandas as pd\n",
    "from sklearn.ensemble import RandomForestClassifier\n",
    "\n",
    "\n",
    "if __name__ == '__main__':\n",
    "    parser = argparse.ArgumentParser()\n",
    "    \n",
    "    # Hyperparameters section for RandomForestClassifier algorithm\n",
    "    parser.add_argument('--n_estimators', type=int, default=100)\n",
    "    parser.add_argument('--max_depth', type=int, default=4)\n",
    "    parser.add_argument('--verbose', type=int, default=0)\n",
    "    parser.add_argument('--random_state', type=int, default=42)\n",
    "    \n",
    "\n",
    "    # Sagemaker specific arguments. Defaults are set in the environment variables.\n",
    "    parser.add_argument('--output-data-dir', type=str, default=os.environ['SM_OUTPUT_DATA_DIR'])\n",
    "    parser.add_argument('--model-dir', type=str, default=os.environ['SM_MODEL_DIR'])\n",
    "    parser.add_argument('--train', type=str, default=os.environ['SM_CHANNEL_TRAIN'])\n",
    "\n",
    "    args = parser.parse_args()\n",
    "\n",
    "    # Take the set of files and read them all into a single pandas dataframe\n",
    "    input_files = [os.path.join(args.train, file) for file in os.listdir(args.train)]\n",
    "    if len(input_files) == 0:\n",
    "        raise ValueError(('There are no files in {}.\\n' +\n",
    "                          'This usually indicates that the channel ({}) was incorrectly specified,\\n' +\n",
    "                          'the data specification in S3 was incorrectly specified or the role specified\\n' +\n",
    "                          'does not have permission to access the data.').format(args.train, \"train\"))\n",
    "        \n",
    "    # based on our save dataset, we have header, and target column name = 'is_fraud'\n",
    "    raw_data = [pd.read_csv(file, header=0, engine=\"python\") for file in input_files]\n",
    "    train_data = pd.concat(raw_data)\n",
    "    target_col = 'is_fraud'\n",
    "    X_train = train_data.drop([target_col], axis=1)\n",
    "    y_train = train_data.loc[:, target_col]\n",
    "\n",
    "    # get the hyperparameters passing through the script\n",
    "    n_estimators = args.n_estimators\n",
    "    max_depth = args.max_depth\n",
    "    verbose = args.verbose\n",
    "    random_state = args.random_state\n",
    "    n_jobs = -1\n",
    "    \n",
    "    clf = RandomForestClassifier(\n",
    "        n_estimators=n_estimators,\n",
    "        max_depth=max_depth,\n",
    "        verbose=verbose,\n",
    "        random_state=random_state,\n",
    "        n_jobs=n_jobs\n",
    "    )\n",
    "    clf = clf.fit(X_train, y_train)\n",
    "\n",
    "    # Print the coefficients of the trained classifier, and save the coefficients\n",
    "    joblib.dump(clf, os.path.join(args.model_dir, \"model.joblib\"))\n",
    "\n",
    "\n",
    "def model_fn(model_dir):\n",
    "    \"\"\"Deserialized and return fitted model\n",
    "\n",
    "    Note that this should have the same name as the serialized model in the main method\n",
    "    \"\"\"\n",
    "    clf = joblib.load(os.path.join(model_dir, \"model.joblib\"))\n",
    "    return clf"
   ]
  },
  {
   "cell_type": "markdown",
   "id": "afbdcc25-2c0f-469f-b487-ff16fca33553",
   "metadata": {},
   "source": [
    "### Create a SageMaker SKLearn Estimator\n",
    "---\n",
    "To run our training script, we need to construct `sagemaker.sklearn.estimator.sklearn`."
   ]
  },
  {
   "cell_type": "code",
   "execution_count": 31,
   "id": "5a226eec-96bc-49a6-825d-e614aa4178bc",
   "metadata": {
    "tags": []
   },
   "outputs": [],
   "source": [
    "from sagemaker.sklearn.estimator import SKLearn\n",
    "\n",
    "FRAMEWORK_VERSION = '1.2-1'\n",
    "script_path = 'scikit_learn_rf.py'\n",
    "\n",
    "skl_rf = SKLearn(\n",
    "    entry_point=script_path,\n",
    "    framework_version=FRAMEWORK_VERSION,\n",
    "    instance_type='ml.c5.xlarge',\n",
    "    role=ROLE_ARN,\n",
    "    sagemaker_session=sm_session,\n",
    "    hyperparameters={\n",
    "        'n_estimators': 100,\n",
    "        'max_depth': 5,\n",
    "        'verbose': 0,\n",
    "        'random_state': 42,\n",
    "    },\n",
    "    container_log_level=50,  # remove this to see the other log level within the container executions\n",
    ")"
   ]
  },
  {
   "cell_type": "code",
   "execution_count": 32,
   "id": "94a087eb-7b2d-4ad8-83a2-bc7ad5f6f2fa",
   "metadata": {
    "tags": []
   },
   "outputs": [
    {
     "name": "stderr",
     "output_type": "stream",
     "text": [
      "INFO:sagemaker:Creating training-job with name: sagemaker-scikit-learn-2023-11-10-11-52-57-291\n"
     ]
    },
    {
     "name": "stdout",
     "output_type": "stream",
     "text": [
      "Using provided s3_resource\n",
      "2023-11-10 11:52:57 Starting - Starting the training job...\n",
      "2023-11-10 11:53:13 Starting - Preparing the instances for training......\n",
      "2023-11-10 11:54:15 Downloading - Downloading input data...\n",
      "2023-11-10 11:54:50 Training - Training image download completed. Training in progress....\n",
      "2023-11-10 11:55:11 Uploading - Uploading generated training model\n",
      "2023-11-10 11:55:11 Completed - Training job completed\n",
      "..Training seconds: 56\n",
      "Billable seconds: 56\n"
     ]
    }
   ],
   "source": [
    "skl_rf.fit({\n",
    "    'train': f's3://{S3_BUCKET_NM}/{S3_PREFIX}/train/'\n",
    "})\n"
   ]
  },
  {
   "cell_type": "markdown",
   "id": "1a845f18-3d88-48a4-9f78-8bf223529004",
   "metadata": {},
   "source": [
    "### Model Deployment"
   ]
  },
  {
   "cell_type": "code",
   "execution_count": 33,
   "id": "bddedd96-2c24-47fc-bd31-432ee06c7aba",
   "metadata": {
    "tags": []
   },
   "outputs": [
    {
     "name": "stderr",
     "output_type": "stream",
     "text": [
      "INFO:sagemaker:Creating model with name: sagemaker-scikit-learn-2023-11-10-11-55-48-280\n",
      "INFO:sagemaker:Creating endpoint-config with name sagemaker-scikit-learn-2023-11-10-11-55-48-280\n",
      "INFO:sagemaker:Creating endpoint with name sagemaker-scikit-learn-2023-11-10-11-55-48-280\n"
     ]
    },
    {
     "name": "stdout",
     "output_type": "stream",
     "text": [
      "---!"
     ]
    }
   ],
   "source": [
    "skl_rf_predictor = skl_rf.deploy(initial_instance_count=1, instance_type=\"ml.c5.xlarge\")"
   ]
  },
  {
   "cell_type": "markdown",
   "id": "912ce36a-0ff7-4ca6-acf7-966eaeeeeeb3",
   "metadata": {},
   "source": [
    "### Evaluation and validate"
   ]
  },
  {
   "cell_type": "code",
   "execution_count": 34,
   "id": "cbdad713-2030-4427-842f-4331e756d94c",
   "metadata": {
    "tags": []
   },
   "outputs": [],
   "source": [
    "pred = skl_rf_predictor.predict(test_df.drop(['is_fraud'], axis=1))"
   ]
  },
  {
   "cell_type": "code",
   "execution_count": 35,
   "id": "df38b306-4625-42e1-833b-5a875b74d752",
   "metadata": {
    "tags": []
   },
   "outputs": [
    {
     "data": {
      "text/html": [
       "<div>\n",
       "<style scoped>\n",
       "    .dataframe tbody tr th:only-of-type {\n",
       "        vertical-align: middle;\n",
       "    }\n",
       "\n",
       "    .dataframe tbody tr th {\n",
       "        vertical-align: top;\n",
       "    }\n",
       "\n",
       "    .dataframe thead th {\n",
       "        text-align: right;\n",
       "    }\n",
       "</style>\n",
       "<table border=\"1\" class=\"dataframe\">\n",
       "  <thead>\n",
       "    <tr style=\"text-align: right;\">\n",
       "      <th></th>\n",
       "      <th>model</th>\n",
       "      <th>roc_auc_score</th>\n",
       "      <th>precision</th>\n",
       "      <th>recall</th>\n",
       "      <th>f1_score</th>\n",
       "    </tr>\n",
       "  </thead>\n",
       "  <tbody>\n",
       "    <tr>\n",
       "      <th>0</th>\n",
       "      <td>SM - XGBoost</td>\n",
       "      <td>0.9717</td>\n",
       "      <td>0.9784</td>\n",
       "      <td>0.9445</td>\n",
       "      <td>0.9612</td>\n",
       "    </tr>\n",
       "    <tr>\n",
       "      <th>1</th>\n",
       "      <td>SM - SK-LEARN - RandomForest</td>\n",
       "      <td>0.6838</td>\n",
       "      <td>1.0000</td>\n",
       "      <td>0.3677</td>\n",
       "      <td>0.5377</td>\n",
       "    </tr>\n",
       "  </tbody>\n",
       "</table>\n",
       "</div>"
      ],
      "text/plain": [
       "                          model roc_auc_score precision   recall f1_score\n",
       "0                  SM - XGBoost        0.9717    0.9784   0.9445   0.9612\n",
       "1  SM - SK-LEARN - RandomForest        0.6838    1.0000   0.3677   0.5377"
      ]
     },
     "metadata": {},
     "output_type": "display_data"
    }
   ],
   "source": [
    "add_model_eval(\n",
    "    'SM - SK-LEARN - RandomForest', \n",
    "    roc_auc_score(test_df['is_fraud'], pred),\n",
    "    precision_score(test_df['is_fraud'], pred),\n",
    "    recall_score(test_df['is_fraud'], pred),\n",
    "    f1_score(test_df['is_fraud'], pred)\n",
    ")\n",
    "eval_df = view_models_eval(model_eval)"
   ]
  },
  {
   "cell_type": "markdown",
   "id": "f049de2c-f220-44ac-b775-2c1d812a216e",
   "metadata": {},
   "source": [
    "<div class=\"alert alert-block alert-info\">\n",
    "    <b>Note:</b> You should <u>delete</u> the model endpoint if you are no longer using it, as it will cause incurring charged!\n",
    "</div>"
   ]
  }
 ],
 "metadata": {
  "availableInstances": [
   {
    "_defaultOrder": 0,
    "_isFastLaunch": true,
    "category": "General purpose",
    "gpuNum": 0,
    "hideHardwareSpecs": false,
    "memoryGiB": 4,
    "name": "ml.t3.medium",
    "vcpuNum": 2
   },
   {
    "_defaultOrder": 1,
    "_isFastLaunch": false,
    "category": "General purpose",
    "gpuNum": 0,
    "hideHardwareSpecs": false,
    "memoryGiB": 8,
    "name": "ml.t3.large",
    "vcpuNum": 2
   },
   {
    "_defaultOrder": 2,
    "_isFastLaunch": false,
    "category": "General purpose",
    "gpuNum": 0,
    "hideHardwareSpecs": false,
    "memoryGiB": 16,
    "name": "ml.t3.xlarge",
    "vcpuNum": 4
   },
   {
    "_defaultOrder": 3,
    "_isFastLaunch": false,
    "category": "General purpose",
    "gpuNum": 0,
    "hideHardwareSpecs": false,
    "memoryGiB": 32,
    "name": "ml.t3.2xlarge",
    "vcpuNum": 8
   },
   {
    "_defaultOrder": 4,
    "_isFastLaunch": true,
    "category": "General purpose",
    "gpuNum": 0,
    "hideHardwareSpecs": false,
    "memoryGiB": 8,
    "name": "ml.m5.large",
    "vcpuNum": 2
   },
   {
    "_defaultOrder": 5,
    "_isFastLaunch": false,
    "category": "General purpose",
    "gpuNum": 0,
    "hideHardwareSpecs": false,
    "memoryGiB": 16,
    "name": "ml.m5.xlarge",
    "vcpuNum": 4
   },
   {
    "_defaultOrder": 6,
    "_isFastLaunch": false,
    "category": "General purpose",
    "gpuNum": 0,
    "hideHardwareSpecs": false,
    "memoryGiB": 32,
    "name": "ml.m5.2xlarge",
    "vcpuNum": 8
   },
   {
    "_defaultOrder": 7,
    "_isFastLaunch": false,
    "category": "General purpose",
    "gpuNum": 0,
    "hideHardwareSpecs": false,
    "memoryGiB": 64,
    "name": "ml.m5.4xlarge",
    "vcpuNum": 16
   },
   {
    "_defaultOrder": 8,
    "_isFastLaunch": false,
    "category": "General purpose",
    "gpuNum": 0,
    "hideHardwareSpecs": false,
    "memoryGiB": 128,
    "name": "ml.m5.8xlarge",
    "vcpuNum": 32
   },
   {
    "_defaultOrder": 9,
    "_isFastLaunch": false,
    "category": "General purpose",
    "gpuNum": 0,
    "hideHardwareSpecs": false,
    "memoryGiB": 192,
    "name": "ml.m5.12xlarge",
    "vcpuNum": 48
   },
   {
    "_defaultOrder": 10,
    "_isFastLaunch": false,
    "category": "General purpose",
    "gpuNum": 0,
    "hideHardwareSpecs": false,
    "memoryGiB": 256,
    "name": "ml.m5.16xlarge",
    "vcpuNum": 64
   },
   {
    "_defaultOrder": 11,
    "_isFastLaunch": false,
    "category": "General purpose",
    "gpuNum": 0,
    "hideHardwareSpecs": false,
    "memoryGiB": 384,
    "name": "ml.m5.24xlarge",
    "vcpuNum": 96
   },
   {
    "_defaultOrder": 12,
    "_isFastLaunch": false,
    "category": "General purpose",
    "gpuNum": 0,
    "hideHardwareSpecs": false,
    "memoryGiB": 8,
    "name": "ml.m5d.large",
    "vcpuNum": 2
   },
   {
    "_defaultOrder": 13,
    "_isFastLaunch": false,
    "category": "General purpose",
    "gpuNum": 0,
    "hideHardwareSpecs": false,
    "memoryGiB": 16,
    "name": "ml.m5d.xlarge",
    "vcpuNum": 4
   },
   {
    "_defaultOrder": 14,
    "_isFastLaunch": false,
    "category": "General purpose",
    "gpuNum": 0,
    "hideHardwareSpecs": false,
    "memoryGiB": 32,
    "name": "ml.m5d.2xlarge",
    "vcpuNum": 8
   },
   {
    "_defaultOrder": 15,
    "_isFastLaunch": false,
    "category": "General purpose",
    "gpuNum": 0,
    "hideHardwareSpecs": false,
    "memoryGiB": 64,
    "name": "ml.m5d.4xlarge",
    "vcpuNum": 16
   },
   {
    "_defaultOrder": 16,
    "_isFastLaunch": false,
    "category": "General purpose",
    "gpuNum": 0,
    "hideHardwareSpecs": false,
    "memoryGiB": 128,
    "name": "ml.m5d.8xlarge",
    "vcpuNum": 32
   },
   {
    "_defaultOrder": 17,
    "_isFastLaunch": false,
    "category": "General purpose",
    "gpuNum": 0,
    "hideHardwareSpecs": false,
    "memoryGiB": 192,
    "name": "ml.m5d.12xlarge",
    "vcpuNum": 48
   },
   {
    "_defaultOrder": 18,
    "_isFastLaunch": false,
    "category": "General purpose",
    "gpuNum": 0,
    "hideHardwareSpecs": false,
    "memoryGiB": 256,
    "name": "ml.m5d.16xlarge",
    "vcpuNum": 64
   },
   {
    "_defaultOrder": 19,
    "_isFastLaunch": false,
    "category": "General purpose",
    "gpuNum": 0,
    "hideHardwareSpecs": false,
    "memoryGiB": 384,
    "name": "ml.m5d.24xlarge",
    "vcpuNum": 96
   },
   {
    "_defaultOrder": 20,
    "_isFastLaunch": false,
    "category": "General purpose",
    "gpuNum": 0,
    "hideHardwareSpecs": true,
    "memoryGiB": 0,
    "name": "ml.geospatial.interactive",
    "supportedImageNames": [
     "sagemaker-geospatial-v1-0"
    ],
    "vcpuNum": 0
   },
   {
    "_defaultOrder": 21,
    "_isFastLaunch": true,
    "category": "Compute optimized",
    "gpuNum": 0,
    "hideHardwareSpecs": false,
    "memoryGiB": 4,
    "name": "ml.c5.large",
    "vcpuNum": 2
   },
   {
    "_defaultOrder": 22,
    "_isFastLaunch": false,
    "category": "Compute optimized",
    "gpuNum": 0,
    "hideHardwareSpecs": false,
    "memoryGiB": 8,
    "name": "ml.c5.xlarge",
    "vcpuNum": 4
   },
   {
    "_defaultOrder": 23,
    "_isFastLaunch": false,
    "category": "Compute optimized",
    "gpuNum": 0,
    "hideHardwareSpecs": false,
    "memoryGiB": 16,
    "name": "ml.c5.2xlarge",
    "vcpuNum": 8
   },
   {
    "_defaultOrder": 24,
    "_isFastLaunch": false,
    "category": "Compute optimized",
    "gpuNum": 0,
    "hideHardwareSpecs": false,
    "memoryGiB": 32,
    "name": "ml.c5.4xlarge",
    "vcpuNum": 16
   },
   {
    "_defaultOrder": 25,
    "_isFastLaunch": false,
    "category": "Compute optimized",
    "gpuNum": 0,
    "hideHardwareSpecs": false,
    "memoryGiB": 72,
    "name": "ml.c5.9xlarge",
    "vcpuNum": 36
   },
   {
    "_defaultOrder": 26,
    "_isFastLaunch": false,
    "category": "Compute optimized",
    "gpuNum": 0,
    "hideHardwareSpecs": false,
    "memoryGiB": 96,
    "name": "ml.c5.12xlarge",
    "vcpuNum": 48
   },
   {
    "_defaultOrder": 27,
    "_isFastLaunch": false,
    "category": "Compute optimized",
    "gpuNum": 0,
    "hideHardwareSpecs": false,
    "memoryGiB": 144,
    "name": "ml.c5.18xlarge",
    "vcpuNum": 72
   },
   {
    "_defaultOrder": 28,
    "_isFastLaunch": false,
    "category": "Compute optimized",
    "gpuNum": 0,
    "hideHardwareSpecs": false,
    "memoryGiB": 192,
    "name": "ml.c5.24xlarge",
    "vcpuNum": 96
   },
   {
    "_defaultOrder": 29,
    "_isFastLaunch": true,
    "category": "Accelerated computing",
    "gpuNum": 1,
    "hideHardwareSpecs": false,
    "memoryGiB": 16,
    "name": "ml.g4dn.xlarge",
    "vcpuNum": 4
   },
   {
    "_defaultOrder": 30,
    "_isFastLaunch": false,
    "category": "Accelerated computing",
    "gpuNum": 1,
    "hideHardwareSpecs": false,
    "memoryGiB": 32,
    "name": "ml.g4dn.2xlarge",
    "vcpuNum": 8
   },
   {
    "_defaultOrder": 31,
    "_isFastLaunch": false,
    "category": "Accelerated computing",
    "gpuNum": 1,
    "hideHardwareSpecs": false,
    "memoryGiB": 64,
    "name": "ml.g4dn.4xlarge",
    "vcpuNum": 16
   },
   {
    "_defaultOrder": 32,
    "_isFastLaunch": false,
    "category": "Accelerated computing",
    "gpuNum": 1,
    "hideHardwareSpecs": false,
    "memoryGiB": 128,
    "name": "ml.g4dn.8xlarge",
    "vcpuNum": 32
   },
   {
    "_defaultOrder": 33,
    "_isFastLaunch": false,
    "category": "Accelerated computing",
    "gpuNum": 4,
    "hideHardwareSpecs": false,
    "memoryGiB": 192,
    "name": "ml.g4dn.12xlarge",
    "vcpuNum": 48
   },
   {
    "_defaultOrder": 34,
    "_isFastLaunch": false,
    "category": "Accelerated computing",
    "gpuNum": 1,
    "hideHardwareSpecs": false,
    "memoryGiB": 256,
    "name": "ml.g4dn.16xlarge",
    "vcpuNum": 64
   },
   {
    "_defaultOrder": 35,
    "_isFastLaunch": false,
    "category": "Accelerated computing",
    "gpuNum": 1,
    "hideHardwareSpecs": false,
    "memoryGiB": 61,
    "name": "ml.p3.2xlarge",
    "vcpuNum": 8
   },
   {
    "_defaultOrder": 36,
    "_isFastLaunch": false,
    "category": "Accelerated computing",
    "gpuNum": 4,
    "hideHardwareSpecs": false,
    "memoryGiB": 244,
    "name": "ml.p3.8xlarge",
    "vcpuNum": 32
   },
   {
    "_defaultOrder": 37,
    "_isFastLaunch": false,
    "category": "Accelerated computing",
    "gpuNum": 8,
    "hideHardwareSpecs": false,
    "memoryGiB": 488,
    "name": "ml.p3.16xlarge",
    "vcpuNum": 64
   },
   {
    "_defaultOrder": 38,
    "_isFastLaunch": false,
    "category": "Accelerated computing",
    "gpuNum": 8,
    "hideHardwareSpecs": false,
    "memoryGiB": 768,
    "name": "ml.p3dn.24xlarge",
    "vcpuNum": 96
   },
   {
    "_defaultOrder": 39,
    "_isFastLaunch": false,
    "category": "Memory Optimized",
    "gpuNum": 0,
    "hideHardwareSpecs": false,
    "memoryGiB": 16,
    "name": "ml.r5.large",
    "vcpuNum": 2
   },
   {
    "_defaultOrder": 40,
    "_isFastLaunch": false,
    "category": "Memory Optimized",
    "gpuNum": 0,
    "hideHardwareSpecs": false,
    "memoryGiB": 32,
    "name": "ml.r5.xlarge",
    "vcpuNum": 4
   },
   {
    "_defaultOrder": 41,
    "_isFastLaunch": false,
    "category": "Memory Optimized",
    "gpuNum": 0,
    "hideHardwareSpecs": false,
    "memoryGiB": 64,
    "name": "ml.r5.2xlarge",
    "vcpuNum": 8
   },
   {
    "_defaultOrder": 42,
    "_isFastLaunch": false,
    "category": "Memory Optimized",
    "gpuNum": 0,
    "hideHardwareSpecs": false,
    "memoryGiB": 128,
    "name": "ml.r5.4xlarge",
    "vcpuNum": 16
   },
   {
    "_defaultOrder": 43,
    "_isFastLaunch": false,
    "category": "Memory Optimized",
    "gpuNum": 0,
    "hideHardwareSpecs": false,
    "memoryGiB": 256,
    "name": "ml.r5.8xlarge",
    "vcpuNum": 32
   },
   {
    "_defaultOrder": 44,
    "_isFastLaunch": false,
    "category": "Memory Optimized",
    "gpuNum": 0,
    "hideHardwareSpecs": false,
    "memoryGiB": 384,
    "name": "ml.r5.12xlarge",
    "vcpuNum": 48
   },
   {
    "_defaultOrder": 45,
    "_isFastLaunch": false,
    "category": "Memory Optimized",
    "gpuNum": 0,
    "hideHardwareSpecs": false,
    "memoryGiB": 512,
    "name": "ml.r5.16xlarge",
    "vcpuNum": 64
   },
   {
    "_defaultOrder": 46,
    "_isFastLaunch": false,
    "category": "Memory Optimized",
    "gpuNum": 0,
    "hideHardwareSpecs": false,
    "memoryGiB": 768,
    "name": "ml.r5.24xlarge",
    "vcpuNum": 96
   },
   {
    "_defaultOrder": 47,
    "_isFastLaunch": false,
    "category": "Accelerated computing",
    "gpuNum": 1,
    "hideHardwareSpecs": false,
    "memoryGiB": 16,
    "name": "ml.g5.xlarge",
    "vcpuNum": 4
   },
   {
    "_defaultOrder": 48,
    "_isFastLaunch": false,
    "category": "Accelerated computing",
    "gpuNum": 1,
    "hideHardwareSpecs": false,
    "memoryGiB": 32,
    "name": "ml.g5.2xlarge",
    "vcpuNum": 8
   },
   {
    "_defaultOrder": 49,
    "_isFastLaunch": false,
    "category": "Accelerated computing",
    "gpuNum": 1,
    "hideHardwareSpecs": false,
    "memoryGiB": 64,
    "name": "ml.g5.4xlarge",
    "vcpuNum": 16
   },
   {
    "_defaultOrder": 50,
    "_isFastLaunch": false,
    "category": "Accelerated computing",
    "gpuNum": 1,
    "hideHardwareSpecs": false,
    "memoryGiB": 128,
    "name": "ml.g5.8xlarge",
    "vcpuNum": 32
   },
   {
    "_defaultOrder": 51,
    "_isFastLaunch": false,
    "category": "Accelerated computing",
    "gpuNum": 1,
    "hideHardwareSpecs": false,
    "memoryGiB": 256,
    "name": "ml.g5.16xlarge",
    "vcpuNum": 64
   },
   {
    "_defaultOrder": 52,
    "_isFastLaunch": false,
    "category": "Accelerated computing",
    "gpuNum": 4,
    "hideHardwareSpecs": false,
    "memoryGiB": 192,
    "name": "ml.g5.12xlarge",
    "vcpuNum": 48
   },
   {
    "_defaultOrder": 53,
    "_isFastLaunch": false,
    "category": "Accelerated computing",
    "gpuNum": 4,
    "hideHardwareSpecs": false,
    "memoryGiB": 384,
    "name": "ml.g5.24xlarge",
    "vcpuNum": 96
   },
   {
    "_defaultOrder": 54,
    "_isFastLaunch": false,
    "category": "Accelerated computing",
    "gpuNum": 8,
    "hideHardwareSpecs": false,
    "memoryGiB": 768,
    "name": "ml.g5.48xlarge",
    "vcpuNum": 192
   },
   {
    "_defaultOrder": 55,
    "_isFastLaunch": false,
    "category": "Accelerated computing",
    "gpuNum": 8,
    "hideHardwareSpecs": false,
    "memoryGiB": 1152,
    "name": "ml.p4d.24xlarge",
    "vcpuNum": 96
   },
   {
    "_defaultOrder": 56,
    "_isFastLaunch": false,
    "category": "Accelerated computing",
    "gpuNum": 8,
    "hideHardwareSpecs": false,
    "memoryGiB": 1152,
    "name": "ml.p4de.24xlarge",
    "vcpuNum": 96
   }
  ],
  "instance_type": "ml.t3.medium",
  "kernelspec": {
   "display_name": "Python 3 (Data Science 3.0)",
   "language": "python",
   "name": "python3__SAGEMAKER_INTERNAL__arn:aws:sagemaker:us-west-2:236514542706:image/sagemaker-data-science-310-v1"
  },
  "language_info": {
   "codemirror_mode": {
    "name": "ipython",
    "version": 3
   },
   "file_extension": ".py",
   "mimetype": "text/x-python",
   "name": "python",
   "nbconvert_exporter": "python",
   "pygments_lexer": "ipython3",
   "version": "3.10.6"
  }
 },
 "nbformat": 4,
 "nbformat_minor": 5
}
