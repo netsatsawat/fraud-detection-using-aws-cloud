{
 "cells": [
  {
   "cell_type": "markdown",
   "id": "0448e7f5-fa14-429a-99e5-f270e1a60556",
   "metadata": {},
   "source": [
    "# Traditional approach: Use Scikit learn or XGBoost directly on Notebook\n",
    "---\n",
    "\n",
    "Outside of **SageMaker**, normally data scientists will spin up their environment (either via IDE, or server) and create new notebook (or *py* file).\n",
    "\n",
    "This notebook is used to demonstrate that it can work the same way as traditional way to develop the ML model. I will build out 2 ML models based on;\n",
    "\n",
    "- scikit library\n",
    "- XGboost library\n",
    "\n",
    "## About dataset...\n",
    "---\n",
    "\n",
    "In this notebook demonstration, we will be using **Auto Insurance** claim data, with 100k observations. The data is provided and is kept in `../data/` folder.\n",
    "\n",
    "\n",
    "<div class=\"alert alert-block alert-info\">\n",
    "    <b>Note</b>: This notebook is tested on <b>ml.m5.xlarge</b> instance with <i>Data Science 3.0</i> image.\n",
    "</div>"
   ]
  },
  {
   "cell_type": "markdown",
   "id": "4ff2e148-53b4-4b1f-b0bd-b7a09366a00e",
   "metadata": {},
   "source": [
    "## Set up\n",
    "---\n",
    "\n",
    "**xgboost** didn't come directly with **Data Science 3.0** image \n",
    "\n",
    "Note if you are using other image like *Base Python*, you will need to install scikit-learn as well."
   ]
  },
  {
   "cell_type": "code",
   "execution_count": 2,
   "id": "597ff32b-f247-4d0b-8e72-d8c003764da2",
   "metadata": {
    "tags": []
   },
   "outputs": [
    {
     "name": "stdout",
     "output_type": "stream",
     "text": [
      "Note: you may need to restart the kernel to use updated packages.\n"
     ]
    }
   ],
   "source": [
    "%pip install xgboost --quiet --root-user-action=ignore"
   ]
  },
  {
   "cell_type": "code",
   "execution_count": 3,
   "id": "3d83d498-d183-4b93-be3c-1668bc6b2031",
   "metadata": {
    "tags": []
   },
   "outputs": [],
   "source": [
    "import pandas as pd\n",
    "import numpy as np\n",
    "import matplotlib.pyplot as plt\n",
    "import seaborn as sns\n",
    "\n",
    "%matplotlib inline\n",
    "pd.set_option('display.max_columns', None)"
   ]
  },
  {
   "cell_type": "markdown",
   "id": "7bfc17ba-ed24-45f3-9f9f-67b2fab1fafb",
   "metadata": {},
   "source": [
    "## Explore dataset\n",
    "---\n",
    "\n",
    "As part of any data science project, I will load the dataset and basically create basic feature engineers and visualize the dataset for better understanding."
   ]
  },
  {
   "cell_type": "code",
   "execution_count": 4,
   "id": "e739572b-df0d-45d6-944c-4fbee5733bed",
   "metadata": {
    "tags": []
   },
   "outputs": [
    {
     "name": "stdout",
     "output_type": "stream",
     "text": [
      "(100000, 23)\n"
     ]
    },
    {
     "data": {
      "text/html": [
       "<div>\n",
       "<style scoped>\n",
       "    .dataframe tbody tr th:only-of-type {\n",
       "        vertical-align: middle;\n",
       "    }\n",
       "\n",
       "    .dataframe tbody tr th {\n",
       "        vertical-align: top;\n",
       "    }\n",
       "\n",
       "    .dataframe thead th {\n",
       "        text-align: right;\n",
       "    }\n",
       "</style>\n",
       "<table border=\"1\" class=\"dataframe\">\n",
       "  <thead>\n",
       "    <tr style=\"text-align: right;\">\n",
       "      <th></th>\n",
       "      <th>first_name</th>\n",
       "      <th>last_name</th>\n",
       "      <th>date_of_birth</th>\n",
       "      <th>incident_severity</th>\n",
       "      <th>num_vehicles_involved</th>\n",
       "      <th>num_injuries</th>\n",
       "      <th>num_witnesses</th>\n",
       "      <th>police_report_available</th>\n",
       "      <th>injury_claim</th>\n",
       "      <th>vehicle_claim</th>\n",
       "      <th>incident_hour</th>\n",
       "      <th>customer_age</th>\n",
       "      <th>policy_deductable</th>\n",
       "      <th>policy_annual_premium</th>\n",
       "      <th>num_claims_past_year</th>\n",
       "      <th>EVENT_LABEL</th>\n",
       "      <th>EVENT_TIMESTAMP</th>\n",
       "      <th>EVENT_ID</th>\n",
       "      <th>ENTITY_TYPE</th>\n",
       "      <th>ENTITY_ID</th>\n",
       "      <th>policy_id</th>\n",
       "      <th>incident_type</th>\n",
       "      <th>LABEL_TIMESTAMP</th>\n",
       "    </tr>\n",
       "  </thead>\n",
       "  <tbody>\n",
       "    <tr>\n",
       "      <th>0</th>\n",
       "      <td>Jose</td>\n",
       "      <td>Haynes</td>\n",
       "      <td>1927-10-16</td>\n",
       "      <td>5.0</td>\n",
       "      <td>2.0</td>\n",
       "      <td>2.0</td>\n",
       "      <td>1.0</td>\n",
       "      <td>0.0</td>\n",
       "      <td>12986.0</td>\n",
       "      <td>4375.0</td>\n",
       "      <td>15.0</td>\n",
       "      <td>43.0</td>\n",
       "      <td>666.0</td>\n",
       "      <td>2995.0</td>\n",
       "      <td>5.0</td>\n",
       "      <td>legit</td>\n",
       "      <td>2022-07-13T10:03:22Z</td>\n",
       "      <td>b4b09066-de78-40d9-bb54-498fee1770c5</td>\n",
       "      <td>customer</td>\n",
       "      <td>a612-85445302</td>\n",
       "      <td>b4b09066-de78-40d9-bb54-498fee1770c5</td>\n",
       "      <td>collision</td>\n",
       "      <td>2023-03-06T15:05:50Z</td>\n",
       "    </tr>\n",
       "    <tr>\n",
       "      <th>1</th>\n",
       "      <td>Vicki</td>\n",
       "      <td>Stark</td>\n",
       "      <td>1952-09-20</td>\n",
       "      <td>4.0</td>\n",
       "      <td>3.0</td>\n",
       "      <td>5.0</td>\n",
       "      <td>2.0</td>\n",
       "      <td>0.0</td>\n",
       "      <td>6065.0</td>\n",
       "      <td>5941.0</td>\n",
       "      <td>10.0</td>\n",
       "      <td>45.0</td>\n",
       "      <td>649.0</td>\n",
       "      <td>1535.0</td>\n",
       "      <td>4.0</td>\n",
       "      <td>legit</td>\n",
       "      <td>2023-02-03T02:48:21Z</td>\n",
       "      <td>d2ccfe0a-e65b-4983-bbd8-de73506f0bca</td>\n",
       "      <td>customer</td>\n",
       "      <td>c786-86718442</td>\n",
       "      <td>d2ccfe0a-e65b-4983-bbd8-de73506f0bca</td>\n",
       "      <td>theft</td>\n",
       "      <td>2023-03-06T15:05:50Z</td>\n",
       "    </tr>\n",
       "    <tr>\n",
       "      <th>2</th>\n",
       "      <td>Breanna</td>\n",
       "      <td>Kline</td>\n",
       "      <td>1984-05-14</td>\n",
       "      <td>4.0</td>\n",
       "      <td>3.0</td>\n",
       "      <td>3.0</td>\n",
       "      <td>2.0</td>\n",
       "      <td>0.0</td>\n",
       "      <td>12017.0</td>\n",
       "      <td>4712.0</td>\n",
       "      <td>22.0</td>\n",
       "      <td>30.0</td>\n",
       "      <td>436.0</td>\n",
       "      <td>3043.0</td>\n",
       "      <td>5.0</td>\n",
       "      <td>legit</td>\n",
       "      <td>2022-11-19T03:22:35Z</td>\n",
       "      <td>cd4084d4-717d-456b-baa9-bae079f80aaf</td>\n",
       "      <td>customer</td>\n",
       "      <td>b340-10389704</td>\n",
       "      <td>cd4084d4-717d-456b-baa9-bae079f80aaf</td>\n",
       "      <td>collision</td>\n",
       "      <td>2023-03-06T15:05:50Z</td>\n",
       "    </tr>\n",
       "  </tbody>\n",
       "</table>\n",
       "</div>"
      ],
      "text/plain": [
       "  first_name last_name date_of_birth  incident_severity  \\\n",
       "0       Jose    Haynes    1927-10-16                5.0   \n",
       "1      Vicki     Stark    1952-09-20                4.0   \n",
       "2    Breanna     Kline    1984-05-14                4.0   \n",
       "\n",
       "   num_vehicles_involved  num_injuries  num_witnesses  \\\n",
       "0                    2.0           2.0            1.0   \n",
       "1                    3.0           5.0            2.0   \n",
       "2                    3.0           3.0            2.0   \n",
       "\n",
       "   police_report_available  injury_claim  vehicle_claim  incident_hour  \\\n",
       "0                      0.0       12986.0         4375.0           15.0   \n",
       "1                      0.0        6065.0         5941.0           10.0   \n",
       "2                      0.0       12017.0         4712.0           22.0   \n",
       "\n",
       "   customer_age  policy_deductable  policy_annual_premium  \\\n",
       "0          43.0              666.0                 2995.0   \n",
       "1          45.0              649.0                 1535.0   \n",
       "2          30.0              436.0                 3043.0   \n",
       "\n",
       "   num_claims_past_year EVENT_LABEL       EVENT_TIMESTAMP  \\\n",
       "0                   5.0       legit  2022-07-13T10:03:22Z   \n",
       "1                   4.0       legit  2023-02-03T02:48:21Z   \n",
       "2                   5.0       legit  2022-11-19T03:22:35Z   \n",
       "\n",
       "                               EVENT_ID ENTITY_TYPE      ENTITY_ID  \\\n",
       "0  b4b09066-de78-40d9-bb54-498fee1770c5    customer  a612-85445302   \n",
       "1  d2ccfe0a-e65b-4983-bbd8-de73506f0bca    customer  c786-86718442   \n",
       "2  cd4084d4-717d-456b-baa9-bae079f80aaf    customer  b340-10389704   \n",
       "\n",
       "                              policy_id incident_type       LABEL_TIMESTAMP  \n",
       "0  b4b09066-de78-40d9-bb54-498fee1770c5     collision  2023-03-06T15:05:50Z  \n",
       "1  d2ccfe0a-e65b-4983-bbd8-de73506f0bca         theft  2023-03-06T15:05:50Z  \n",
       "2  cd4084d4-717d-456b-baa9-bae079f80aaf     collision  2023-03-06T15:05:50Z  "
      ]
     },
     "metadata": {},
     "output_type": "display_data"
    }
   ],
   "source": [
    "df = pd.read_csv('../data/Insurance_FraudulentAutoInsuranceClaims_100k.csv')\n",
    "print(df.shape)\n",
    "display(df.head(3))"
   ]
  },
  {
   "cell_type": "markdown",
   "id": "bb239bd1-9812-40af-8d0c-220dc361645e",
   "metadata": {},
   "source": [
    "- Column `EVENT_LABEL` is the target variable.\n",
    "- Columns like `LABEL_TIMESTAMP`, `ENTITY_TYPE` has only 1 value, which can be dropped.\n",
    "- In this case, `policy_id` is unique across all columns, this is initially kept for reference purpose.\n",
    "- Columns `EVENT_TIMESTAMP`, `ENTITY_ID`, `EVENT_ID` are specific for Amazon Fraud Detector services, they will be dropped.\n",
    "- column `EVENT_TIMESTAMP` however can be used with `date_of_birth` column to create new feature named **age**."
   ]
  },
  {
   "cell_type": "code",
   "execution_count": 5,
   "id": "ed768b2d-9591-4831-ab2d-9f22c755d222",
   "metadata": {
    "tags": []
   },
   "outputs": [],
   "source": [
    "df.loc[:, 'EVENT_TIMESTAMP'] = pd.to_datetime(pd.to_datetime(df['EVENT_TIMESTAMP']).dt.strftime('%Y-%m-%d'))\n",
    "df.loc[:, 'date_of_birth'] = pd.to_datetime(df['date_of_birth'])\n",
    "df.loc[:, 'age'] = df['EVENT_TIMESTAMP'].apply(lambda x: x.year) - df['date_of_birth'].apply(lambda x: x.year)"
   ]
  },
  {
   "cell_type": "code",
   "execution_count": 6,
   "id": "0a59c7d9-05fb-4711-b9e3-97f4c56b4b8e",
   "metadata": {
    "tags": []
   },
   "outputs": [],
   "source": [
    "df.drop(['LABEL_TIMESTAMP', 'ENTITY_TYPE'], axis=1, inplace=True)\n",
    "df.drop(['EVENT_TIMESTAMP', 'ENTITY_ID', 'EVENT_ID'], axis=1, inplace=True)"
   ]
  },
  {
   "cell_type": "markdown",
   "id": "fa2d2504-87fb-46dd-9d59-e5129e1e44e3",
   "metadata": {},
   "source": [
    "- With this `date_of_birth` column can be dropped as well\n",
    "- `first_name` and `last_name` do not provide any information as well as these are merely **PII** data, which should not be used in model building."
   ]
  },
  {
   "cell_type": "code",
   "execution_count": 7,
   "id": "ee911c36-7ecd-4da4-a6ac-22bea621c3e9",
   "metadata": {
    "tags": []
   },
   "outputs": [],
   "source": [
    "df.drop(['date_of_birth', 'first_name', 'last_name'], axis=1, inplace=True)"
   ]
  },
  {
   "cell_type": "code",
   "execution_count": 8,
   "id": "2647d5ba-002d-4a6a-b837-6d96d4d62962",
   "metadata": {
    "tags": []
   },
   "outputs": [
    {
     "name": "stdout",
     "output_type": "stream",
     "text": [
      "(100000, 16)\n"
     ]
    },
    {
     "data": {
      "text/html": [
       "<div>\n",
       "<style scoped>\n",
       "    .dataframe tbody tr th:only-of-type {\n",
       "        vertical-align: middle;\n",
       "    }\n",
       "\n",
       "    .dataframe tbody tr th {\n",
       "        vertical-align: top;\n",
       "    }\n",
       "\n",
       "    .dataframe thead th {\n",
       "        text-align: right;\n",
       "    }\n",
       "</style>\n",
       "<table border=\"1\" class=\"dataframe\">\n",
       "  <thead>\n",
       "    <tr style=\"text-align: right;\">\n",
       "      <th></th>\n",
       "      <th>incident_severity</th>\n",
       "      <th>num_vehicles_involved</th>\n",
       "      <th>num_injuries</th>\n",
       "      <th>num_witnesses</th>\n",
       "      <th>police_report_available</th>\n",
       "      <th>injury_claim</th>\n",
       "      <th>vehicle_claim</th>\n",
       "      <th>incident_hour</th>\n",
       "      <th>customer_age</th>\n",
       "      <th>policy_deductable</th>\n",
       "      <th>policy_annual_premium</th>\n",
       "      <th>num_claims_past_year</th>\n",
       "      <th>EVENT_LABEL</th>\n",
       "      <th>policy_id</th>\n",
       "      <th>incident_type</th>\n",
       "      <th>age</th>\n",
       "    </tr>\n",
       "  </thead>\n",
       "  <tbody>\n",
       "    <tr>\n",
       "      <th>0</th>\n",
       "      <td>5.0</td>\n",
       "      <td>2.0</td>\n",
       "      <td>2.0</td>\n",
       "      <td>1.0</td>\n",
       "      <td>0.0</td>\n",
       "      <td>12986.0</td>\n",
       "      <td>4375.0</td>\n",
       "      <td>15.0</td>\n",
       "      <td>43.0</td>\n",
       "      <td>666.0</td>\n",
       "      <td>2995.0</td>\n",
       "      <td>5.0</td>\n",
       "      <td>legit</td>\n",
       "      <td>b4b09066-de78-40d9-bb54-498fee1770c5</td>\n",
       "      <td>collision</td>\n",
       "      <td>95</td>\n",
       "    </tr>\n",
       "    <tr>\n",
       "      <th>1</th>\n",
       "      <td>4.0</td>\n",
       "      <td>3.0</td>\n",
       "      <td>5.0</td>\n",
       "      <td>2.0</td>\n",
       "      <td>0.0</td>\n",
       "      <td>6065.0</td>\n",
       "      <td>5941.0</td>\n",
       "      <td>10.0</td>\n",
       "      <td>45.0</td>\n",
       "      <td>649.0</td>\n",
       "      <td>1535.0</td>\n",
       "      <td>4.0</td>\n",
       "      <td>legit</td>\n",
       "      <td>d2ccfe0a-e65b-4983-bbd8-de73506f0bca</td>\n",
       "      <td>theft</td>\n",
       "      <td>71</td>\n",
       "    </tr>\n",
       "    <tr>\n",
       "      <th>2</th>\n",
       "      <td>4.0</td>\n",
       "      <td>3.0</td>\n",
       "      <td>3.0</td>\n",
       "      <td>2.0</td>\n",
       "      <td>0.0</td>\n",
       "      <td>12017.0</td>\n",
       "      <td>4712.0</td>\n",
       "      <td>22.0</td>\n",
       "      <td>30.0</td>\n",
       "      <td>436.0</td>\n",
       "      <td>3043.0</td>\n",
       "      <td>5.0</td>\n",
       "      <td>legit</td>\n",
       "      <td>cd4084d4-717d-456b-baa9-bae079f80aaf</td>\n",
       "      <td>collision</td>\n",
       "      <td>38</td>\n",
       "    </tr>\n",
       "  </tbody>\n",
       "</table>\n",
       "</div>"
      ],
      "text/plain": [
       "   incident_severity  num_vehicles_involved  num_injuries  num_witnesses  \\\n",
       "0                5.0                    2.0           2.0            1.0   \n",
       "1                4.0                    3.0           5.0            2.0   \n",
       "2                4.0                    3.0           3.0            2.0   \n",
       "\n",
       "   police_report_available  injury_claim  vehicle_claim  incident_hour  \\\n",
       "0                      0.0       12986.0         4375.0           15.0   \n",
       "1                      0.0        6065.0         5941.0           10.0   \n",
       "2                      0.0       12017.0         4712.0           22.0   \n",
       "\n",
       "   customer_age  policy_deductable  policy_annual_premium  \\\n",
       "0          43.0              666.0                 2995.0   \n",
       "1          45.0              649.0                 1535.0   \n",
       "2          30.0              436.0                 3043.0   \n",
       "\n",
       "   num_claims_past_year EVENT_LABEL                             policy_id  \\\n",
       "0                   5.0       legit  b4b09066-de78-40d9-bb54-498fee1770c5   \n",
       "1                   4.0       legit  d2ccfe0a-e65b-4983-bbd8-de73506f0bca   \n",
       "2                   5.0       legit  cd4084d4-717d-456b-baa9-bae079f80aaf   \n",
       "\n",
       "  incident_type  age  \n",
       "0     collision   95  \n",
       "1         theft   71  \n",
       "2     collision   38  "
      ]
     },
     "metadata": {},
     "output_type": "display_data"
    }
   ],
   "source": [
    "print(df.shape)\n",
    "display(df.head(3))"
   ]
  },
  {
   "cell_type": "markdown",
   "id": "b174a55b-ec59-4a36-8cfc-b1615f93b0ea",
   "metadata": {},
   "source": [
    "### Quick EDA\n",
    "---\n",
    "\n",
    "Let's do a quick plot on dataset."
   ]
  },
  {
   "cell_type": "code",
   "execution_count": 9,
   "id": "e95a2ada-f979-4edd-a0a4-05dd5ec74a44",
   "metadata": {
    "tags": []
   },
   "outputs": [
    {
     "name": "stdout",
     "output_type": "stream",
     "text": [
      "legit    94.955\n",
      "fraud     5.045\n",
      "Name: EVENT_LABEL, dtype: float64\n"
     ]
    }
   ],
   "source": [
    "target_col = 'EVENT_LABEL'\n",
    "\n",
    "print(df[target_col].value_counts(normalize=True) * 100)"
   ]
  },
  {
   "cell_type": "code",
   "execution_count": 10,
   "id": "9f722c87-d052-499a-b4cb-acc624576e15",
   "metadata": {
    "tags": []
   },
   "outputs": [],
   "source": [
    "sns.set_theme(\n",
    "    context='notebook', style=\"whitegrid\", palette='Spectral'\n",
    ")"
   ]
  },
  {
   "cell_type": "code",
   "execution_count": 11,
   "id": "38df94eb-3b60-40aa-912f-66f0bed882d8",
   "metadata": {
    "tags": []
   },
   "outputs": [
    {
     "data": {
      "image/png": "[encoded data removed]",
      "text/plain": [
       "<Figure size 640x480 with 1 Axes>"
      ]
     },
     "metadata": {},
     "output_type": "display_data"
    }
   ],
   "source": [
    "ax = sns.countplot(data=df, x=target_col)\n",
    "ax.bar_label(ax.containers[0])\n",
    "ax.tick_params(left=False, bottom=False)\n",
    "ax.set(ylabel=None, yticklabels=[])\n",
    "plt.plot();"
   ]
  },
  {
   "cell_type": "code",
   "execution_count": 12,
   "id": "95dd3fcf-54e8-42e0-8aec-be4a0495799c",
   "metadata": {
    "tags": []
   },
   "outputs": [
    {
     "data": {
      "image/png": "[encoded data removed]",
      "text/plain": [
       "<Figure size 640x480 with 1 Axes>"
      ]
     },
     "metadata": {},
     "output_type": "display_data"
    }
   ],
   "source": [
    "ax = sns.countplot(data=df, x='incident_type')\n",
    "ax.bar_label(ax.containers[0])\n",
    "ax.tick_params(left=False, bottom=False)\n",
    "ax.set(ylabel=None, yticklabels=[])\n",
    "plt.plot();"
   ]
  },
  {
   "cell_type": "code",
   "execution_count": 13,
   "id": "5f0e6892-87e1-412f-967b-326bff7297aa",
   "metadata": {
    "tags": []
   },
   "outputs": [],
   "source": [
    "num_col_list = df.select_dtypes(exclude=['object']).columns"
   ]
  },
  {
   "cell_type": "code",
   "execution_count": 14,
   "id": "8038fbf4-474c-4673-b671-0ba42b35f156",
   "metadata": {
    "tags": []
   },
   "outputs": [
    {
     "data": {
      "image/png": "[encoded data removed]",
      "text/plain": [
       "<Figure size 640x480 with 1 Axes>"
      ]
     },
     "metadata": {},
     "output_type": "display_data"
    },
    {
     "data": {
      "image/png": "[encoded data removed]",
      "text/plain": [
       "<Figure size 640x480 with 1 Axes>"
      ]
     },
     "metadata": {},
     "output_type": "display_data"
    },
    {
     "data": {
      "image/png": "[encoded data removed]",
      "text/plain": [
       "<Figure size 640x480 with 1 Axes>"
      ]
     },
     "metadata": {},
     "output_type": "display_data"
    },
    {
     "data": {
      "image/png": "[encoded data removed]",
      "text/plain": [
       "<Figure size 640x480 with 1 Axes>"
      ]
     },
     "metadata": {},
     "output_type": "display_data"
    },
    {
     "data": {
      "image/png": "[encoded data removed]",
      "text/plain": [
       "<Figure size 640x480 with 1 Axes>"
      ]
     },
     "metadata": {},
     "output_type": "display_data"
    },
    {
     "data": {
      "image/png": "[encoded data removed]",
      "text/plain": [
       "<Figure size 640x480 with 1 Axes>"
      ]
     },
     "metadata": {},
     "output_type": "display_data"
    },
    {
     "data": {
      "image/png": "[encoded data removed]",
      "text/plain": [
       "<Figure size 640x480 with 1 Axes>"
      ]
     },
     "metadata": {},
     "output_type": "display_data"
    },
    {
     "data": {
      "image/png": "[encoded data removed]",
      "text/plain": [
       "<Figure size 640x480 with 1 Axes>"
      ]
     },
     "metadata": {},
     "output_type": "display_data"
    },
    {
     "data": {
      "image/png": "[encoded data removed]",
      "text/plain": [
       "<Figure size 640x480 with 1 Axes>"
      ]
     },
     "metadata": {},
     "output_type": "display_data"
    },
    {
     "data": {
      "image/png": "[encoded data removed]",
      "text/plain": [
       "<Figure size 640x480 with 1 Axes>"
      ]
     },
     "metadata": {},
     "output_type": "display_data"
    },
    {
     "data": {
      "image/png": "[encoded data removed]",
      "text/plain": [
       "<Figure size 640x480 with 1 Axes>"
      ]
     },
     "metadata": {},
     "output_type": "display_data"
    },
    {
     "data": {
      "image/png": "[encoded data removed]",
      "text/plain": [
       "<Figure size 640x480 with 1 Axes>"
      ]
     },
     "metadata": {},
     "output_type": "display_data"
    },
    {
     "data": {
      "image/png": "[encoded data removed]",
      "text/plain": [
       "<Figure size 640x480 with 1 Axes>"
      ]
     },
     "metadata": {},
     "output_type": "display_data"
    }
   ],
   "source": [
    "for num_col in num_col_list:\n",
    "    ax = sns.boxplot(data=df, x=target_col, y=num_col, showmeans=True)\n",
    "    ax.set_title(f'Column: {num_col}', weight='bold')\n",
    "    ax.set(ylabel=None)\n",
    "    ax.tick_params(left=False, bottom=False)\n",
    "    plt.show();"
   ]
  },
  {
   "cell_type": "markdown",
   "id": "2fdabecc-80d5-449c-8a53-da00b18b8f91",
   "metadata": {},
   "source": [
    "Check null value"
   ]
  },
  {
   "cell_type": "code",
   "execution_count": 15,
   "id": "ee65bd09-0f12-426e-b92e-8d550811d7be",
   "metadata": {
    "tags": []
   },
   "outputs": [
    {
     "data": {
      "text/plain": [
       "incident_severity          0\n",
       "num_vehicles_involved      0\n",
       "num_injuries               0\n",
       "num_witnesses              0\n",
       "police_report_available    0\n",
       "injury_claim               0\n",
       "vehicle_claim              0\n",
       "incident_hour              0\n",
       "customer_age               0\n",
       "policy_deductable          0\n",
       "policy_annual_premium      0\n",
       "num_claims_past_year       0\n",
       "EVENT_LABEL                0\n",
       "policy_id                  0\n",
       "incident_type              0\n",
       "age                        0\n",
       "dtype: int64"
      ]
     },
     "execution_count": 15,
     "metadata": {},
     "output_type": "execute_result"
    }
   ],
   "source": [
    "df.isnull().sum()"
   ]
  },
  {
   "cell_type": "markdown",
   "id": "2edd1845-af0e-433c-978f-485d49c8b00c",
   "metadata": {},
   "source": [
    "- Convert string to numeric for target variable\n",
    "- Create dummy variables for string or object column"
   ]
  },
  {
   "cell_type": "code",
   "execution_count": 16,
   "id": "83a702cd-172e-4687-b290-a06ecfcbd495",
   "metadata": {
    "tags": []
   },
   "outputs": [],
   "source": [
    "df['is_fraud'] = df[target_col].map({'fraud': 1, 'legit': 0})\n",
    "df.drop([target_col], axis=1, inplace=True)\n",
    "target_col = 'is_fraud' "
   ]
  },
  {
   "cell_type": "code",
   "execution_count": 17,
   "id": "db0a2e62-653b-4d66-a51a-db4459d853b2",
   "metadata": {
    "tags": []
   },
   "outputs": [],
   "source": [
    "_tmp = pd.get_dummies(df['incident_type'], drop_first=True, dtype='int')\n",
    "full_df = pd.concat([df.drop(['policy_id', 'incident_type'], axis=1), _tmp], axis=1)"
   ]
  },
  {
   "cell_type": "code",
   "execution_count": 18,
   "id": "64574848-5102-4030-87a5-19aeff3d8256",
   "metadata": {
    "tags": []
   },
   "outputs": [
    {
     "data": {
      "text/html": [
       "<div>\n",
       "<style scoped>\n",
       "    .dataframe tbody tr th:only-of-type {\n",
       "        vertical-align: middle;\n",
       "    }\n",
       "\n",
       "    .dataframe tbody tr th {\n",
       "        vertical-align: top;\n",
       "    }\n",
       "\n",
       "    .dataframe thead th {\n",
       "        text-align: right;\n",
       "    }\n",
       "</style>\n",
       "<table border=\"1\" class=\"dataframe\">\n",
       "  <thead>\n",
       "    <tr style=\"text-align: right;\">\n",
       "      <th></th>\n",
       "      <th>incident_severity</th>\n",
       "      <th>num_vehicles_involved</th>\n",
       "      <th>num_injuries</th>\n",
       "      <th>num_witnesses</th>\n",
       "      <th>police_report_available</th>\n",
       "      <th>injury_claim</th>\n",
       "      <th>vehicle_claim</th>\n",
       "      <th>incident_hour</th>\n",
       "      <th>customer_age</th>\n",
       "      <th>policy_deductable</th>\n",
       "      <th>policy_annual_premium</th>\n",
       "      <th>num_claims_past_year</th>\n",
       "      <th>age</th>\n",
       "      <th>is_fraud</th>\n",
       "      <th>collision</th>\n",
       "      <th>theft</th>\n",
       "    </tr>\n",
       "  </thead>\n",
       "  <tbody>\n",
       "    <tr>\n",
       "      <th>0</th>\n",
       "      <td>5.0</td>\n",
       "      <td>2.0</td>\n",
       "      <td>2.0</td>\n",
       "      <td>1.0</td>\n",
       "      <td>0.0</td>\n",
       "      <td>12986.0</td>\n",
       "      <td>4375.0</td>\n",
       "      <td>15.0</td>\n",
       "      <td>43.0</td>\n",
       "      <td>666.0</td>\n",
       "      <td>2995.0</td>\n",
       "      <td>5.0</td>\n",
       "      <td>95</td>\n",
       "      <td>0</td>\n",
       "      <td>1</td>\n",
       "      <td>0</td>\n",
       "    </tr>\n",
       "    <tr>\n",
       "      <th>1</th>\n",
       "      <td>4.0</td>\n",
       "      <td>3.0</td>\n",
       "      <td>5.0</td>\n",
       "      <td>2.0</td>\n",
       "      <td>0.0</td>\n",
       "      <td>6065.0</td>\n",
       "      <td>5941.0</td>\n",
       "      <td>10.0</td>\n",
       "      <td>45.0</td>\n",
       "      <td>649.0</td>\n",
       "      <td>1535.0</td>\n",
       "      <td>4.0</td>\n",
       "      <td>71</td>\n",
       "      <td>0</td>\n",
       "      <td>0</td>\n",
       "      <td>1</td>\n",
       "    </tr>\n",
       "    <tr>\n",
       "      <th>2</th>\n",
       "      <td>4.0</td>\n",
       "      <td>3.0</td>\n",
       "      <td>3.0</td>\n",
       "      <td>2.0</td>\n",
       "      <td>0.0</td>\n",
       "      <td>12017.0</td>\n",
       "      <td>4712.0</td>\n",
       "      <td>22.0</td>\n",
       "      <td>30.0</td>\n",
       "      <td>436.0</td>\n",
       "      <td>3043.0</td>\n",
       "      <td>5.0</td>\n",
       "      <td>38</td>\n",
       "      <td>0</td>\n",
       "      <td>1</td>\n",
       "      <td>0</td>\n",
       "    </tr>\n",
       "    <tr>\n",
       "      <th>3</th>\n",
       "      <td>5.0</td>\n",
       "      <td>2.0</td>\n",
       "      <td>3.0</td>\n",
       "      <td>2.0</td>\n",
       "      <td>0.0</td>\n",
       "      <td>10015.0</td>\n",
       "      <td>4120.0</td>\n",
       "      <td>13.0</td>\n",
       "      <td>41.0</td>\n",
       "      <td>640.0</td>\n",
       "      <td>3197.0</td>\n",
       "      <td>4.0</td>\n",
       "      <td>82</td>\n",
       "      <td>0</td>\n",
       "      <td>1</td>\n",
       "      <td>0</td>\n",
       "    </tr>\n",
       "    <tr>\n",
       "      <th>4</th>\n",
       "      <td>5.0</td>\n",
       "      <td>2.0</td>\n",
       "      <td>1.0</td>\n",
       "      <td>1.0</td>\n",
       "      <td>0.0</td>\n",
       "      <td>10962.0</td>\n",
       "      <td>3255.0</td>\n",
       "      <td>14.0</td>\n",
       "      <td>46.0</td>\n",
       "      <td>593.0</td>\n",
       "      <td>3738.0</td>\n",
       "      <td>3.0</td>\n",
       "      <td>4</td>\n",
       "      <td>0</td>\n",
       "      <td>1</td>\n",
       "      <td>0</td>\n",
       "    </tr>\n",
       "  </tbody>\n",
       "</table>\n",
       "</div>"
      ],
      "text/plain": [
       "   incident_severity  num_vehicles_involved  num_injuries  num_witnesses  \\\n",
       "0                5.0                    2.0           2.0            1.0   \n",
       "1                4.0                    3.0           5.0            2.0   \n",
       "2                4.0                    3.0           3.0            2.0   \n",
       "3                5.0                    2.0           3.0            2.0   \n",
       "4                5.0                    2.0           1.0            1.0   \n",
       "\n",
       "   police_report_available  injury_claim  vehicle_claim  incident_hour  \\\n",
       "0                      0.0       12986.0         4375.0           15.0   \n",
       "1                      0.0        6065.0         5941.0           10.0   \n",
       "2                      0.0       12017.0         4712.0           22.0   \n",
       "3                      0.0       10015.0         4120.0           13.0   \n",
       "4                      0.0       10962.0         3255.0           14.0   \n",
       "\n",
       "   customer_age  policy_deductable  policy_annual_premium  \\\n",
       "0          43.0              666.0                 2995.0   \n",
       "1          45.0              649.0                 1535.0   \n",
       "2          30.0              436.0                 3043.0   \n",
       "3          41.0              640.0                 3197.0   \n",
       "4          46.0              593.0                 3738.0   \n",
       "\n",
       "   num_claims_past_year  age  is_fraud  collision  theft  \n",
       "0                   5.0   95         0          1      0  \n",
       "1                   4.0   71         0          0      1  \n",
       "2                   5.0   38         0          1      0  \n",
       "3                   4.0   82         0          1      0  \n",
       "4                   3.0    4         0          1      0  "
      ]
     },
     "execution_count": 18,
     "metadata": {},
     "output_type": "execute_result"
    }
   ],
   "source": [
    "full_df.head()"
   ]
  },
  {
   "cell_type": "markdown",
   "id": "dff60c36-3ccb-4da0-af59-2e20f23df8ea",
   "metadata": {},
   "source": [
    "## Split Data set\n",
    "---\n",
    "\n",
    "In this step, I will split the full dataset onto train, validation, and test datasets."
   ]
  },
  {
   "cell_type": "code",
   "execution_count": 19,
   "id": "e5ff64d0-6171-4075-8a6c-07c97f984b0e",
   "metadata": {
    "tags": []
   },
   "outputs": [],
   "source": [
    "from sklearn.model_selection import StratifiedShuffleSplit"
   ]
  },
  {
   "cell_type": "code",
   "execution_count": 20,
   "id": "e431bfa4-8697-4aa0-8cdf-d9977947853c",
   "metadata": {
    "tags": []
   },
   "outputs": [
    {
     "name": "stdout",
     "output_type": "stream",
     "text": [
      "(64000, 16) (16000, 16) (20000, 16)\n"
     ]
    }
   ],
   "source": [
    "X_df = full_df.drop([target_col], axis=1)\n",
    "y_df = full_df[target_col]\n",
    "train_test_split = StratifiedShuffleSplit(n_splits=1, test_size=0.2, random_state=42)\n",
    "\n",
    "for train_idx, test_idx in train_test_split.split(X_df, y_df):\n",
    "    train_df = full_df.loc[train_idx]\n",
    "    test_df = full_df.loc[test_idx]\n",
    "\n",
    "    \n",
    "X_train_df = train_df.drop([target_col], axis=1)\n",
    "y_train_df = train_df[target_col]\n",
    "train_val_split = StratifiedShuffleSplit(n_splits=1, test_size=0.2, random_state=42)\n",
    "\n",
    "for train_idx, val_idx in train_val_split.split(X_train_df, y_train_df):\n",
    "    train_df = full_df.loc[train_idx]\n",
    "    val_df = full_df.loc[val_idx]\n",
    "    \n",
    "print(train_df.shape, val_df.shape, test_df.shape)"
   ]
  },
  {
   "cell_type": "markdown",
   "id": "97db6c59-63d2-4092-a034-22fc50c58694",
   "metadata": {},
   "source": [
    "Note: we can apply more statistical method and feature engineering. However, this is to demonstrate the capability and not focusing on model performance."
   ]
  },
  {
   "cell_type": "markdown",
   "id": "b38c048a-efcf-4fdd-ae19-39a590be8757",
   "metadata": {},
   "source": [
    "## Model building\n",
    "---\n",
    "\n",
    "For demonstration, several algorithms within **sklearn** library are used as well as popular algorithm, **xgboost**."
   ]
  },
  {
   "cell_type": "code",
   "execution_count": 21,
   "id": "52723abf-63fb-4380-9651-fd4967d602f0",
   "metadata": {
    "tags": []
   },
   "outputs": [],
   "source": [
    "from sklearn.linear_model import LogisticRegression, SGDClassifier\n",
    "from sklearn.ensemble import RandomForestClassifier\n",
    "from sklearn.svm import SVC\n",
    "from sklearn.naive_bayes import GaussianNB\n",
    "import xgboost\n",
    "\n",
    "# Metrics\n",
    "from sklearn.metrics import f1_score, recall_score, precision_score, confusion_matrix, classification_report\n",
    "from sklearn.metrics import precision_recall_curve, roc_curve, roc_auc_score"
   ]
  },
  {
   "cell_type": "code",
   "execution_count": 22,
   "id": "d09eb6f7-b570-4b42-b68b-fb404302c8e4",
   "metadata": {
    "tags": []
   },
   "outputs": [],
   "source": [
    "from typing import Tuple\n",
    "\n",
    "def split_x_y(df: pd.DataFrame, target_col: str=target_col) -> Tuple[pd.DataFrame, pd.DataFrame]:\n",
    "    X = df.drop([target_col], axis=1)\n",
    "    y = df.loc[:, target_col]\n",
    "    return X, y\n",
    "\n",
    "\n",
    "X_train, y_train = split_x_y(train_df)\n",
    "X_val, y_val = split_x_y(val_df)\n",
    "X_test, y_test = split_x_y(test_df)\n"
   ]
  },
  {
   "cell_type": "markdown",
   "id": "2fe1d36e-03b9-48d0-b754-a51f92e17f6b",
   "metadata": {},
   "source": [
    "### Logistic Regression"
   ]
  },
  {
   "cell_type": "code",
   "execution_count": 23,
   "id": "54b0cad7-4abe-400f-a4f3-0ae4ae8e67bd",
   "metadata": {
    "tags": []
   },
   "outputs": [
    {
     "name": "stdout",
     "output_type": "stream",
     "text": [
      "RUNNING THE L-BFGS-B CODE\n",
      "\n",
      "           * * *\n",
      "\n",
      "Machine precision = 2.220D-16\n",
      " N =           16     M =           10\n",
      "\n",
      "At X0         0 variables are exactly at the bounds\n",
      "\n",
      "At iterate    0    f=  4.43614D+04    |proj g|=  2.69868D+08\n"
     ]
    },
    {
     "name": "stderr",
     "output_type": "stream",
     "text": [
      " This problem is unconstrained.\n"
     ]
    },
    {
     "name": "stdout",
     "output_type": "stream",
     "text": [
      "\n",
      "At iterate   50    f=  8.80573D+03    |proj g|=  9.72456D+03\n",
      "\n",
      "At iterate  100    f=  7.49405D+03    |proj g|=  2.75896D+05\n",
      "\n",
      "           * * *\n",
      "\n",
      "Tit   = total number of iterations\n",
      "Tnf   = total number of function evaluations\n",
      "Tnint = total number of segments explored during Cauchy searches\n",
      "Skip  = number of BFGS updates skipped\n",
      "Nact  = number of active bounds at final generalized Cauchy point\n",
      "Projg = norm of the final projected gradient\n",
      "F     = final function value\n",
      "\n",
      "           * * *\n",
      "\n",
      "   N    Tit     Tnf  Tnint  Skip  Nact     Projg        F\n",
      "   16    100    118      1     0     0   2.759D+05   7.494D+03\n",
      "  F =   7494.0484108700384     \n",
      "\n",
      "STOP: TOTAL NO. of ITERATIONS REACHED LIMIT                 \n"
     ]
    },
    {
     "name": "stderr",
     "output_type": "stream",
     "text": [
      "/opt/conda/lib/python3.10/site-packages/sklearn/linear_model/_logistic.py:814: ConvergenceWarning: lbfgs failed to converge (status=1):\n",
      "STOP: TOTAL NO. of ITERATIONS REACHED LIMIT.\n",
      "\n",
      "Increase the number of iterations (max_iter) or scale the data as shown in:\n",
      "    https://scikit-learn.org/stable/modules/preprocessing.html\n",
      "Please also refer to the documentation for alternative solver options:\n",
      "    https://scikit-learn.org/stable/modules/linear_model.html#logistic-regression\n",
      "  n_iter_i = _check_optimize_result(\n"
     ]
    },
    {
     "data": {
      "text/plain": [
       "LogisticRegression(random_state=42, verbose=1)"
      ]
     },
     "execution_count": 23,
     "metadata": {},
     "output_type": "execute_result"
    }
   ],
   "source": [
    "log_reg = LogisticRegression(random_state=42, verbose=1)\n",
    "log_reg.fit(X_train, y_train)"
   ]
  },
  {
   "cell_type": "code",
   "execution_count": 24,
   "id": "8c641391-1bfb-40d7-802d-d843836c5384",
   "metadata": {
    "tags": []
   },
   "outputs": [
    {
     "name": "stdout",
     "output_type": "stream",
     "text": [
      "[0 0 0 0 0] [[9.93000948e-01 6.99905157e-03]\n",
      " [9.92285528e-01 7.71447171e-03]\n",
      " [9.99340576e-01 6.59423524e-04]\n",
      " [8.77820763e-01 1.22179237e-01]\n",
      " [9.97870879e-01 2.12912071e-03]]\n"
     ]
    }
   ],
   "source": [
    "y_pred_val = log_reg.predict(X_val)\n",
    "y_prob_val = log_reg.predict_proba(X_val)\n",
    "\n",
    "print(\n",
    "    y_pred_val[:5],\n",
    "    y_prob_val[:5]\n",
    ")"
   ]
  },
  {
   "cell_type": "code",
   "execution_count": 25,
   "id": "b6344ff9-e9ea-449a-b062-fe73d8cb2f84",
   "metadata": {
    "tags": []
   },
   "outputs": [],
   "source": [
    "model_eval = {\n",
    "    'model': [],\n",
    "    'roc_auc_score': [],\n",
    "    'precision': [],\n",
    "    'recall': [],\n",
    "    'f1_score': []\n",
    "}\n",
    "\n",
    "def add_model_eval(model, roc_auc_score, precision, recall, f1_score):\n",
    "    model_eval['model'].append(model)\n",
    "    model_eval['roc_auc_score'].append(f'{roc_auc_score: .4f}')\n",
    "    model_eval['precision'].append(f'{precision: .4f}')\n",
    "    model_eval['recall'].append(f'{recall: .4f}')\n",
    "    model_eval['f1_score'].append(f'{f1_score: .4f}')\n",
    "    return model_eval\n",
    "    \n",
    "def view_models_eval(model_eval: dict=model_eval, sort:bool =False):\n",
    "    eval_df = pd.DataFrame(model_eval)\n",
    "    \n",
    "    if sort:\n",
    "        eval_df = eval_df.sort_values(by=['recall', 'f1_score'], ascending=[False, False])\n",
    "    \n",
    "    display(eval_df)\n",
    "    return eval_df"
   ]
  },
  {
   "cell_type": "code",
   "execution_count": 26,
   "id": "4ee9a927-133d-413c-b279-9f37ed2fc543",
   "metadata": {
    "tags": []
   },
   "outputs": [
    {
     "data": {
      "text/html": [
       "<div>\n",
       "<style scoped>\n",
       "    .dataframe tbody tr th:only-of-type {\n",
       "        vertical-align: middle;\n",
       "    }\n",
       "\n",
       "    .dataframe tbody tr th {\n",
       "        vertical-align: top;\n",
       "    }\n",
       "\n",
       "    .dataframe thead th {\n",
       "        text-align: right;\n",
       "    }\n",
       "</style>\n",
       "<table border=\"1\" class=\"dataframe\">\n",
       "  <thead>\n",
       "    <tr style=\"text-align: right;\">\n",
       "      <th></th>\n",
       "      <th>model</th>\n",
       "      <th>roc_auc_score</th>\n",
       "      <th>precision</th>\n",
       "      <th>recall</th>\n",
       "      <th>f1_score</th>\n",
       "    </tr>\n",
       "  </thead>\n",
       "  <tbody>\n",
       "    <tr>\n",
       "      <th>0</th>\n",
       "      <td>Logistic regression</td>\n",
       "      <td>0.6764</td>\n",
       "      <td>0.7313</td>\n",
       "      <td>0.3599</td>\n",
       "      <td>0.4824</td>\n",
       "    </tr>\n",
       "  </tbody>\n",
       "</table>\n",
       "</div>"
      ],
      "text/plain": [
       "                 model roc_auc_score precision   recall f1_score\n",
       "0  Logistic regression        0.6764    0.7313   0.3599   0.4824"
      ]
     },
     "metadata": {},
     "output_type": "display_data"
    }
   ],
   "source": [
    "add_model_eval(\n",
    "    'Logistic regression', \n",
    "    roc_auc_score(y_val, y_pred_val),\n",
    "    precision_score(y_val, y_pred_val),\n",
    "    recall_score(y_val, y_pred_val), \n",
    "    f1_score(y_val, y_pred_val)\n",
    ")\n",
    "eval_df = view_models_eval(model_eval)"
   ]
  },
  {
   "cell_type": "code",
   "execution_count": 27,
   "id": "74cea2d3-18b9-424e-8373-9fe2871a1340",
   "metadata": {
    "tags": []
   },
   "outputs": [
    {
     "data": {
      "image/png": "[encoded data removed]",
      "text/plain": [
       "<Figure size 640x480 with 1 Axes>"
      ]
     },
     "metadata": {},
     "output_type": "display_data"
    }
   ],
   "source": [
    "from sklearn.metrics import PrecisionRecallDisplay, precision_recall_curve\n",
    "\n",
    "prec, recall, _ = precision_recall_curve(\n",
    "    y_val, \n",
    "    log_reg.decision_function(X_val), \n",
    "    pos_label=log_reg.classes_[1]\n",
    ")\n",
    "pr_display = PrecisionRecallDisplay(precision=prec, recall=recall).plot()"
   ]
  },
  {
   "cell_type": "markdown",
   "id": "dbda1f70-4e99-46bf-9336-7c273fc9673c",
   "metadata": {},
   "source": [
    "### Stochastic Gradient Descent (SGD) Classifier"
   ]
  },
  {
   "cell_type": "code",
   "execution_count": 28,
   "id": "fb1a6a52-4b4a-418d-99b0-12a5666762d3",
   "metadata": {
    "tags": []
   },
   "outputs": [
    {
     "data": {
      "text/plain": [
       "SGDClassifier(random_state=42)"
      ]
     },
     "execution_count": 28,
     "metadata": {},
     "output_type": "execute_result"
    }
   ],
   "source": [
    "sgd_clf = SGDClassifier(random_state=42, verbose=0)\n",
    "sgd_clf.fit(X_train, y_train)"
   ]
  },
  {
   "cell_type": "code",
   "execution_count": 29,
   "id": "e0d72e63-3a03-4442-87d1-9f486d00d589",
   "metadata": {
    "tags": []
   },
   "outputs": [
    {
     "name": "stdout",
     "output_type": "stream",
     "text": [
      "[0 0 0 0 0]\n"
     ]
    }
   ],
   "source": [
    "y_pred_val = sgd_clf.predict(X_val)\n",
    "\n",
    "print(\n",
    "    y_pred_val[:5]\n",
    ")"
   ]
  },
  {
   "cell_type": "code",
   "execution_count": 30,
   "id": "b59bb22f-cbee-46f5-b1d7-c2ca7630a311",
   "metadata": {
    "tags": []
   },
   "outputs": [
    {
     "data": {
      "text/html": [
       "<div>\n",
       "<style scoped>\n",
       "    .dataframe tbody tr th:only-of-type {\n",
       "        vertical-align: middle;\n",
       "    }\n",
       "\n",
       "    .dataframe tbody tr th {\n",
       "        vertical-align: top;\n",
       "    }\n",
       "\n",
       "    .dataframe thead th {\n",
       "        text-align: right;\n",
       "    }\n",
       "</style>\n",
       "<table border=\"1\" class=\"dataframe\">\n",
       "  <thead>\n",
       "    <tr style=\"text-align: right;\">\n",
       "      <th></th>\n",
       "      <th>model</th>\n",
       "      <th>roc_auc_score</th>\n",
       "      <th>precision</th>\n",
       "      <th>recall</th>\n",
       "      <th>f1_score</th>\n",
       "    </tr>\n",
       "  </thead>\n",
       "  <tbody>\n",
       "    <tr>\n",
       "      <th>0</th>\n",
       "      <td>Logistic regression</td>\n",
       "      <td>0.6764</td>\n",
       "      <td>0.7313</td>\n",
       "      <td>0.3599</td>\n",
       "      <td>0.4824</td>\n",
       "    </tr>\n",
       "    <tr>\n",
       "      <th>1</th>\n",
       "      <td>SGD Classifier</td>\n",
       "      <td>0.5207</td>\n",
       "      <td>0.6034</td>\n",
       "      <td>0.0428</td>\n",
       "      <td>0.0800</td>\n",
       "    </tr>\n",
       "  </tbody>\n",
       "</table>\n",
       "</div>"
      ],
      "text/plain": [
       "                 model roc_auc_score precision   recall f1_score\n",
       "0  Logistic regression        0.6764    0.7313   0.3599   0.4824\n",
       "1       SGD Classifier        0.5207    0.6034   0.0428   0.0800"
      ]
     },
     "metadata": {},
     "output_type": "display_data"
    }
   ],
   "source": [
    "add_model_eval(\n",
    "    'SGD Classifier', \n",
    "    roc_auc_score(y_val, y_pred_val),\n",
    "    precision_score(y_val, y_pred_val),\n",
    "    recall_score(y_val, y_pred_val), \n",
    "    f1_score(y_val, y_pred_val)\n",
    ")\n",
    "\n",
    "eval_df = view_models_eval()"
   ]
  },
  {
   "cell_type": "code",
   "execution_count": 31,
   "id": "65d334af-54e4-4ca8-a9f4-d91f3fe79281",
   "metadata": {
    "tags": []
   },
   "outputs": [
    {
     "data": {
      "image/png": "[encoded data removed]",
      "text/plain": [
       "<Figure size 640x480 with 1 Axes>"
      ]
     },
     "metadata": {},
     "output_type": "display_data"
    }
   ],
   "source": [
    "from sklearn.metrics import PrecisionRecallDisplay, precision_recall_curve\n",
    "\n",
    "prec, recall, _ = precision_recall_curve(\n",
    "    y_val, \n",
    "    sgd_clf.decision_function(X_val), \n",
    "    pos_label=sgd_clf.classes_[1]\n",
    ")\n",
    "pr_display = PrecisionRecallDisplay(precision=prec, recall=recall).plot()"
   ]
  },
  {
   "cell_type": "markdown",
   "id": "04cb656d-d0ca-4726-bb73-f6060882b8b3",
   "metadata": {},
   "source": [
    "### Random Forest Classifier"
   ]
  },
  {
   "cell_type": "code",
   "execution_count": 32,
   "id": "6ebf425f-aa8c-47b8-a322-c0978dc995e7",
   "metadata": {
    "tags": []
   },
   "outputs": [
    {
     "data": {
      "text/plain": [
       "RandomForestClassifier(n_jobs=-1, random_state=42)"
      ]
     },
     "execution_count": 32,
     "metadata": {},
     "output_type": "execute_result"
    }
   ],
   "source": [
    "forest_clf = RandomForestClassifier(random_state=42, verbose=0, n_jobs=-1)\n",
    "forest_clf.fit(X_train, y_train)"
   ]
  },
  {
   "cell_type": "code",
   "execution_count": 33,
   "id": "dcf19438-819c-4577-8772-f93b9c9508bf",
   "metadata": {
    "tags": []
   },
   "outputs": [
    {
     "name": "stdout",
     "output_type": "stream",
     "text": [
      "[0 0 0 0 0] [[1.   0.  ]\n",
      " [0.97 0.03]\n",
      " [0.98 0.02]\n",
      " [0.99 0.01]\n",
      " [1.   0.  ]]\n"
     ]
    }
   ],
   "source": [
    "y_pred_val = forest_clf.predict(X_val)\n",
    "y_prob_val = forest_clf.predict_proba(X_val)\n",
    "\n",
    "print(\n",
    "    y_pred_val[:5],\n",
    "    y_prob_val[:5]\n",
    ")"
   ]
  },
  {
   "cell_type": "code",
   "execution_count": 34,
   "id": "81155b72-0a4f-4fff-bcf7-1e8b8b85d783",
   "metadata": {
    "tags": []
   },
   "outputs": [
    {
     "data": {
      "text/html": [
       "<div>\n",
       "<style scoped>\n",
       "    .dataframe tbody tr th:only-of-type {\n",
       "        vertical-align: middle;\n",
       "    }\n",
       "\n",
       "    .dataframe tbody tr th {\n",
       "        vertical-align: top;\n",
       "    }\n",
       "\n",
       "    .dataframe thead th {\n",
       "        text-align: right;\n",
       "    }\n",
       "</style>\n",
       "<table border=\"1\" class=\"dataframe\">\n",
       "  <thead>\n",
       "    <tr style=\"text-align: right;\">\n",
       "      <th></th>\n",
       "      <th>model</th>\n",
       "      <th>roc_auc_score</th>\n",
       "      <th>precision</th>\n",
       "      <th>recall</th>\n",
       "      <th>f1_score</th>\n",
       "    </tr>\n",
       "  </thead>\n",
       "  <tbody>\n",
       "    <tr>\n",
       "      <th>0</th>\n",
       "      <td>Logistic regression</td>\n",
       "      <td>0.6764</td>\n",
       "      <td>0.7313</td>\n",
       "      <td>0.3599</td>\n",
       "      <td>0.4824</td>\n",
       "    </tr>\n",
       "    <tr>\n",
       "      <th>1</th>\n",
       "      <td>SGD Classifier</td>\n",
       "      <td>0.5207</td>\n",
       "      <td>0.6034</td>\n",
       "      <td>0.0428</td>\n",
       "      <td>0.0800</td>\n",
       "    </tr>\n",
       "    <tr>\n",
       "      <th>2</th>\n",
       "      <td>Random Forest</td>\n",
       "      <td>0.8991</td>\n",
       "      <td>0.9761</td>\n",
       "      <td>0.7993</td>\n",
       "      <td>0.8789</td>\n",
       "    </tr>\n",
       "  </tbody>\n",
       "</table>\n",
       "</div>"
      ],
      "text/plain": [
       "                 model roc_auc_score precision   recall f1_score\n",
       "0  Logistic regression        0.6764    0.7313   0.3599   0.4824\n",
       "1       SGD Classifier        0.5207    0.6034   0.0428   0.0800\n",
       "2        Random Forest        0.8991    0.9761   0.7993   0.8789"
      ]
     },
     "metadata": {},
     "output_type": "display_data"
    }
   ],
   "source": [
    "add_model_eval(\n",
    "    'Random Forest', \n",
    "    roc_auc_score(y_val, y_pred_val),\n",
    "    precision_score(y_val, y_pred_val),\n",
    "    recall_score(y_val, y_pred_val), \n",
    "    f1_score(y_val, y_pred_val)\n",
    ")\n",
    "\n",
    "eval_df = view_models_eval()"
   ]
  },
  {
   "cell_type": "markdown",
   "id": "255dfd32-98a1-4b37-ba44-1086a8c4dec6",
   "metadata": {},
   "source": [
    "### Support Vector Machine Classifier"
   ]
  },
  {
   "cell_type": "code",
   "execution_count": 35,
   "id": "9c19b5ef-f322-4f9a-b543-fc2609fbaee4",
   "metadata": {
    "tags": []
   },
   "outputs": [
    {
     "data": {
      "text/plain": [
       "SVC(random_state=42, verbose=0)"
      ]
     },
     "execution_count": 35,
     "metadata": {},
     "output_type": "execute_result"
    }
   ],
   "source": [
    "svm_clf = SVC(random_state=42, verbose=0)\n",
    "svm_clf.fit(X_train, y_train)"
   ]
  },
  {
   "cell_type": "code",
   "execution_count": 36,
   "id": "f36c4386-626f-4a8a-919e-1f73073d0b8f",
   "metadata": {
    "tags": []
   },
   "outputs": [
    {
     "name": "stdout",
     "output_type": "stream",
     "text": [
      "[0 0 0 0 0]\n"
     ]
    }
   ],
   "source": [
    "y_pred_val = svm_clf.predict(X_val)\n",
    "\n",
    "print(\n",
    "    y_pred_val[:5]\n",
    ")"
   ]
  },
  {
   "cell_type": "code",
   "execution_count": 37,
   "id": "a5fcd51d-98a9-4055-9735-c266be3f0e23",
   "metadata": {
    "tags": []
   },
   "outputs": [
    {
     "name": "stderr",
     "output_type": "stream",
     "text": [
      "/opt/conda/lib/python3.10/site-packages/sklearn/metrics/_classification.py:1308: UndefinedMetricWarning: Precision is ill-defined and being set to 0.0 due to no predicted samples. Use `zero_division` parameter to control this behavior.\n",
      "  _warn_prf(average, modifier, msg_start, len(result))\n"
     ]
    },
    {
     "data": {
      "text/html": [
       "<div>\n",
       "<style scoped>\n",
       "    .dataframe tbody tr th:only-of-type {\n",
       "        vertical-align: middle;\n",
       "    }\n",
       "\n",
       "    .dataframe tbody tr th {\n",
       "        vertical-align: top;\n",
       "    }\n",
       "\n",
       "    .dataframe thead th {\n",
       "        text-align: right;\n",
       "    }\n",
       "</style>\n",
       "<table border=\"1\" class=\"dataframe\">\n",
       "  <thead>\n",
       "    <tr style=\"text-align: right;\">\n",
       "      <th></th>\n",
       "      <th>model</th>\n",
       "      <th>roc_auc_score</th>\n",
       "      <th>precision</th>\n",
       "      <th>recall</th>\n",
       "      <th>f1_score</th>\n",
       "    </tr>\n",
       "  </thead>\n",
       "  <tbody>\n",
       "    <tr>\n",
       "      <th>0</th>\n",
       "      <td>Logistic regression</td>\n",
       "      <td>0.6764</td>\n",
       "      <td>0.7313</td>\n",
       "      <td>0.3599</td>\n",
       "      <td>0.4824</td>\n",
       "    </tr>\n",
       "    <tr>\n",
       "      <th>1</th>\n",
       "      <td>SGD Classifier</td>\n",
       "      <td>0.5207</td>\n",
       "      <td>0.6034</td>\n",
       "      <td>0.0428</td>\n",
       "      <td>0.0800</td>\n",
       "    </tr>\n",
       "    <tr>\n",
       "      <th>2</th>\n",
       "      <td>Random Forest</td>\n",
       "      <td>0.8991</td>\n",
       "      <td>0.9761</td>\n",
       "      <td>0.7993</td>\n",
       "      <td>0.8789</td>\n",
       "    </tr>\n",
       "    <tr>\n",
       "      <th>3</th>\n",
       "      <td>SVC</td>\n",
       "      <td>0.5000</td>\n",
       "      <td>0.0000</td>\n",
       "      <td>0.0000</td>\n",
       "      <td>0.0000</td>\n",
       "    </tr>\n",
       "  </tbody>\n",
       "</table>\n",
       "</div>"
      ],
      "text/plain": [
       "                 model roc_auc_score precision   recall f1_score\n",
       "0  Logistic regression        0.6764    0.7313   0.3599   0.4824\n",
       "1       SGD Classifier        0.5207    0.6034   0.0428   0.0800\n",
       "2        Random Forest        0.8991    0.9761   0.7993   0.8789\n",
       "3                  SVC        0.5000    0.0000   0.0000   0.0000"
      ]
     },
     "metadata": {},
     "output_type": "display_data"
    }
   ],
   "source": [
    "add_model_eval(\n",
    "    'SVC', \n",
    "    roc_auc_score(y_val, y_pred_val),\n",
    "    precision_score(y_val, y_pred_val),\n",
    "    recall_score(y_val, y_pred_val), \n",
    "    f1_score(y_val, y_pred_val)\n",
    ")\n",
    "\n",
    "eval_df = view_models_eval()"
   ]
  },
  {
   "cell_type": "markdown",
   "id": "d9d3f0ed-aa44-4219-b571-dff4f195f91d",
   "metadata": {},
   "source": [
    "### Naive Bayes"
   ]
  },
  {
   "cell_type": "code",
   "execution_count": 38,
   "id": "b21496f8-beb7-45dd-871f-6dbd4a94ed9c",
   "metadata": {
    "tags": []
   },
   "outputs": [
    {
     "data": {
      "text/plain": [
       "GaussianNB()"
      ]
     },
     "execution_count": 38,
     "metadata": {},
     "output_type": "execute_result"
    }
   ],
   "source": [
    "nb_clf = GaussianNB()\n",
    "nb_clf.fit(X_train, y_train)"
   ]
  },
  {
   "cell_type": "code",
   "execution_count": 39,
   "id": "82f31af7-f528-49de-a1bd-48a5f518ef6b",
   "metadata": {
    "tags": []
   },
   "outputs": [
    {
     "name": "stdout",
     "output_type": "stream",
     "text": [
      "[0 0 0 0 0] [[9.52110323e-01 4.78896771e-02]\n",
      " [9.94205199e-01 5.79480064e-03]\n",
      " [9.99679602e-01 3.20398361e-04]\n",
      " [9.96127844e-01 3.87215616e-03]\n",
      " [9.99760047e-01 2.39952823e-04]]\n"
     ]
    }
   ],
   "source": [
    "y_pred_val = nb_clf.predict(X_val)\n",
    "y_prob_val = nb_clf.predict_proba(X_val)\n",
    "\n",
    "print(\n",
    "    y_pred_val[:5],\n",
    "    y_prob_val[:5]\n",
    ")"
   ]
  },
  {
   "cell_type": "code",
   "execution_count": 40,
   "id": "51fb4c49-f571-40d7-994f-82631ffcd647",
   "metadata": {
    "tags": []
   },
   "outputs": [
    {
     "data": {
      "text/html": [
       "<div>\n",
       "<style scoped>\n",
       "    .dataframe tbody tr th:only-of-type {\n",
       "        vertical-align: middle;\n",
       "    }\n",
       "\n",
       "    .dataframe tbody tr th {\n",
       "        vertical-align: top;\n",
       "    }\n",
       "\n",
       "    .dataframe thead th {\n",
       "        text-align: right;\n",
       "    }\n",
       "</style>\n",
       "<table border=\"1\" class=\"dataframe\">\n",
       "  <thead>\n",
       "    <tr style=\"text-align: right;\">\n",
       "      <th></th>\n",
       "      <th>model</th>\n",
       "      <th>roc_auc_score</th>\n",
       "      <th>precision</th>\n",
       "      <th>recall</th>\n",
       "      <th>f1_score</th>\n",
       "    </tr>\n",
       "  </thead>\n",
       "  <tbody>\n",
       "    <tr>\n",
       "      <th>0</th>\n",
       "      <td>Logistic regression</td>\n",
       "      <td>0.6764</td>\n",
       "      <td>0.7313</td>\n",
       "      <td>0.3599</td>\n",
       "      <td>0.4824</td>\n",
       "    </tr>\n",
       "    <tr>\n",
       "      <th>1</th>\n",
       "      <td>SGD Classifier</td>\n",
       "      <td>0.5207</td>\n",
       "      <td>0.6034</td>\n",
       "      <td>0.0428</td>\n",
       "      <td>0.0800</td>\n",
       "    </tr>\n",
       "    <tr>\n",
       "      <th>2</th>\n",
       "      <td>Random Forest</td>\n",
       "      <td>0.8991</td>\n",
       "      <td>0.9761</td>\n",
       "      <td>0.7993</td>\n",
       "      <td>0.8789</td>\n",
       "    </tr>\n",
       "    <tr>\n",
       "      <th>3</th>\n",
       "      <td>SVC</td>\n",
       "      <td>0.5000</td>\n",
       "      <td>0.0000</td>\n",
       "      <td>0.0000</td>\n",
       "      <td>0.0000</td>\n",
       "    </tr>\n",
       "    <tr>\n",
       "      <th>4</th>\n",
       "      <td>Naive Bayes</td>\n",
       "      <td>0.7391</td>\n",
       "      <td>0.7439</td>\n",
       "      <td>0.4871</td>\n",
       "      <td>0.5888</td>\n",
       "    </tr>\n",
       "  </tbody>\n",
       "</table>\n",
       "</div>"
      ],
      "text/plain": [
       "                 model roc_auc_score precision   recall f1_score\n",
       "0  Logistic regression        0.6764    0.7313   0.3599   0.4824\n",
       "1       SGD Classifier        0.5207    0.6034   0.0428   0.0800\n",
       "2        Random Forest        0.8991    0.9761   0.7993   0.8789\n",
       "3                  SVC        0.5000    0.0000   0.0000   0.0000\n",
       "4          Naive Bayes        0.7391    0.7439   0.4871   0.5888"
      ]
     },
     "metadata": {},
     "output_type": "display_data"
    }
   ],
   "source": [
    "add_model_eval(\n",
    "    'Naive Bayes', \n",
    "    roc_auc_score(y_val, y_pred_val),\n",
    "    precision_score(y_val, y_pred_val),\n",
    "    recall_score(y_val, y_pred_val), \n",
    "    f1_score(y_val, y_pred_val)\n",
    ")\n",
    "\n",
    "eval_df = view_models_eval()"
   ]
  },
  {
   "cell_type": "code",
   "execution_count": 41,
   "id": "c61ff7ee-8836-45d2-84b4-7eb38ebba156",
   "metadata": {
    "tags": []
   },
   "outputs": [
    {
     "data": {
      "text/html": [
       "<div>\n",
       "<style scoped>\n",
       "    .dataframe tbody tr th:only-of-type {\n",
       "        vertical-align: middle;\n",
       "    }\n",
       "\n",
       "    .dataframe tbody tr th {\n",
       "        vertical-align: top;\n",
       "    }\n",
       "\n",
       "    .dataframe thead th {\n",
       "        text-align: right;\n",
       "    }\n",
       "</style>\n",
       "<table border=\"1\" class=\"dataframe\">\n",
       "  <thead>\n",
       "    <tr style=\"text-align: right;\">\n",
       "      <th></th>\n",
       "      <th>model</th>\n",
       "      <th>roc_auc_score</th>\n",
       "      <th>precision</th>\n",
       "      <th>recall</th>\n",
       "      <th>f1_score</th>\n",
       "    </tr>\n",
       "  </thead>\n",
       "  <tbody>\n",
       "    <tr>\n",
       "      <th>2</th>\n",
       "      <td>Random Forest</td>\n",
       "      <td>0.8991</td>\n",
       "      <td>0.9761</td>\n",
       "      <td>0.7993</td>\n",
       "      <td>0.8789</td>\n",
       "    </tr>\n",
       "    <tr>\n",
       "      <th>4</th>\n",
       "      <td>Naive Bayes</td>\n",
       "      <td>0.7391</td>\n",
       "      <td>0.7439</td>\n",
       "      <td>0.4871</td>\n",
       "      <td>0.5888</td>\n",
       "    </tr>\n",
       "    <tr>\n",
       "      <th>0</th>\n",
       "      <td>Logistic regression</td>\n",
       "      <td>0.6764</td>\n",
       "      <td>0.7313</td>\n",
       "      <td>0.3599</td>\n",
       "      <td>0.4824</td>\n",
       "    </tr>\n",
       "    <tr>\n",
       "      <th>1</th>\n",
       "      <td>SGD Classifier</td>\n",
       "      <td>0.5207</td>\n",
       "      <td>0.6034</td>\n",
       "      <td>0.0428</td>\n",
       "      <td>0.0800</td>\n",
       "    </tr>\n",
       "    <tr>\n",
       "      <th>3</th>\n",
       "      <td>SVC</td>\n",
       "      <td>0.5000</td>\n",
       "      <td>0.0000</td>\n",
       "      <td>0.0000</td>\n",
       "      <td>0.0000</td>\n",
       "    </tr>\n",
       "  </tbody>\n",
       "</table>\n",
       "</div>"
      ],
      "text/plain": [
       "                 model roc_auc_score precision   recall f1_score\n",
       "2        Random Forest        0.8991    0.9761   0.7993   0.8789\n",
       "4          Naive Bayes        0.7391    0.7439   0.4871   0.5888\n",
       "0  Logistic regression        0.6764    0.7313   0.3599   0.4824\n",
       "1       SGD Classifier        0.5207    0.6034   0.0428   0.0800\n",
       "3                  SVC        0.5000    0.0000   0.0000   0.0000"
      ]
     },
     "execution_count": 41,
     "metadata": {},
     "output_type": "execute_result"
    }
   ],
   "source": [
    "eval_df.sort_values(by=['roc_auc_score'], ascending=False)"
   ]
  },
  {
   "cell_type": "markdown",
   "id": "7a433553-254d-4557-b386-ba85ef20507b",
   "metadata": {},
   "source": [
    "### XGBoost"
   ]
  },
  {
   "cell_type": "code",
   "execution_count": 42,
   "id": "44b6d0ed-f105-43c8-b997-a51ee72509ce",
   "metadata": {
    "tags": []
   },
   "outputs": [
    {
     "data": {
      "text/plain": [
       "XGBClassifier(base_score=None, booster=None, callbacks=None,\n",
       "              colsample_bylevel=None, colsample_bynode=None,\n",
       "              colsample_bytree=None, device=None, early_stopping_rounds=None,\n",
       "              enable_categorical=False, eval_metric=None, feature_types=None,\n",
       "              gamma=None, grow_policy=None, importance_type=None,\n",
       "              interaction_constraints=None, learning_rate=None, max_bin=None,\n",
       "              max_cat_threshold=None, max_cat_to_onehot=None,\n",
       "              max_delta_step=None, max_depth=None, max_leaves=None,\n",
       "              min_child_weight=None, missing=nan, monotone_constraints=None,\n",
       "              multi_strategy=None, n_estimators=None, n_jobs=None,\n",
       "              num_parallel_tree=None, random_state=42, ...)"
      ]
     },
     "execution_count": 42,
     "metadata": {},
     "output_type": "execute_result"
    }
   ],
   "source": [
    "xgb_clf = xgboost.XGBClassifier(random_state=42, verbosity=0)\n",
    "xgb_clf.fit(X_train, y_train)"
   ]
  },
  {
   "cell_type": "code",
   "execution_count": 43,
   "id": "c65f0d3d-0a69-4d21-8bf4-86e603b504eb",
   "metadata": {
    "tags": []
   },
   "outputs": [
    {
     "name": "stdout",
     "output_type": "stream",
     "text": [
      "[0 0 0 0 0] [[9.9992901e-01 7.0971539e-05]\n",
      " [9.9982566e-01 1.7435786e-04]\n",
      " [9.9995506e-01 4.4953966e-05]\n",
      " [9.9957716e-01 4.2281710e-04]\n",
      " [9.9989152e-01 1.0847044e-04]]\n"
     ]
    }
   ],
   "source": [
    "y_pred_val = xgb_clf.predict(X_val)\n",
    "y_prob_val = xgb_clf.predict_proba(X_val)\n",
    "\n",
    "print(\n",
    "    y_pred_val[:5],\n",
    "    y_prob_val[:5]\n",
    ")"
   ]
  },
  {
   "cell_type": "code",
   "execution_count": 44,
   "id": "2c191fb0-0867-4126-957e-d69b4ef67281",
   "metadata": {
    "tags": []
   },
   "outputs": [
    {
     "data": {
      "text/html": [
       "<div>\n",
       "<style scoped>\n",
       "    .dataframe tbody tr th:only-of-type {\n",
       "        vertical-align: middle;\n",
       "    }\n",
       "\n",
       "    .dataframe tbody tr th {\n",
       "        vertical-align: top;\n",
       "    }\n",
       "\n",
       "    .dataframe thead th {\n",
       "        text-align: right;\n",
       "    }\n",
       "</style>\n",
       "<table border=\"1\" class=\"dataframe\">\n",
       "  <thead>\n",
       "    <tr style=\"text-align: right;\">\n",
       "      <th></th>\n",
       "      <th>model</th>\n",
       "      <th>roc_auc_score</th>\n",
       "      <th>precision</th>\n",
       "      <th>recall</th>\n",
       "      <th>f1_score</th>\n",
       "    </tr>\n",
       "  </thead>\n",
       "  <tbody>\n",
       "    <tr>\n",
       "      <th>0</th>\n",
       "      <td>Logistic regression</td>\n",
       "      <td>0.6764</td>\n",
       "      <td>0.7313</td>\n",
       "      <td>0.3599</td>\n",
       "      <td>0.4824</td>\n",
       "    </tr>\n",
       "    <tr>\n",
       "      <th>1</th>\n",
       "      <td>SGD Classifier</td>\n",
       "      <td>0.5207</td>\n",
       "      <td>0.6034</td>\n",
       "      <td>0.0428</td>\n",
       "      <td>0.0800</td>\n",
       "    </tr>\n",
       "    <tr>\n",
       "      <th>2</th>\n",
       "      <td>Random Forest</td>\n",
       "      <td>0.8991</td>\n",
       "      <td>0.9761</td>\n",
       "      <td>0.7993</td>\n",
       "      <td>0.8789</td>\n",
       "    </tr>\n",
       "    <tr>\n",
       "      <th>3</th>\n",
       "      <td>SVC</td>\n",
       "      <td>0.5000</td>\n",
       "      <td>0.0000</td>\n",
       "      <td>0.0000</td>\n",
       "      <td>0.0000</td>\n",
       "    </tr>\n",
       "    <tr>\n",
       "      <th>4</th>\n",
       "      <td>Naive Bayes</td>\n",
       "      <td>0.7391</td>\n",
       "      <td>0.7439</td>\n",
       "      <td>0.4871</td>\n",
       "      <td>0.5888</td>\n",
       "    </tr>\n",
       "    <tr>\n",
       "      <th>5</th>\n",
       "      <td>XGBoost</td>\n",
       "      <td>0.9435</td>\n",
       "      <td>0.9454</td>\n",
       "      <td>0.8898</td>\n",
       "      <td>0.9168</td>\n",
       "    </tr>\n",
       "  </tbody>\n",
       "</table>\n",
       "</div>"
      ],
      "text/plain": [
       "                 model roc_auc_score precision   recall f1_score\n",
       "0  Logistic regression        0.6764    0.7313   0.3599   0.4824\n",
       "1       SGD Classifier        0.5207    0.6034   0.0428   0.0800\n",
       "2        Random Forest        0.8991    0.9761   0.7993   0.8789\n",
       "3                  SVC        0.5000    0.0000   0.0000   0.0000\n",
       "4          Naive Bayes        0.7391    0.7439   0.4871   0.5888\n",
       "5              XGBoost        0.9435    0.9454   0.8898   0.9168"
      ]
     },
     "metadata": {},
     "output_type": "display_data"
    }
   ],
   "source": [
    "add_model_eval(\n",
    "    'XGBoost', \n",
    "    roc_auc_score(y_val, y_pred_val),\n",
    "    precision_score(y_val, y_pred_val),\n",
    "    recall_score(y_val, y_pred_val), \n",
    "    f1_score(y_val, y_pred_val)\n",
    ")\n",
    "\n",
    "eval_df = view_models_eval()"
   ]
  },
  {
   "cell_type": "code",
   "execution_count": 45,
   "id": "36e8c69b-460c-4e21-8276-27c8c7aa41c6",
   "metadata": {
    "tags": []
   },
   "outputs": [
    {
     "data": {
      "text/html": [
       "<div>\n",
       "<style scoped>\n",
       "    .dataframe tbody tr th:only-of-type {\n",
       "        vertical-align: middle;\n",
       "    }\n",
       "\n",
       "    .dataframe tbody tr th {\n",
       "        vertical-align: top;\n",
       "    }\n",
       "\n",
       "    .dataframe thead th {\n",
       "        text-align: right;\n",
       "    }\n",
       "</style>\n",
       "<table border=\"1\" class=\"dataframe\">\n",
       "  <thead>\n",
       "    <tr style=\"text-align: right;\">\n",
       "      <th></th>\n",
       "      <th>model</th>\n",
       "      <th>roc_auc_score</th>\n",
       "      <th>precision</th>\n",
       "      <th>recall</th>\n",
       "      <th>f1_score</th>\n",
       "    </tr>\n",
       "  </thead>\n",
       "  <tbody>\n",
       "    <tr>\n",
       "      <th>5</th>\n",
       "      <td>XGBoost</td>\n",
       "      <td>0.9435</td>\n",
       "      <td>0.9454</td>\n",
       "      <td>0.8898</td>\n",
       "      <td>0.9168</td>\n",
       "    </tr>\n",
       "    <tr>\n",
       "      <th>2</th>\n",
       "      <td>Random Forest</td>\n",
       "      <td>0.8991</td>\n",
       "      <td>0.9761</td>\n",
       "      <td>0.7993</td>\n",
       "      <td>0.8789</td>\n",
       "    </tr>\n",
       "    <tr>\n",
       "      <th>4</th>\n",
       "      <td>Naive Bayes</td>\n",
       "      <td>0.7391</td>\n",
       "      <td>0.7439</td>\n",
       "      <td>0.4871</td>\n",
       "      <td>0.5888</td>\n",
       "    </tr>\n",
       "    <tr>\n",
       "      <th>0</th>\n",
       "      <td>Logistic regression</td>\n",
       "      <td>0.6764</td>\n",
       "      <td>0.7313</td>\n",
       "      <td>0.3599</td>\n",
       "      <td>0.4824</td>\n",
       "    </tr>\n",
       "    <tr>\n",
       "      <th>1</th>\n",
       "      <td>SGD Classifier</td>\n",
       "      <td>0.5207</td>\n",
       "      <td>0.6034</td>\n",
       "      <td>0.0428</td>\n",
       "      <td>0.0800</td>\n",
       "    </tr>\n",
       "    <tr>\n",
       "      <th>3</th>\n",
       "      <td>SVC</td>\n",
       "      <td>0.5000</td>\n",
       "      <td>0.0000</td>\n",
       "      <td>0.0000</td>\n",
       "      <td>0.0000</td>\n",
       "    </tr>\n",
       "  </tbody>\n",
       "</table>\n",
       "</div>"
      ],
      "text/plain": [
       "                 model roc_auc_score precision   recall f1_score\n",
       "5              XGBoost        0.9435    0.9454   0.8898   0.9168\n",
       "2        Random Forest        0.8991    0.9761   0.7993   0.8789\n",
       "4          Naive Bayes        0.7391    0.7439   0.4871   0.5888\n",
       "0  Logistic regression        0.6764    0.7313   0.3599   0.4824\n",
       "1       SGD Classifier        0.5207    0.6034   0.0428   0.0800\n",
       "3                  SVC        0.5000    0.0000   0.0000   0.0000"
      ]
     },
     "execution_count": 45,
     "metadata": {},
     "output_type": "execute_result"
    }
   ],
   "source": [
    "eval_df.sort_values(by=['roc_auc_score'], ascending=False)"
   ]
  },
  {
   "cell_type": "markdown",
   "id": "6368c287-0a29-4942-a176-b8debbf8a40b",
   "metadata": {},
   "source": [
    "This marks the end of this demo notebook of using the notebook to train the model directly."
   ]
  }
 ],
 "metadata": {
  "availableInstances": [
   {
    "_defaultOrder": 0,
    "_isFastLaunch": true,
    "category": "General purpose",
    "gpuNum": 0,
    "hideHardwareSpecs": false,
    "memoryGiB": 4,
    "name": "ml.t3.medium",
    "vcpuNum": 2
   },
   {
    "_defaultOrder": 1,
    "_isFastLaunch": false,
    "category": "General purpose",
    "gpuNum": 0,
    "hideHardwareSpecs": false,
    "memoryGiB": 8,
    "name": "ml.t3.large",
    "vcpuNum": 2
   },
   {
    "_defaultOrder": 2,
    "_isFastLaunch": false,
    "category": "General purpose",
    "gpuNum": 0,
    "hideHardwareSpecs": false,
    "memoryGiB": 16,
    "name": "ml.t3.xlarge",
    "vcpuNum": 4
   },
   {
    "_defaultOrder": 3,
    "_isFastLaunch": false,
    "category": "General purpose",
    "gpuNum": 0,
    "hideHardwareSpecs": false,
    "memoryGiB": 32,
    "name": "ml.t3.2xlarge",
    "vcpuNum": 8
   },
   {
    "_defaultOrder": 4,
    "_isFastLaunch": true,
    "category": "General purpose",
    "gpuNum": 0,
    "hideHardwareSpecs": false,
    "memoryGiB": 8,
    "name": "ml.m5.large",
    "vcpuNum": 2
   },
   {
    "_defaultOrder": 5,
    "_isFastLaunch": false,
    "category": "General purpose",
    "gpuNum": 0,
    "hideHardwareSpecs": false,
    "memoryGiB": 16,
    "name": "ml.m5.xlarge",
    "vcpuNum": 4
   },
   {
    "_defaultOrder": 6,
    "_isFastLaunch": false,
    "category": "General purpose",
    "gpuNum": 0,
    "hideHardwareSpecs": false,
    "memoryGiB": 32,
    "name": "ml.m5.2xlarge",
    "vcpuNum": 8
   },
   {
    "_defaultOrder": 7,
    "_isFastLaunch": false,
    "category": "General purpose",
    "gpuNum": 0,
    "hideHardwareSpecs": false,
    "memoryGiB": 64,
    "name": "ml.m5.4xlarge",
    "vcpuNum": 16
   },
   {
    "_defaultOrder": 8,
    "_isFastLaunch": false,
    "category": "General purpose",
    "gpuNum": 0,
    "hideHardwareSpecs": false,
    "memoryGiB": 128,
    "name": "ml.m5.8xlarge",
    "vcpuNum": 32
   },
   {
    "_defaultOrder": 9,
    "_isFastLaunch": false,
    "category": "General purpose",
    "gpuNum": 0,
    "hideHardwareSpecs": false,
    "memoryGiB": 192,
    "name": "ml.m5.12xlarge",
    "vcpuNum": 48
   },
   {
    "_defaultOrder": 10,
    "_isFastLaunch": false,
    "category": "General purpose",
    "gpuNum": 0,
    "hideHardwareSpecs": false,
    "memoryGiB": 256,
    "name": "ml.m5.16xlarge",
    "vcpuNum": 64
   },
   {
    "_defaultOrder": 11,
    "_isFastLaunch": false,
    "category": "General purpose",
    "gpuNum": 0,
    "hideHardwareSpecs": false,
    "memoryGiB": 384,
    "name": "ml.m5.24xlarge",
    "vcpuNum": 96
   },
   {
    "_defaultOrder": 12,
    "_isFastLaunch": false,
    "category": "General purpose",
    "gpuNum": 0,
    "hideHardwareSpecs": false,
    "memoryGiB": 8,
    "name": "ml.m5d.large",
    "vcpuNum": 2
   },
   {
    "_defaultOrder": 13,
    "_isFastLaunch": false,
    "category": "General purpose",
    "gpuNum": 0,
    "hideHardwareSpecs": false,
    "memoryGiB": 16,
    "name": "ml.m5d.xlarge",
    "vcpuNum": 4
   },
   {
    "_defaultOrder": 14,
    "_isFastLaunch": false,
    "category": "General purpose",
    "gpuNum": 0,
    "hideHardwareSpecs": false,
    "memoryGiB": 32,
    "name": "ml.m5d.2xlarge",
    "vcpuNum": 8
   },
   {
    "_defaultOrder": 15,
    "_isFastLaunch": false,
    "category": "General purpose",
    "gpuNum": 0,
    "hideHardwareSpecs": false,
    "memoryGiB": 64,
    "name": "ml.m5d.4xlarge",
    "vcpuNum": 16
   },
   {
    "_defaultOrder": 16,
    "_isFastLaunch": false,
    "category": "General purpose",
    "gpuNum": 0,
    "hideHardwareSpecs": false,
    "memoryGiB": 128,
    "name": "ml.m5d.8xlarge",
    "vcpuNum": 32
   },
   {
    "_defaultOrder": 17,
    "_isFastLaunch": false,
    "category": "General purpose",
    "gpuNum": 0,
    "hideHardwareSpecs": false,
    "memoryGiB": 192,
    "name": "ml.m5d.12xlarge",
    "vcpuNum": 48
   },
   {
    "_defaultOrder": 18,
    "_isFastLaunch": false,
    "category": "General purpose",
    "gpuNum": 0,
    "hideHardwareSpecs": false,
    "memoryGiB": 256,
    "name": "ml.m5d.16xlarge",
    "vcpuNum": 64
   },
   {
    "_defaultOrder": 19,
    "_isFastLaunch": false,
    "category": "General purpose",
    "gpuNum": 0,
    "hideHardwareSpecs": false,
    "memoryGiB": 384,
    "name": "ml.m5d.24xlarge",
    "vcpuNum": 96
   },
   {
    "_defaultOrder": 20,
    "_isFastLaunch": false,
    "category": "General purpose",
    "gpuNum": 0,
    "hideHardwareSpecs": true,
    "memoryGiB": 0,
    "name": "ml.geospatial.interactive",
    "supportedImageNames": [
     "sagemaker-geospatial-v1-0"
    ],
    "vcpuNum": 0
   },
   {
    "_defaultOrder": 21,
    "_isFastLaunch": true,
    "category": "Compute optimized",
    "gpuNum": 0,
    "hideHardwareSpecs": false,
    "memoryGiB": 4,
    "name": "ml.c5.large",
    "vcpuNum": 2
   },
   {
    "_defaultOrder": 22,
    "_isFastLaunch": false,
    "category": "Compute optimized",
    "gpuNum": 0,
    "hideHardwareSpecs": false,
    "memoryGiB": 8,
    "name": "ml.c5.xlarge",
    "vcpuNum": 4
   },
   {
    "_defaultOrder": 23,
    "_isFastLaunch": false,
    "category": "Compute optimized",
    "gpuNum": 0,
    "hideHardwareSpecs": false,
    "memoryGiB": 16,
    "name": "ml.c5.2xlarge",
    "vcpuNum": 8
   },
   {
    "_defaultOrder": 24,
    "_isFastLaunch": false,
    "category": "Compute optimized",
    "gpuNum": 0,
    "hideHardwareSpecs": false,
    "memoryGiB": 32,
    "name": "ml.c5.4xlarge",
    "vcpuNum": 16
   },
   {
    "_defaultOrder": 25,
    "_isFastLaunch": false,
    "category": "Compute optimized",
    "gpuNum": 0,
    "hideHardwareSpecs": false,
    "memoryGiB": 72,
    "name": "ml.c5.9xlarge",
    "vcpuNum": 36
   },
   {
    "_defaultOrder": 26,
    "_isFastLaunch": false,
    "category": "Compute optimized",
    "gpuNum": 0,
    "hideHardwareSpecs": false,
    "memoryGiB": 96,
    "name": "ml.c5.12xlarge",
    "vcpuNum": 48
   },
   {
    "_defaultOrder": 27,
    "_isFastLaunch": false,
    "category": "Compute optimized",
    "gpuNum": 0,
    "hideHardwareSpecs": false,
    "memoryGiB": 144,
    "name": "ml.c5.18xlarge",
    "vcpuNum": 72
   },
   {
    "_defaultOrder": 28,
    "_isFastLaunch": false,
    "category": "Compute optimized",
    "gpuNum": 0,
    "hideHardwareSpecs": false,
    "memoryGiB": 192,
    "name": "ml.c5.24xlarge",
    "vcpuNum": 96
   },
   {
    "_defaultOrder": 29,
    "_isFastLaunch": true,
    "category": "Accelerated computing",
    "gpuNum": 1,
    "hideHardwareSpecs": false,
    "memoryGiB": 16,
    "name": "ml.g4dn.xlarge",
    "vcpuNum": 4
   },
   {
    "_defaultOrder": 30,
    "_isFastLaunch": false,
    "category": "Accelerated computing",
    "gpuNum": 1,
    "hideHardwareSpecs": false,
    "memoryGiB": 32,
    "name": "ml.g4dn.2xlarge",
    "vcpuNum": 8
   },
   {
    "_defaultOrder": 31,
    "_isFastLaunch": false,
    "category": "Accelerated computing",
    "gpuNum": 1,
    "hideHardwareSpecs": false,
    "memoryGiB": 64,
    "name": "ml.g4dn.4xlarge",
    "vcpuNum": 16
   },
   {
    "_defaultOrder": 32,
    "_isFastLaunch": false,
    "category": "Accelerated computing",
    "gpuNum": 1,
    "hideHardwareSpecs": false,
    "memoryGiB": 128,
    "name": "ml.g4dn.8xlarge",
    "vcpuNum": 32
   },
   {
    "_defaultOrder": 33,
    "_isFastLaunch": false,
    "category": "Accelerated computing",
    "gpuNum": 4,
    "hideHardwareSpecs": false,
    "memoryGiB": 192,
    "name": "ml.g4dn.12xlarge",
    "vcpuNum": 48
   },
   {
    "_defaultOrder": 34,
    "_isFastLaunch": false,
    "category": "Accelerated computing",
    "gpuNum": 1,
    "hideHardwareSpecs": false,
    "memoryGiB": 256,
    "name": "ml.g4dn.16xlarge",
    "vcpuNum": 64
   },
   {
    "_defaultOrder": 35,
    "_isFastLaunch": false,
    "category": "Accelerated computing",
    "gpuNum": 1,
    "hideHardwareSpecs": false,
    "memoryGiB": 61,
    "name": "ml.p3.2xlarge",
    "vcpuNum": 8
   },
   {
    "_defaultOrder": 36,
    "_isFastLaunch": false,
    "category": "Accelerated computing",
    "gpuNum": 4,
    "hideHardwareSpecs": false,
    "memoryGiB": 244,
    "name": "ml.p3.8xlarge",
    "vcpuNum": 32
   },
   {
    "_defaultOrder": 37,
    "_isFastLaunch": false,
    "category": "Accelerated computing",
    "gpuNum": 8,
    "hideHardwareSpecs": false,
    "memoryGiB": 488,
    "name": "ml.p3.16xlarge",
    "vcpuNum": 64
   },
   {
    "_defaultOrder": 38,
    "_isFastLaunch": false,
    "category": "Accelerated computing",
    "gpuNum": 8,
    "hideHardwareSpecs": false,
    "memoryGiB": 768,
    "name": "ml.p3dn.24xlarge",
    "vcpuNum": 96
   },
   {
    "_defaultOrder": 39,
    "_isFastLaunch": false,
    "category": "Memory Optimized",
    "gpuNum": 0,
    "hideHardwareSpecs": false,
    "memoryGiB": 16,
    "name": "ml.r5.large",
    "vcpuNum": 2
   },
   {
    "_defaultOrder": 40,
    "_isFastLaunch": false,
    "category": "Memory Optimized",
    "gpuNum": 0,
    "hideHardwareSpecs": false,
    "memoryGiB": 32,
    "name": "ml.r5.xlarge",
    "vcpuNum": 4
   },
   {
    "_defaultOrder": 41,
    "_isFastLaunch": false,
    "category": "Memory Optimized",
    "gpuNum": 0,
    "hideHardwareSpecs": false,
    "memoryGiB": 64,
    "name": "ml.r5.2xlarge",
    "vcpuNum": 8
   },
   {
    "_defaultOrder": 42,
    "_isFastLaunch": false,
    "category": "Memory Optimized",
    "gpuNum": 0,
    "hideHardwareSpecs": false,
    "memoryGiB": 128,
    "name": "ml.r5.4xlarge",
    "vcpuNum": 16
   },
   {
    "_defaultOrder": 43,
    "_isFastLaunch": false,
    "category": "Memory Optimized",
    "gpuNum": 0,
    "hideHardwareSpecs": false,
    "memoryGiB": 256,
    "name": "ml.r5.8xlarge",
    "vcpuNum": 32
   },
   {
    "_defaultOrder": 44,
    "_isFastLaunch": false,
    "category": "Memory Optimized",
    "gpuNum": 0,
    "hideHardwareSpecs": false,
    "memoryGiB": 384,
    "name": "ml.r5.12xlarge",
    "vcpuNum": 48
   },
   {
    "_defaultOrder": 45,
    "_isFastLaunch": false,
    "category": "Memory Optimized",
    "gpuNum": 0,
    "hideHardwareSpecs": false,
    "memoryGiB": 512,
    "name": "ml.r5.16xlarge",
    "vcpuNum": 64
   },
   {
    "_defaultOrder": 46,
    "_isFastLaunch": false,
    "category": "Memory Optimized",
    "gpuNum": 0,
    "hideHardwareSpecs": false,
    "memoryGiB": 768,
    "name": "ml.r5.24xlarge",
    "vcpuNum": 96
   },
   {
    "_defaultOrder": 47,
    "_isFastLaunch": false,
    "category": "Accelerated computing",
    "gpuNum": 1,
    "hideHardwareSpecs": false,
    "memoryGiB": 16,
    "name": "ml.g5.xlarge",
    "vcpuNum": 4
   },
   {
    "_defaultOrder": 48,
    "_isFastLaunch": false,
    "category": "Accelerated computing",
    "gpuNum": 1,
    "hideHardwareSpecs": false,
    "memoryGiB": 32,
    "name": "ml.g5.2xlarge",
    "vcpuNum": 8
   },
   {
    "_defaultOrder": 49,
    "_isFastLaunch": false,
    "category": "Accelerated computing",
    "gpuNum": 1,
    "hideHardwareSpecs": false,
    "memoryGiB": 64,
    "name": "ml.g5.4xlarge",
    "vcpuNum": 16
   },
   {
    "_defaultOrder": 50,
    "_isFastLaunch": false,
    "category": "Accelerated computing",
    "gpuNum": 1,
    "hideHardwareSpecs": false,
    "memoryGiB": 128,
    "name": "ml.g5.8xlarge",
    "vcpuNum": 32
   },
   {
    "_defaultOrder": 51,
    "_isFastLaunch": false,
    "category": "Accelerated computing",
    "gpuNum": 1,
    "hideHardwareSpecs": false,
    "memoryGiB": 256,
    "name": "ml.g5.16xlarge",
    "vcpuNum": 64
   },
   {
    "_defaultOrder": 52,
    "_isFastLaunch": false,
    "category": "Accelerated computing",
    "gpuNum": 4,
    "hideHardwareSpecs": false,
    "memoryGiB": 192,
    "name": "ml.g5.12xlarge",
    "vcpuNum": 48
   },
   {
    "_defaultOrder": 53,
    "_isFastLaunch": false,
    "category": "Accelerated computing",
    "gpuNum": 4,
    "hideHardwareSpecs": false,
    "memoryGiB": 384,
    "name": "ml.g5.24xlarge",
    "vcpuNum": 96
   },
   {
    "_defaultOrder": 54,
    "_isFastLaunch": false,
    "category": "Accelerated computing",
    "gpuNum": 8,
    "hideHardwareSpecs": false,
    "memoryGiB": 768,
    "name": "ml.g5.48xlarge",
    "vcpuNum": 192
   },
   {
    "_defaultOrder": 55,
    "_isFastLaunch": false,
    "category": "Accelerated computing",
    "gpuNum": 8,
    "hideHardwareSpecs": false,
    "memoryGiB": 1152,
    "name": "ml.p4d.24xlarge",
    "vcpuNum": 96
   },
   {
    "_defaultOrder": 56,
    "_isFastLaunch": false,
    "category": "Accelerated computing",
    "gpuNum": 8,
    "hideHardwareSpecs": false,
    "memoryGiB": 1152,
    "name": "ml.p4de.24xlarge",
    "vcpuNum": 96
   }
  ],
  "instance_type": "ml.t3.medium",
  "kernelspec": {
   "display_name": "Python 3 (Data Science 3.0)",
   "language": "python",
   "name": "python3__SAGEMAKER_INTERNAL__arn:aws:sagemaker:us-west-2:236514542706:image/sagemaker-data-science-310-v1"
  },
  "language_info": {
   "codemirror_mode": {
    "name": "ipython",
    "version": 3
   },
   "file_extension": ".py",
   "mimetype": "text/x-python",
   "name": "python",
   "nbconvert_exporter": "python",
   "pygments_lexer": "ipython3",
   "version": "3.10.6"
  }
 },
 "nbformat": 4,
 "nbformat_minor": 5
}
